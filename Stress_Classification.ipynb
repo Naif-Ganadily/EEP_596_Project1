{
  "cells": [
    {
      "cell_type": "markdown",
      "source": [
        "# Mini Project (Stress Classification + Kaggle)\n",
        "\n",
        "### Student - Naif A. Ganadily\n",
        "### Instructor - Prof. Karthik Mohan <br>\n",
        "### TA - Ayush Singh <br>\n",
        "### Grader - Fatwir SM"
      ],
      "metadata": {
        "id": "IIAmWERAC2jH"
      }
    },
    {
      "cell_type": "code",
      "execution_count": 2,
      "metadata": {
        "id": "CXQsfj5ze2_a"
      },
      "outputs": [],
      "source": [
        "import pandas as pd\n",
        "import numpy as np\n",
        "import matplotlib.pyplot as plt\n",
        "import seaborn as sns\n",
        "\n",
        "from sklearn.model_selection import train_test_split\n",
        "from sklearn.preprocessing import StandardScaler\n",
        "from sklearn.metrics import confusion_matrix, classification_report, accuracy_score, f1_score\n",
        "from sklearn.linear_model import LogisticRegression\n",
        "from sklearn import tree\n"
      ]
    },
    {
      "cell_type": "code",
      "execution_count": 11,
      "metadata": {
        "id": "PAIZuNocfvj6",
        "colab": {
          "base_uri": "https://localhost:8080/",
          "height": 885
        },
        "outputId": "3df13045-04d8-4f8a-f97b-ae3193e96ca1"
      },
      "outputs": [
        {
          "output_type": "display_data",
          "data": {
            "text/plain": [
              "      Id         HR  interval in seconds      NNRR      AVNN      SDNN  \\\n",
              "0      0  95.135158             0.890853  0.974164  0.889935  0.096018   \n",
              "1      1  82.564200             0.628600  0.980480  0.629127  0.085506   \n",
              "2      2  90.010889             0.944939  0.972702  0.943657  0.121277   \n",
              "3      3  81.102854             0.811532  0.976090  0.811925  0.049806   \n",
              "4      4  89.572000             0.844262  0.974839  0.843826  0.050792   \n",
              "..   ...        ...                  ...       ...       ...       ...   \n",
              "995  995  76.003579             0.860537  0.974164  0.860530  0.113934   \n",
              "996  996  65.485229             1.016943  0.971909  1.015859  0.099349   \n",
              "997  997  70.635158             0.892563  0.974164  0.891692  0.092064   \n",
              "998  998  81.622000             0.818675  0.975480  0.819262  0.072122   \n",
              "999  999  70.234789             0.899405  0.974164  0.898719  0.073491   \n",
              "\n",
              "        RMSSD     pNN50        TP       ULF       VLF   LF   HF  LF_HF  \n",
              "0    0.046200  0.032778  0.105342  0.105342  0.000640  0.0  0.0    NaN  \n",
              "1    0.040439  0.025833  0.104875  0.104875  0.000640  0.0  0.0    NaN  \n",
              "2    0.058594  0.034412  0.166643  0.166643  0.000640  0.0  0.0    NaN  \n",
              "3    0.023856  0.030641  0.026524  0.026524  0.000640  0.0  0.0    NaN  \n",
              "4    0.024407  0.032027  0.025992  0.025992  0.000640  0.0  0.0    NaN  \n",
              "..        ...       ...       ...       ...       ...  ...  ...    ...  \n",
              "995  0.053516  0.199444  0.142094  0.142094  0.000640  0.0  0.0    NaN  \n",
              "996  0.048112  0.035303  0.106505  0.106505  0.000640  0.0  0.0    NaN  \n",
              "997  0.048848  0.088333  0.096370  0.096370  0.000640  0.0  0.0    NaN  \n",
              "998  0.028896  0.083947  0.050305  0.050305  0.000640  0.0  0.0    NaN  \n",
              "999  0.035367  0.032778  0.055585  0.041149  0.015076  0.0  0.0    NaN  \n",
              "\n",
              "[1000 rows x 14 columns]"
            ],
            "text/html": [
              "\n",
              "  <div id=\"df-730e67d1-1d18-4aa8-8f67-d8af2e6e496c\">\n",
              "    <div class=\"colab-df-container\">\n",
              "      <div>\n",
              "<style scoped>\n",
              "    .dataframe tbody tr th:only-of-type {\n",
              "        vertical-align: middle;\n",
              "    }\n",
              "\n",
              "    .dataframe tbody tr th {\n",
              "        vertical-align: top;\n",
              "    }\n",
              "\n",
              "    .dataframe thead th {\n",
              "        text-align: right;\n",
              "    }\n",
              "</style>\n",
              "<table border=\"1\" class=\"dataframe\">\n",
              "  <thead>\n",
              "    <tr style=\"text-align: right;\">\n",
              "      <th></th>\n",
              "      <th>Id</th>\n",
              "      <th>HR</th>\n",
              "      <th>interval in seconds</th>\n",
              "      <th>NNRR</th>\n",
              "      <th>AVNN</th>\n",
              "      <th>SDNN</th>\n",
              "      <th>RMSSD</th>\n",
              "      <th>pNN50</th>\n",
              "      <th>TP</th>\n",
              "      <th>ULF</th>\n",
              "      <th>VLF</th>\n",
              "      <th>LF</th>\n",
              "      <th>HF</th>\n",
              "      <th>LF_HF</th>\n",
              "    </tr>\n",
              "  </thead>\n",
              "  <tbody>\n",
              "    <tr>\n",
              "      <th>0</th>\n",
              "      <td>0</td>\n",
              "      <td>95.135158</td>\n",
              "      <td>0.890853</td>\n",
              "      <td>0.974164</td>\n",
              "      <td>0.889935</td>\n",
              "      <td>0.096018</td>\n",
              "      <td>0.046200</td>\n",
              "      <td>0.032778</td>\n",
              "      <td>0.105342</td>\n",
              "      <td>0.105342</td>\n",
              "      <td>0.000640</td>\n",
              "      <td>0.0</td>\n",
              "      <td>0.0</td>\n",
              "      <td>NaN</td>\n",
              "    </tr>\n",
              "    <tr>\n",
              "      <th>1</th>\n",
              "      <td>1</td>\n",
              "      <td>82.564200</td>\n",
              "      <td>0.628600</td>\n",
              "      <td>0.980480</td>\n",
              "      <td>0.629127</td>\n",
              "      <td>0.085506</td>\n",
              "      <td>0.040439</td>\n",
              "      <td>0.025833</td>\n",
              "      <td>0.104875</td>\n",
              "      <td>0.104875</td>\n",
              "      <td>0.000640</td>\n",
              "      <td>0.0</td>\n",
              "      <td>0.0</td>\n",
              "      <td>NaN</td>\n",
              "    </tr>\n",
              "    <tr>\n",
              "      <th>2</th>\n",
              "      <td>2</td>\n",
              "      <td>90.010889</td>\n",
              "      <td>0.944939</td>\n",
              "      <td>0.972702</td>\n",
              "      <td>0.943657</td>\n",
              "      <td>0.121277</td>\n",
              "      <td>0.058594</td>\n",
              "      <td>0.034412</td>\n",
              "      <td>0.166643</td>\n",
              "      <td>0.166643</td>\n",
              "      <td>0.000640</td>\n",
              "      <td>0.0</td>\n",
              "      <td>0.0</td>\n",
              "      <td>NaN</td>\n",
              "    </tr>\n",
              "    <tr>\n",
              "      <th>3</th>\n",
              "      <td>3</td>\n",
              "      <td>81.102854</td>\n",
              "      <td>0.811532</td>\n",
              "      <td>0.976090</td>\n",
              "      <td>0.811925</td>\n",
              "      <td>0.049806</td>\n",
              "      <td>0.023856</td>\n",
              "      <td>0.030641</td>\n",
              "      <td>0.026524</td>\n",
              "      <td>0.026524</td>\n",
              "      <td>0.000640</td>\n",
              "      <td>0.0</td>\n",
              "      <td>0.0</td>\n",
              "      <td>NaN</td>\n",
              "    </tr>\n",
              "    <tr>\n",
              "      <th>4</th>\n",
              "      <td>4</td>\n",
              "      <td>89.572000</td>\n",
              "      <td>0.844262</td>\n",
              "      <td>0.974839</td>\n",
              "      <td>0.843826</td>\n",
              "      <td>0.050792</td>\n",
              "      <td>0.024407</td>\n",
              "      <td>0.032027</td>\n",
              "      <td>0.025992</td>\n",
              "      <td>0.025992</td>\n",
              "      <td>0.000640</td>\n",
              "      <td>0.0</td>\n",
              "      <td>0.0</td>\n",
              "      <td>NaN</td>\n",
              "    </tr>\n",
              "    <tr>\n",
              "      <th>...</th>\n",
              "      <td>...</td>\n",
              "      <td>...</td>\n",
              "      <td>...</td>\n",
              "      <td>...</td>\n",
              "      <td>...</td>\n",
              "      <td>...</td>\n",
              "      <td>...</td>\n",
              "      <td>...</td>\n",
              "      <td>...</td>\n",
              "      <td>...</td>\n",
              "      <td>...</td>\n",
              "      <td>...</td>\n",
              "      <td>...</td>\n",
              "      <td>...</td>\n",
              "    </tr>\n",
              "    <tr>\n",
              "      <th>995</th>\n",
              "      <td>995</td>\n",
              "      <td>76.003579</td>\n",
              "      <td>0.860537</td>\n",
              "      <td>0.974164</td>\n",
              "      <td>0.860530</td>\n",
              "      <td>0.113934</td>\n",
              "      <td>0.053516</td>\n",
              "      <td>0.199444</td>\n",
              "      <td>0.142094</td>\n",
              "      <td>0.142094</td>\n",
              "      <td>0.000640</td>\n",
              "      <td>0.0</td>\n",
              "      <td>0.0</td>\n",
              "      <td>NaN</td>\n",
              "    </tr>\n",
              "    <tr>\n",
              "      <th>996</th>\n",
              "      <td>996</td>\n",
              "      <td>65.485229</td>\n",
              "      <td>1.016943</td>\n",
              "      <td>0.971909</td>\n",
              "      <td>1.015859</td>\n",
              "      <td>0.099349</td>\n",
              "      <td>0.048112</td>\n",
              "      <td>0.035303</td>\n",
              "      <td>0.106505</td>\n",
              "      <td>0.106505</td>\n",
              "      <td>0.000640</td>\n",
              "      <td>0.0</td>\n",
              "      <td>0.0</td>\n",
              "      <td>NaN</td>\n",
              "    </tr>\n",
              "    <tr>\n",
              "      <th>997</th>\n",
              "      <td>997</td>\n",
              "      <td>70.635158</td>\n",
              "      <td>0.892563</td>\n",
              "      <td>0.974164</td>\n",
              "      <td>0.891692</td>\n",
              "      <td>0.092064</td>\n",
              "      <td>0.048848</td>\n",
              "      <td>0.088333</td>\n",
              "      <td>0.096370</td>\n",
              "      <td>0.096370</td>\n",
              "      <td>0.000640</td>\n",
              "      <td>0.0</td>\n",
              "      <td>0.0</td>\n",
              "      <td>NaN</td>\n",
              "    </tr>\n",
              "    <tr>\n",
              "      <th>998</th>\n",
              "      <td>998</td>\n",
              "      <td>81.622000</td>\n",
              "      <td>0.818675</td>\n",
              "      <td>0.975480</td>\n",
              "      <td>0.819262</td>\n",
              "      <td>0.072122</td>\n",
              "      <td>0.028896</td>\n",
              "      <td>0.083947</td>\n",
              "      <td>0.050305</td>\n",
              "      <td>0.050305</td>\n",
              "      <td>0.000640</td>\n",
              "      <td>0.0</td>\n",
              "      <td>0.0</td>\n",
              "      <td>NaN</td>\n",
              "    </tr>\n",
              "    <tr>\n",
              "      <th>999</th>\n",
              "      <td>999</td>\n",
              "      <td>70.234789</td>\n",
              "      <td>0.899405</td>\n",
              "      <td>0.974164</td>\n",
              "      <td>0.898719</td>\n",
              "      <td>0.073491</td>\n",
              "      <td>0.035367</td>\n",
              "      <td>0.032778</td>\n",
              "      <td>0.055585</td>\n",
              "      <td>0.041149</td>\n",
              "      <td>0.015076</td>\n",
              "      <td>0.0</td>\n",
              "      <td>0.0</td>\n",
              "      <td>NaN</td>\n",
              "    </tr>\n",
              "  </tbody>\n",
              "</table>\n",
              "<p>1000 rows × 14 columns</p>\n",
              "</div>\n",
              "      <button class=\"colab-df-convert\" onclick=\"convertToInteractive('df-730e67d1-1d18-4aa8-8f67-d8af2e6e496c')\"\n",
              "              title=\"Convert this dataframe to an interactive table.\"\n",
              "              style=\"display:none;\">\n",
              "        \n",
              "  <svg xmlns=\"http://www.w3.org/2000/svg\" height=\"24px\"viewBox=\"0 0 24 24\"\n",
              "       width=\"24px\">\n",
              "    <path d=\"M0 0h24v24H0V0z\" fill=\"none\"/>\n",
              "    <path d=\"M18.56 5.44l.94 2.06.94-2.06 2.06-.94-2.06-.94-.94-2.06-.94 2.06-2.06.94zm-11 1L8.5 8.5l.94-2.06 2.06-.94-2.06-.94L8.5 2.5l-.94 2.06-2.06.94zm10 10l.94 2.06.94-2.06 2.06-.94-2.06-.94-.94-2.06-.94 2.06-2.06.94z\"/><path d=\"M17.41 7.96l-1.37-1.37c-.4-.4-.92-.59-1.43-.59-.52 0-1.04.2-1.43.59L10.3 9.45l-7.72 7.72c-.78.78-.78 2.05 0 2.83L4 21.41c.39.39.9.59 1.41.59.51 0 1.02-.2 1.41-.59l7.78-7.78 2.81-2.81c.8-.78.8-2.07 0-2.86zM5.41 20L4 18.59l7.72-7.72 1.47 1.35L5.41 20z\"/>\n",
              "  </svg>\n",
              "      </button>\n",
              "      \n",
              "  <style>\n",
              "    .colab-df-container {\n",
              "      display:flex;\n",
              "      flex-wrap:wrap;\n",
              "      gap: 12px;\n",
              "    }\n",
              "\n",
              "    .colab-df-convert {\n",
              "      background-color: #E8F0FE;\n",
              "      border: none;\n",
              "      border-radius: 50%;\n",
              "      cursor: pointer;\n",
              "      display: none;\n",
              "      fill: #1967D2;\n",
              "      height: 32px;\n",
              "      padding: 0 0 0 0;\n",
              "      width: 32px;\n",
              "    }\n",
              "\n",
              "    .colab-df-convert:hover {\n",
              "      background-color: #E2EBFA;\n",
              "      box-shadow: 0px 1px 2px rgba(60, 64, 67, 0.3), 0px 1px 3px 1px rgba(60, 64, 67, 0.15);\n",
              "      fill: #174EA6;\n",
              "    }\n",
              "\n",
              "    [theme=dark] .colab-df-convert {\n",
              "      background-color: #3B4455;\n",
              "      fill: #D2E3FC;\n",
              "    }\n",
              "\n",
              "    [theme=dark] .colab-df-convert:hover {\n",
              "      background-color: #434B5C;\n",
              "      box-shadow: 0px 1px 3px 1px rgba(0, 0, 0, 0.15);\n",
              "      filter: drop-shadow(0px 1px 2px rgba(0, 0, 0, 0.3));\n",
              "      fill: #FFFFFF;\n",
              "    }\n",
              "  </style>\n",
              "\n",
              "      <script>\n",
              "        const buttonEl =\n",
              "          document.querySelector('#df-730e67d1-1d18-4aa8-8f67-d8af2e6e496c button.colab-df-convert');\n",
              "        buttonEl.style.display =\n",
              "          google.colab.kernel.accessAllowed ? 'block' : 'none';\n",
              "\n",
              "        async function convertToInteractive(key) {\n",
              "          const element = document.querySelector('#df-730e67d1-1d18-4aa8-8f67-d8af2e6e496c');\n",
              "          const dataTable =\n",
              "            await google.colab.kernel.invokeFunction('convertToInteractive',\n",
              "                                                     [key], {});\n",
              "          if (!dataTable) return;\n",
              "\n",
              "          const docLinkHtml = 'Like what you see? Visit the ' +\n",
              "            '<a target=\"_blank\" href=https://colab.research.google.com/notebooks/data_table.ipynb>data table notebook</a>'\n",
              "            + ' to learn more about interactive tables.';\n",
              "          element.innerHTML = '';\n",
              "          dataTable['output_type'] = 'display_data';\n",
              "          await google.colab.output.renderOutput(dataTable, element);\n",
              "          const docLink = document.createElement('div');\n",
              "          docLink.innerHTML = docLinkHtml;\n",
              "          element.appendChild(docLink);\n",
              "        }\n",
              "      </script>\n",
              "    </div>\n",
              "  </div>\n",
              "  "
            ]
          },
          "metadata": {}
        },
        {
          "output_type": "display_data",
          "data": {
            "text/plain": [
              "        Id          HR  interval in seconds      NNRR      AVNN      SDNN  \\\n",
              "0     1001  108.329447             0.668183  0.979203  0.666800  0.006600   \n",
              "1     1002   91.074128             0.666800  0.979203  0.666800  0.006600   \n",
              "2     1003   92.201787             0.666800  0.979203  0.666800  0.006600   \n",
              "3     1004   94.776255             0.666800  0.979203  0.666800  0.006600   \n",
              "4     1005         NaN             0.676691  0.978741  0.676911  0.030424   \n",
              "...    ...         ...                  ...       ...       ...       ...   \n",
              "3124  4125         NaN             0.894274  0.974164  0.893449  0.087878   \n",
              "3125  4126         NaN             0.899405  0.974164  0.898719  0.073491   \n",
              "3126  4127         NaN             0.934106  0.972702  0.934371  0.095306   \n",
              "3127  4128         NaN             0.930341  0.973453  0.928689  0.116824   \n",
              "3128  4129         NaN             0.863826  0.974839  0.860511  0.090094   \n",
              "\n",
              "         RMSSD     pNN50        TP       ULF       VLF        LF        HF  \\\n",
              "0     0.003200  0.005000       NaN  0.000000       NaN       NaN       NaN   \n",
              "1     0.003200  0.005000       NaN  0.000000       NaN       NaN       NaN   \n",
              "2     0.003200  0.005000       NaN  0.000000       NaN       NaN       NaN   \n",
              "3     0.003200  0.005000       NaN  0.000000       NaN       NaN       NaN   \n",
              "4     0.012999  0.027727  0.000548  0.000000  0.000863  0.000292  0.000033   \n",
              "...        ...       ...       ...       ...       ...       ...       ...   \n",
              "3124  0.048848  0.088333  0.085428  0.085428  0.000640  0.000000  0.000000   \n",
              "3125  0.035367  0.032778  0.059481  0.059481  0.000640  0.000000  0.000000   \n",
              "3126  0.048829  0.063824  0.090722  0.090722  0.000640  0.000000  0.000000   \n",
              "3127  0.048173  0.062143  0.153265  0.153265  0.000640  0.000000  0.000000   \n",
              "3128  0.029174  0.086081  0.087479  0.087479  0.000640  0.000000  0.000000   \n",
              "\n",
              "        LF_HF  stress  \n",
              "0         NaN     0.0  \n",
              "1         NaN     0.0  \n",
              "2         NaN     0.0  \n",
              "3         NaN     0.0  \n",
              "4     8.79347     0.0  \n",
              "...       ...     ...  \n",
              "3124      NaN     1.0  \n",
              "3125      NaN     1.0  \n",
              "3126      NaN     1.0  \n",
              "3127      NaN     1.0  \n",
              "3128      NaN     1.0  \n",
              "\n",
              "[3129 rows x 15 columns]"
            ],
            "text/html": [
              "\n",
              "  <div id=\"df-c001bcf4-48ac-486c-aeba-643686bff5fd\">\n",
              "    <div class=\"colab-df-container\">\n",
              "      <div>\n",
              "<style scoped>\n",
              "    .dataframe tbody tr th:only-of-type {\n",
              "        vertical-align: middle;\n",
              "    }\n",
              "\n",
              "    .dataframe tbody tr th {\n",
              "        vertical-align: top;\n",
              "    }\n",
              "\n",
              "    .dataframe thead th {\n",
              "        text-align: right;\n",
              "    }\n",
              "</style>\n",
              "<table border=\"1\" class=\"dataframe\">\n",
              "  <thead>\n",
              "    <tr style=\"text-align: right;\">\n",
              "      <th></th>\n",
              "      <th>Id</th>\n",
              "      <th>HR</th>\n",
              "      <th>interval in seconds</th>\n",
              "      <th>NNRR</th>\n",
              "      <th>AVNN</th>\n",
              "      <th>SDNN</th>\n",
              "      <th>RMSSD</th>\n",
              "      <th>pNN50</th>\n",
              "      <th>TP</th>\n",
              "      <th>ULF</th>\n",
              "      <th>VLF</th>\n",
              "      <th>LF</th>\n",
              "      <th>HF</th>\n",
              "      <th>LF_HF</th>\n",
              "      <th>stress</th>\n",
              "    </tr>\n",
              "  </thead>\n",
              "  <tbody>\n",
              "    <tr>\n",
              "      <th>0</th>\n",
              "      <td>1001</td>\n",
              "      <td>108.329447</td>\n",
              "      <td>0.668183</td>\n",
              "      <td>0.979203</td>\n",
              "      <td>0.666800</td>\n",
              "      <td>0.006600</td>\n",
              "      <td>0.003200</td>\n",
              "      <td>0.005000</td>\n",
              "      <td>NaN</td>\n",
              "      <td>0.000000</td>\n",
              "      <td>NaN</td>\n",
              "      <td>NaN</td>\n",
              "      <td>NaN</td>\n",
              "      <td>NaN</td>\n",
              "      <td>0.0</td>\n",
              "    </tr>\n",
              "    <tr>\n",
              "      <th>1</th>\n",
              "      <td>1002</td>\n",
              "      <td>91.074128</td>\n",
              "      <td>0.666800</td>\n",
              "      <td>0.979203</td>\n",
              "      <td>0.666800</td>\n",
              "      <td>0.006600</td>\n",
              "      <td>0.003200</td>\n",
              "      <td>0.005000</td>\n",
              "      <td>NaN</td>\n",
              "      <td>0.000000</td>\n",
              "      <td>NaN</td>\n",
              "      <td>NaN</td>\n",
              "      <td>NaN</td>\n",
              "      <td>NaN</td>\n",
              "      <td>0.0</td>\n",
              "    </tr>\n",
              "    <tr>\n",
              "      <th>2</th>\n",
              "      <td>1003</td>\n",
              "      <td>92.201787</td>\n",
              "      <td>0.666800</td>\n",
              "      <td>0.979203</td>\n",
              "      <td>0.666800</td>\n",
              "      <td>0.006600</td>\n",
              "      <td>0.003200</td>\n",
              "      <td>0.005000</td>\n",
              "      <td>NaN</td>\n",
              "      <td>0.000000</td>\n",
              "      <td>NaN</td>\n",
              "      <td>NaN</td>\n",
              "      <td>NaN</td>\n",
              "      <td>NaN</td>\n",
              "      <td>0.0</td>\n",
              "    </tr>\n",
              "    <tr>\n",
              "      <th>3</th>\n",
              "      <td>1004</td>\n",
              "      <td>94.776255</td>\n",
              "      <td>0.666800</td>\n",
              "      <td>0.979203</td>\n",
              "      <td>0.666800</td>\n",
              "      <td>0.006600</td>\n",
              "      <td>0.003200</td>\n",
              "      <td>0.005000</td>\n",
              "      <td>NaN</td>\n",
              "      <td>0.000000</td>\n",
              "      <td>NaN</td>\n",
              "      <td>NaN</td>\n",
              "      <td>NaN</td>\n",
              "      <td>NaN</td>\n",
              "      <td>0.0</td>\n",
              "    </tr>\n",
              "    <tr>\n",
              "      <th>4</th>\n",
              "      <td>1005</td>\n",
              "      <td>NaN</td>\n",
              "      <td>0.676691</td>\n",
              "      <td>0.978741</td>\n",
              "      <td>0.676911</td>\n",
              "      <td>0.030424</td>\n",
              "      <td>0.012999</td>\n",
              "      <td>0.027727</td>\n",
              "      <td>0.000548</td>\n",
              "      <td>0.000000</td>\n",
              "      <td>0.000863</td>\n",
              "      <td>0.000292</td>\n",
              "      <td>0.000033</td>\n",
              "      <td>8.79347</td>\n",
              "      <td>0.0</td>\n",
              "    </tr>\n",
              "    <tr>\n",
              "      <th>...</th>\n",
              "      <td>...</td>\n",
              "      <td>...</td>\n",
              "      <td>...</td>\n",
              "      <td>...</td>\n",
              "      <td>...</td>\n",
              "      <td>...</td>\n",
              "      <td>...</td>\n",
              "      <td>...</td>\n",
              "      <td>...</td>\n",
              "      <td>...</td>\n",
              "      <td>...</td>\n",
              "      <td>...</td>\n",
              "      <td>...</td>\n",
              "      <td>...</td>\n",
              "      <td>...</td>\n",
              "    </tr>\n",
              "    <tr>\n",
              "      <th>3124</th>\n",
              "      <td>4125</td>\n",
              "      <td>NaN</td>\n",
              "      <td>0.894274</td>\n",
              "      <td>0.974164</td>\n",
              "      <td>0.893449</td>\n",
              "      <td>0.087878</td>\n",
              "      <td>0.048848</td>\n",
              "      <td>0.088333</td>\n",
              "      <td>0.085428</td>\n",
              "      <td>0.085428</td>\n",
              "      <td>0.000640</td>\n",
              "      <td>0.000000</td>\n",
              "      <td>0.000000</td>\n",
              "      <td>NaN</td>\n",
              "      <td>1.0</td>\n",
              "    </tr>\n",
              "    <tr>\n",
              "      <th>3125</th>\n",
              "      <td>4126</td>\n",
              "      <td>NaN</td>\n",
              "      <td>0.899405</td>\n",
              "      <td>0.974164</td>\n",
              "      <td>0.898719</td>\n",
              "      <td>0.073491</td>\n",
              "      <td>0.035367</td>\n",
              "      <td>0.032778</td>\n",
              "      <td>0.059481</td>\n",
              "      <td>0.059481</td>\n",
              "      <td>0.000640</td>\n",
              "      <td>0.000000</td>\n",
              "      <td>0.000000</td>\n",
              "      <td>NaN</td>\n",
              "      <td>1.0</td>\n",
              "    </tr>\n",
              "    <tr>\n",
              "      <th>3126</th>\n",
              "      <td>4127</td>\n",
              "      <td>NaN</td>\n",
              "      <td>0.934106</td>\n",
              "      <td>0.972702</td>\n",
              "      <td>0.934371</td>\n",
              "      <td>0.095306</td>\n",
              "      <td>0.048829</td>\n",
              "      <td>0.063824</td>\n",
              "      <td>0.090722</td>\n",
              "      <td>0.090722</td>\n",
              "      <td>0.000640</td>\n",
              "      <td>0.000000</td>\n",
              "      <td>0.000000</td>\n",
              "      <td>NaN</td>\n",
              "      <td>1.0</td>\n",
              "    </tr>\n",
              "    <tr>\n",
              "      <th>3127</th>\n",
              "      <td>4128</td>\n",
              "      <td>NaN</td>\n",
              "      <td>0.930341</td>\n",
              "      <td>0.973453</td>\n",
              "      <td>0.928689</td>\n",
              "      <td>0.116824</td>\n",
              "      <td>0.048173</td>\n",
              "      <td>0.062143</td>\n",
              "      <td>0.153265</td>\n",
              "      <td>0.153265</td>\n",
              "      <td>0.000640</td>\n",
              "      <td>0.000000</td>\n",
              "      <td>0.000000</td>\n",
              "      <td>NaN</td>\n",
              "      <td>1.0</td>\n",
              "    </tr>\n",
              "    <tr>\n",
              "      <th>3128</th>\n",
              "      <td>4129</td>\n",
              "      <td>NaN</td>\n",
              "      <td>0.863826</td>\n",
              "      <td>0.974839</td>\n",
              "      <td>0.860511</td>\n",
              "      <td>0.090094</td>\n",
              "      <td>0.029174</td>\n",
              "      <td>0.086081</td>\n",
              "      <td>0.087479</td>\n",
              "      <td>0.087479</td>\n",
              "      <td>0.000640</td>\n",
              "      <td>0.000000</td>\n",
              "      <td>0.000000</td>\n",
              "      <td>NaN</td>\n",
              "      <td>1.0</td>\n",
              "    </tr>\n",
              "  </tbody>\n",
              "</table>\n",
              "<p>3129 rows × 15 columns</p>\n",
              "</div>\n",
              "      <button class=\"colab-df-convert\" onclick=\"convertToInteractive('df-c001bcf4-48ac-486c-aeba-643686bff5fd')\"\n",
              "              title=\"Convert this dataframe to an interactive table.\"\n",
              "              style=\"display:none;\">\n",
              "        \n",
              "  <svg xmlns=\"http://www.w3.org/2000/svg\" height=\"24px\"viewBox=\"0 0 24 24\"\n",
              "       width=\"24px\">\n",
              "    <path d=\"M0 0h24v24H0V0z\" fill=\"none\"/>\n",
              "    <path d=\"M18.56 5.44l.94 2.06.94-2.06 2.06-.94-2.06-.94-.94-2.06-.94 2.06-2.06.94zm-11 1L8.5 8.5l.94-2.06 2.06-.94-2.06-.94L8.5 2.5l-.94 2.06-2.06.94zm10 10l.94 2.06.94-2.06 2.06-.94-2.06-.94-.94-2.06-.94 2.06-2.06.94z\"/><path d=\"M17.41 7.96l-1.37-1.37c-.4-.4-.92-.59-1.43-.59-.52 0-1.04.2-1.43.59L10.3 9.45l-7.72 7.72c-.78.78-.78 2.05 0 2.83L4 21.41c.39.39.9.59 1.41.59.51 0 1.02-.2 1.41-.59l7.78-7.78 2.81-2.81c.8-.78.8-2.07 0-2.86zM5.41 20L4 18.59l7.72-7.72 1.47 1.35L5.41 20z\"/>\n",
              "  </svg>\n",
              "      </button>\n",
              "      \n",
              "  <style>\n",
              "    .colab-df-container {\n",
              "      display:flex;\n",
              "      flex-wrap:wrap;\n",
              "      gap: 12px;\n",
              "    }\n",
              "\n",
              "    .colab-df-convert {\n",
              "      background-color: #E8F0FE;\n",
              "      border: none;\n",
              "      border-radius: 50%;\n",
              "      cursor: pointer;\n",
              "      display: none;\n",
              "      fill: #1967D2;\n",
              "      height: 32px;\n",
              "      padding: 0 0 0 0;\n",
              "      width: 32px;\n",
              "    }\n",
              "\n",
              "    .colab-df-convert:hover {\n",
              "      background-color: #E2EBFA;\n",
              "      box-shadow: 0px 1px 2px rgba(60, 64, 67, 0.3), 0px 1px 3px 1px rgba(60, 64, 67, 0.15);\n",
              "      fill: #174EA6;\n",
              "    }\n",
              "\n",
              "    [theme=dark] .colab-df-convert {\n",
              "      background-color: #3B4455;\n",
              "      fill: #D2E3FC;\n",
              "    }\n",
              "\n",
              "    [theme=dark] .colab-df-convert:hover {\n",
              "      background-color: #434B5C;\n",
              "      box-shadow: 0px 1px 3px 1px rgba(0, 0, 0, 0.15);\n",
              "      filter: drop-shadow(0px 1px 2px rgba(0, 0, 0, 0.3));\n",
              "      fill: #FFFFFF;\n",
              "    }\n",
              "  </style>\n",
              "\n",
              "      <script>\n",
              "        const buttonEl =\n",
              "          document.querySelector('#df-c001bcf4-48ac-486c-aeba-643686bff5fd button.colab-df-convert');\n",
              "        buttonEl.style.display =\n",
              "          google.colab.kernel.accessAllowed ? 'block' : 'none';\n",
              "\n",
              "        async function convertToInteractive(key) {\n",
              "          const element = document.querySelector('#df-c001bcf4-48ac-486c-aeba-643686bff5fd');\n",
              "          const dataTable =\n",
              "            await google.colab.kernel.invokeFunction('convertToInteractive',\n",
              "                                                     [key], {});\n",
              "          if (!dataTable) return;\n",
              "\n",
              "          const docLinkHtml = 'Like what you see? Visit the ' +\n",
              "            '<a target=\"_blank\" href=https://colab.research.google.com/notebooks/data_table.ipynb>data table notebook</a>'\n",
              "            + ' to learn more about interactive tables.';\n",
              "          element.innerHTML = '';\n",
              "          dataTable['output_type'] = 'display_data';\n",
              "          await google.colab.output.renderOutput(dataTable, element);\n",
              "          const docLink = document.createElement('div');\n",
              "          docLink.innerHTML = docLinkHtml;\n",
              "          element.appendChild(docLink);\n",
              "        }\n",
              "      </script>\n",
              "    </div>\n",
              "  </div>\n",
              "  "
            ]
          },
          "metadata": {}
        }
      ],
      "source": [
        "# Load the csv files over here into pandas data frame\n",
        "# YOUR CODE HERE\n",
        "# 0.1\n",
        "def load_csv(file_name):\n",
        "  return pd.read_csv(file_name)\n",
        "\n",
        "df1 = load_csv('/content/kaggle_dataset.csv')\n",
        "df2 = load_csv('/content/local_dataset.csv')\n",
        "\n",
        "display(df1)\n",
        "display(df2)\n",
        "\n",
        "\n",
        "  # Input: csv_file_name\n",
        "  # Output: pandas data frame"
      ]
    },
    {
      "cell_type": "markdown",
      "metadata": {
        "id": "I9om9G-cfwWb"
      },
      "source": [
        "# Part 1 - Data cleaning, normalization and missing value fillup"
      ]
    },
    {
      "cell_type": "code",
      "execution_count": 26,
      "metadata": {
        "id": "XbLj1nS9gG_Z",
        "colab": {
          "base_uri": "https://localhost:8080/",
          "height": 1000
        },
        "outputId": "dac153b9-cb3c-4398-fdad-ca1f04feb454"
      },
      "outputs": [
        {
          "output_type": "display_data",
          "data": {
            "text/plain": [
              "Index(['HR', 'interval_seconds', 'NNRR', 'AVNN', 'SDNN', 'RMSSD', 'pNN50',\n",
              "       'TP', 'ULF', 'VLF', 'LF', 'HF', 'LF_HF', 'stress'],\n",
              "      dtype='object')"
            ]
          },
          "metadata": {}
        },
        {
          "output_type": "stream",
          "name": "stdout",
          "text": [
            "\n"
          ]
        },
        {
          "output_type": "display_data",
          "data": {
            "text/plain": [
              "Index(['HR', 'interval_seconds', 'NNRR', 'AVNN', 'SDNN', 'RMSSD', 'pNN50',\n",
              "       'TP', 'ULF', 'VLF', 'LF', 'HF', 'LF_HF'],\n",
              "      dtype='object')"
            ]
          },
          "metadata": {}
        },
        {
          "output_type": "stream",
          "name": "stdout",
          "text": [
            "\n"
          ]
        },
        {
          "output_type": "display_data",
          "data": {
            "text/plain": [
              "'df: '"
            ],
            "application/vnd.google.colaboratory.intrinsic+json": {
              "type": "string"
            }
          },
          "metadata": {}
        },
        {
          "output_type": "display_data",
          "data": {
            "text/plain": [
              "(3129, 14)"
            ]
          },
          "metadata": {}
        },
        {
          "output_type": "stream",
          "name": "stdout",
          "text": [
            "\n"
          ]
        },
        {
          "output_type": "display_data",
          "data": {
            "text/plain": [
              "'df2: '"
            ],
            "application/vnd.google.colaboratory.intrinsic+json": {
              "type": "string"
            }
          },
          "metadata": {}
        },
        {
          "output_type": "display_data",
          "data": {
            "text/plain": [
              "(1000, 13)"
            ]
          },
          "metadata": {}
        },
        {
          "output_type": "stream",
          "name": "stdout",
          "text": [
            "\n"
          ]
        },
        {
          "output_type": "display_data",
          "data": {
            "text/plain": [
              "HR                   109\n",
              "interval_seconds       0\n",
              "NNRR                  58\n",
              "AVNN                  74\n",
              "SDNN                  90\n",
              "RMSSD                  0\n",
              "pNN50                  0\n",
              "TP                   236\n",
              "ULF                  140\n",
              "VLF                   96\n",
              "LF                    96\n",
              "HF                    96\n",
              "LF_HF               3081\n",
              "stress                 0\n",
              "dtype: int64"
            ]
          },
          "metadata": {}
        },
        {
          "output_type": "stream",
          "name": "stdout",
          "text": [
            "\n"
          ]
        },
        {
          "output_type": "display_data",
          "data": {
            "text/plain": [
              "HR                    0\n",
              "interval_seconds      0\n",
              "NNRR                  0\n",
              "AVNN                  0\n",
              "SDNN                 32\n",
              "RMSSD                 0\n",
              "pNN50                 0\n",
              "TP                   87\n",
              "ULF                  56\n",
              "VLF                  31\n",
              "LF                   31\n",
              "HF                   31\n",
              "LF_HF               990\n",
              "dtype: int64"
            ]
          },
          "metadata": {}
        },
        {
          "output_type": "execute_result",
          "data": {
            "text/plain": [
              "(              HR  interval_seconds      NNRR      AVNN      SDNN     RMSSD  \\\n",
              " 0     108.329447          0.668183  0.979203  0.666800  0.006600  0.003200   \n",
              " 1      91.074128          0.666800  0.979203  0.666800  0.006600  0.003200   \n",
              " 2      92.201787          0.666800  0.979203  0.666800  0.006600  0.003200   \n",
              " 3      94.776255          0.666800  0.979203  0.666800  0.006600  0.003200   \n",
              " 4            NaN          0.676691  0.978741  0.676911  0.030424  0.012999   \n",
              " ...          ...               ...       ...       ...       ...       ...   \n",
              " 3124         NaN          0.894274  0.974164  0.893449  0.087878  0.048848   \n",
              " 3125         NaN          0.899405  0.974164  0.898719  0.073491  0.035367   \n",
              " 3126         NaN          0.934106  0.972702  0.934371  0.095306  0.048829   \n",
              " 3127         NaN          0.930341  0.973453  0.928689  0.116824  0.048173   \n",
              " 3128         NaN          0.863826  0.974839  0.860511  0.090094  0.029174   \n",
              " \n",
              "          pNN50        TP       ULF       VLF        LF        HF    LF_HF  \\\n",
              " 0     0.005000       NaN  0.000000       NaN       NaN       NaN      NaN   \n",
              " 1     0.005000       NaN  0.000000       NaN       NaN       NaN      NaN   \n",
              " 2     0.005000       NaN  0.000000       NaN       NaN       NaN      NaN   \n",
              " 3     0.005000       NaN  0.000000       NaN       NaN       NaN      NaN   \n",
              " 4     0.027727  0.000548  0.000000  0.000863  0.000292  0.000033  8.79347   \n",
              " ...        ...       ...       ...       ...       ...       ...      ...   \n",
              " 3124  0.088333  0.085428  0.085428  0.000640  0.000000  0.000000      NaN   \n",
              " 3125  0.032778  0.059481  0.059481  0.000640  0.000000  0.000000      NaN   \n",
              " 3126  0.063824  0.090722  0.090722  0.000640  0.000000  0.000000      NaN   \n",
              " 3127  0.062143  0.153265  0.153265  0.000640  0.000000  0.000000      NaN   \n",
              " 3128  0.086081  0.087479  0.087479  0.000640  0.000000  0.000000      NaN   \n",
              " \n",
              "       stress  \n",
              " 0        0.0  \n",
              " 1        0.0  \n",
              " 2        0.0  \n",
              " 3        0.0  \n",
              " 4        0.0  \n",
              " ...      ...  \n",
              " 3124     1.0  \n",
              " 3125     1.0  \n",
              " 3126     1.0  \n",
              " 3127     1.0  \n",
              " 3128     1.0  \n",
              " \n",
              " [3129 rows x 14 columns],\n",
              "             HR  interval_seconds      NNRR      AVNN      SDNN     RMSSD  \\\n",
              " 0    95.135158          0.890853  0.974164  0.889935  0.096018  0.046200   \n",
              " 1    82.564200          0.628600  0.980480  0.629127  0.085506  0.040439   \n",
              " 2    90.010889          0.944939  0.972702  0.943657  0.121277  0.058594   \n",
              " 3    81.102854          0.811532  0.976090  0.811925  0.049806  0.023856   \n",
              " 4    89.572000          0.844262  0.974839  0.843826  0.050792  0.024407   \n",
              " ..         ...               ...       ...       ...       ...       ...   \n",
              " 995  76.003579          0.860537  0.974164  0.860530  0.113934  0.053516   \n",
              " 996  65.485229          1.016943  0.971909  1.015859  0.099349  0.048112   \n",
              " 997  70.635158          0.892563  0.974164  0.891692  0.092064  0.048848   \n",
              " 998  81.622000          0.818675  0.975480  0.819262  0.072122  0.028896   \n",
              " 999  70.234789          0.899405  0.974164  0.898719  0.073491  0.035367   \n",
              " \n",
              "         pNN50        TP       ULF       VLF   LF   HF  LF_HF  \n",
              " 0    0.032778  0.105342  0.105342  0.000640  0.0  0.0    NaN  \n",
              " 1    0.025833  0.104875  0.104875  0.000640  0.0  0.0    NaN  \n",
              " 2    0.034412  0.166643  0.166643  0.000640  0.0  0.0    NaN  \n",
              " 3    0.030641  0.026524  0.026524  0.000640  0.0  0.0    NaN  \n",
              " 4    0.032027  0.025992  0.025992  0.000640  0.0  0.0    NaN  \n",
              " ..        ...       ...       ...       ...  ...  ...    ...  \n",
              " 995  0.199444  0.142094  0.142094  0.000640  0.0  0.0    NaN  \n",
              " 996  0.035303  0.106505  0.106505  0.000640  0.0  0.0    NaN  \n",
              " 997  0.088333  0.096370  0.096370  0.000640  0.0  0.0    NaN  \n",
              " 998  0.083947  0.050305  0.050305  0.000640  0.0  0.0    NaN  \n",
              " 999  0.032778  0.055585  0.041149  0.015076  0.0  0.0    NaN  \n",
              " \n",
              " [1000 rows x 13 columns])"
            ]
          },
          "metadata": {},
          "execution_count": 26
        }
      ],
      "source": [
        "df = load_csv('/content/local_dataset.csv')\n",
        "df2 = load_csv('/content/kaggle_dataset.csv')\n",
        "\n",
        "df = df.drop('Id', axis=1)\n",
        "df2 = df2.drop('Id', axis=1)\n",
        "\n",
        "def missing_filler1(df, df2):\n",
        "    # Renaming the Column for ease of use\n",
        "    df.rename(columns={\"interval in seconds\": \"interval_seconds\"}, inplace=True)\n",
        "    df2.rename(columns={\"interval in seconds\": \"interval_seconds\"}, inplace=True)\n",
        "\n",
        "\n",
        "    # Replacing the inf values to Null Values\n",
        "    df.replace([np.inf, -np.inf], np.nan, inplace=True)\n",
        "    df2.replace([np.inf, -np.inf], np.nan, inplace=True)\n",
        "\n",
        "    # Printing the Column names, size of Columns and checking if there are any\n",
        "    # remaining Null values\n",
        "    display(df.columns)\n",
        "    print()\n",
        "    display(df2.columns)\n",
        "    print()\n",
        "    display('df: ', df.shape)\n",
        "    print()\n",
        "    display('df2: ', df2.shape)\n",
        "    print()\n",
        "    display(df.isnull().sum())\n",
        "    print()\n",
        "    display(df2.isnull().sum())\n",
        "\n",
        "    return df, df2\n",
        "\n",
        "missing_filler1(df, df2)\n",
        "\n",
        "  # Take input the raw data and fillup the missing values using first algorithm.\n",
        "  # YOUR CODE HERE\n"
      ]
    },
    {
      "cell_type": "markdown",
      "source": [
        "## Explanation for missing_filler1(df, df2)\n",
        "This code block imports two datasets, one from a local source and another from Kaggle, and loads it into two separate pandas dataframes 'df' and 'df2'. It then removes the 'Id' column from both dataframes.\n",
        "\n",
        "In the function 'missing_filler1', the first step is to rename the column \"interval in seconds\" to \"interval_seconds\" for ease of use. The next step is to replace any infinite values in the dataframes with NaN values using the replace function. This is done because infinite values can cause errors in further calculations and handling.\n",
        "\n",
        "The function then displays the column names, size of the columns, and the sum of missing values in each column for both dataframes. This is done to check for missing values and get an understanding of the dataframes.\n",
        "\n",
        "Finally, the function returns the two modified dataframes 'df' and 'df2' to the caller."
      ],
      "metadata": {
        "id": "plyTu-YLIXq1"
      }
    },
    {
      "cell_type": "code",
      "execution_count": 27,
      "metadata": {
        "id": "OL7SYLfhgeMy",
        "colab": {
          "base_uri": "https://localhost:8080/",
          "height": 659
        },
        "outputId": "041b355f-4ed9-4c05-ecad-54df27f0f699"
      },
      "outputs": [
        {
          "output_type": "display_data",
          "data": {
            "text/plain": [
              "'df: '"
            ],
            "application/vnd.google.colaboratory.intrinsic+json": {
              "type": "string"
            }
          },
          "metadata": {}
        },
        {
          "output_type": "display_data",
          "data": {
            "text/plain": [
              "(3129, 14)"
            ]
          },
          "metadata": {}
        },
        {
          "output_type": "stream",
          "name": "stdout",
          "text": [
            "\n"
          ]
        },
        {
          "output_type": "display_data",
          "data": {
            "text/plain": [
              "'df2: '"
            ],
            "application/vnd.google.colaboratory.intrinsic+json": {
              "type": "string"
            }
          },
          "metadata": {}
        },
        {
          "output_type": "display_data",
          "data": {
            "text/plain": [
              "(1000, 13)"
            ]
          },
          "metadata": {}
        },
        {
          "output_type": "stream",
          "name": "stdout",
          "text": [
            "\n"
          ]
        },
        {
          "output_type": "display_data",
          "data": {
            "text/plain": [
              "HR                  0\n",
              "interval_seconds    0\n",
              "NNRR                0\n",
              "AVNN                0\n",
              "SDNN                0\n",
              "RMSSD               0\n",
              "pNN50               0\n",
              "TP                  0\n",
              "ULF                 0\n",
              "VLF                 0\n",
              "LF                  0\n",
              "HF                  0\n",
              "LF_HF               0\n",
              "stress              0\n",
              "dtype: int64"
            ]
          },
          "metadata": {}
        },
        {
          "output_type": "stream",
          "name": "stdout",
          "text": [
            "\n"
          ]
        },
        {
          "output_type": "display_data",
          "data": {
            "text/plain": [
              "HR                  0\n",
              "interval_seconds    0\n",
              "NNRR                0\n",
              "AVNN                0\n",
              "SDNN                0\n",
              "RMSSD               0\n",
              "pNN50               0\n",
              "TP                  0\n",
              "ULF                 0\n",
              "VLF                 0\n",
              "LF                  0\n",
              "HF                  0\n",
              "LF_HF               0\n",
              "dtype: int64"
            ]
          },
          "metadata": {}
        }
      ],
      "source": [
        "def cleaning(df, df2):\n",
        "  # Take all the features as input, and do any data cleaning necessary.\n",
        "  # YOUR CODE HERE\n",
        "  columns = ['HR', 'NNRR', 'AVNN','SDNN', 'TP', 'ULF', 'VLF', 'LF', 'HF', 'LF_HF']\n",
        "  for col in columns:\n",
        "      median = df[col].median()\n",
        "      df[col].fillna(median, inplace=True)\n",
        "      df2[col].fillna(median, inplace=True)\n",
        "\n",
        "  display('df: ', df.shape)\n",
        "  print()\n",
        "  display('df2: ',df2.shape)\n",
        "  print()\n",
        "  display(df.isnull().sum())\n",
        "  print()\n",
        "  display(df2.isnull().sum())\n",
        "\n",
        "cleaning(df, df2)"
      ]
    },
    {
      "cell_type": "markdown",
      "source": [
        "## Explanation for cleaning(df, df2)\n",
        "In this code, we are performing data cleaning on two dataframes, df and df2. The first step is to define a list of columns that need to be cleaned, which is done using the columns variable. This list contains columns related to Heart rate, NN intervals, and frequency domain parameters.\n",
        "\n",
        "Next, we loop through each column in the columns list, and use the median function to calculate the median value of each column. The fillna function is then used to fill any missing values in the columns with their median value. This is done for both df and df2 dataframes.\n",
        "\n",
        "The code then displays the shape of both dataframes and the number of missing values in each column to check if the cleaning process was successful. This is done to ensure that there are no remaining missing values in the data, which could affect the results of any analysis performed on the data."
      ],
      "metadata": {
        "id": "IG0vWAA8I4Fu"
      }
    },
    {
      "cell_type": "code",
      "execution_count": 28,
      "metadata": {
        "id": "78nU0IK7f_2E"
      },
      "outputs": [],
      "source": [
        "def normalizer(df, df2):\n",
        "  # Taken input the output of cleaning function, and perform data normalization independently for all the features.\n",
        "  # YOUR CODE HERE\n",
        "  \n",
        "  # drop the stress (The Target Column)\n",
        "  X = df.drop('stress', axis=1)\n",
        "  X2 = df2\n",
        "\n",
        "  # normalizing\n",
        "  X = X.apply(lambda x: (x - x.min()) / (x.max() - x.min()))\n",
        "  X2 = X2.apply(lambda x: (x - x.min()) / (x.max() - x.min()))\n",
        "\n",
        "normalizer(df, df2)"
      ]
    },
    {
      "cell_type": "markdown",
      "source": [
        "## Explanation for normalizer(df, df2)\n",
        "This code performs normalization on the input data frames df and df2. The normalization is performed independently for all the features of the data frames.\n",
        "\n",
        "First, the stress column is dropped from the data frames as it is the target column and should not be normalized. Then, the normalized data frames are assigned to the variables X and X2.\n",
        "\n",
        "Normalization is performed using the formula (x - x.min()) / (x.max() - x.min()) where x is a feature column. This formula scales all the values of the feature column to the range of 0 to 1. This helps in bringing all the features on the same scale, making it easier for the machine learning algorithm to learn."
      ],
      "metadata": {
        "id": "Z5d0Yl-cJVSX"
      }
    },
    {
      "cell_type": "markdown",
      "metadata": {
        "id": "09lUBNIAgf7e"
      },
      "source": [
        "# Part 2 - Model training and testing"
      ]
    },
    {
      "cell_type": "code",
      "source": [
        "X = df.iloc[:,:-1]\n",
        "y = df['stress']\n",
        "display(X.shape)\n",
        "display(y.shape)"
      ],
      "metadata": {
        "colab": {
          "base_uri": "https://localhost:8080/",
          "height": 53
        },
        "id": "ECUufUo31HuE",
        "outputId": "0b537c45-8d46-4661-8152-52ea430f5813"
      },
      "execution_count": 32,
      "outputs": [
        {
          "output_type": "display_data",
          "data": {
            "text/plain": [
              "(3129, 13)"
            ]
          },
          "metadata": {}
        },
        {
          "output_type": "display_data",
          "data": {
            "text/plain": [
              "(3129,)"
            ]
          },
          "metadata": {}
        }
      ]
    },
    {
      "cell_type": "code",
      "execution_count": 33,
      "metadata": {
        "id": "VM4wDJQkgreS"
      },
      "outputs": [],
      "source": [
        "# Splitting the dataset into train, val and test sets.\n",
        "# 2.0\n",
        "X_train, X_test, y_train, y_test = train_test_split(X, y, test_size = 0.2)"
      ]
    },
    {
      "cell_type": "code",
      "execution_count": 67,
      "metadata": {
        "id": "MCKyvlx4gv2R",
        "colab": {
          "base_uri": "https://localhost:8080/"
        },
        "outputId": "dc4a1e9b-e031-4f98-ab69-66f26327882a"
      },
      "outputs": [
        {
          "output_type": "stream",
          "name": "stdout",
          "text": [
            "Best parameters:  {'n_estimators': 360, 'min_samples_split': 14, 'max_depth': None}\n",
            "Best score:  0.6184534930139721\n",
            "Best parameters:  {'n_estimators': 60, 'min_samples_split': 12, 'max_depth': 14}\n",
            "Best score:  0.6160574850299401\n"
          ]
        }
      ],
      "source": [
        "from sklearn.tree import DecisionTreeClassifier\n",
        "from sklearn.ensemble import AdaBoostClassifier\n",
        "from sklearn.ensemble import RandomForestClassifier\n",
        "from sklearn.model_selection import RandomizedSearchCV\n",
        "from sklearn.model_selection import GridSearchCV\n",
        "# Code for different models used.\n",
        "\n",
        "'''\n",
        "Model_LR is using Logistic Regression. Warning Run the Rest of the Code \n",
        "without Logisitic Regression by either deleting the code or commenting it out \n",
        "'''\n",
        "'''\n",
        "def Model_LR(X_train, y_train):\n",
        "  # You can use the sci-kit learn solver but capture any other hyper-parameter settings\n",
        "  # or model settings in this method\n",
        "  # YOUR CODE HERE\n",
        "    model1 = LogisticRegression()\n",
        "    model1.fit(X_train, y_train)\n",
        "    return model1\n",
        "\n",
        "model1 = Model_LR(X_train, y_train)\n",
        "'''\n",
        "\n",
        "'''\n",
        "Model_DT is using Decision Tree\n",
        "'''\n",
        "def Model_DT(X_train, y_train):\n",
        "  # You can use the sci-kit learn solver but capture any other hyper-parameter settings\n",
        "  # or model settings in this method\n",
        "  # YOUR CODE HERE\n",
        "    model2 = DecisionTreeClassifier()\n",
        "    model2.fit(X_train, y_train)\n",
        "    return model2\n",
        "\n",
        "model2 = Model_DT(X_train, y_train)\n",
        "\n",
        "'''\n",
        "Model_ada is using Adaboost\n",
        "'''\n",
        "def Model_ada(X_train, y_train):\n",
        "  # You can use the sci-kit learn solver but capture any other hyper-parameter settings\n",
        "  # or model settings in this method\n",
        "  # YOUR CODE \n",
        "  model3 = AdaBoostClassifier()\n",
        "  model3.fit(X_train, y_train)\n",
        "  return model3\n",
        "\n",
        "model3 = Model_ada(X_train, y_train)\n",
        "\n",
        "'''\n",
        "This Random Forest Model Uses Randomized Search\n",
        "'''\n",
        "def rf_model(X_train, X_test, y_train, y_test):\n",
        "    # Define the model\n",
        "    rfc = RandomForestClassifier()\n",
        "    \n",
        "    # Define the range of values for each hyperparameter\n",
        "    param_dist = {'n_estimators': np.arange(10, 401, 50),\n",
        "                  'max_depth': [None, 5, 10, 12, 14],\n",
        "                  'min_samples_split': np.arange(2, 15, 2)}\n",
        "    \n",
        "    # Create the RandomizedSearchCV object\n",
        "    random_search = RandomizedSearchCV(estimator=rfc, param_distributions=param_dist, n_iter=20, cv=5, scoring='accuracy', random_state=0)\n",
        "    \n",
        "    # Fit the RandomizedSearchCV object to the data\n",
        "    random_search.fit(X_train, y_train)\n",
        "    \n",
        "    # Print the best hyperparameters\n",
        "    print(\"Best parameters: \",random_search.best_params_)\n",
        "    \n",
        "    # Print the best score\n",
        "    print(\"Best score: \",random_search.best_score_)\n",
        "    \n",
        "    # Use the best hyperparameters to create the final model\n",
        "    model_rf1 = RandomForestClassifier(**random_search.best_params_)\n",
        "    model_rf1.fit(X_train, y_train)\n",
        "    y_pred1 = model_rf1.predict(X_test)\n",
        "    return model_rf1, y_pred1\n",
        "\n",
        "model_rf1, y_pred1 = rf_model(X_train, X_test, y_train, y_test)\n",
        "\n",
        "'''\n",
        "This Random Forest Model Uses Grid Search\n",
        "'''\n",
        "def rf_model2(X_train, X_test, y_train, y_test):\n",
        "    # Define the model\n",
        "    rfc = RandomForestClassifier()\n",
        "    \n",
        "    # Define the range of values for each hyperparameter\n",
        "    param_grid = {'n_estimators': [10, 50, 100, 200, 400],\n",
        "                  'max_depth': [None, 5, 10, 12, 14],\n",
        "                  'min_samples_split': [2, 5, 10, 12, 14]}\n",
        "    \n",
        "    # Create the GridSearchCV object\n",
        "    grid_search = GridSearchCV(estimator=rfc, param_grid=param_grid, cv=5, scoring='accuracy')\n",
        "    \n",
        "    # Fit the GridSearchCV object to the data\n",
        "    grid_search.fit(X_train, y_train)\n",
        "    \n",
        "    # Print the best hyperparameters\n",
        "    print(\"Best parameters: \",grid_search.best_params_)\n",
        "    \n",
        "    # Print the best score\n",
        "    print(\"Best score: \",grid_search.best_score_)\n",
        "    \n",
        "    # Use the best hyperparameters to create the final model\n",
        "    model_rf2 = RandomForestClassifier(**grid_search.best_params_)\n",
        "    model_rf2.fit(X_train, y_train)\n",
        "    y_pred2 = model_rf2.predict(X_test)\n",
        "    return model_rf2, y_pred2\n",
        "\n",
        "model_rf2, y_pred2 = rf_model(X_train, X_test, y_train, y_test)\n",
        "\n",
        "# Please also rename the model functions to reflect what it represents.\n",
        "# Discuss about the hyper-parameter/model settings in the report."
      ]
    },
    {
      "cell_type": "markdown",
      "source": [
        "#** Warning Run the Rest of the Code without Logisitic Regression by either deleting the code or commenting it out **"
      ],
      "metadata": {
        "id": "iNMr-6AENAol"
      }
    },
    {
      "cell_type": "markdown",
      "source": [
        "## Explanation for Logistic Regression \n",
        "In a logistic regression model, the algorithm tries to find the line of best fit (known as the decision boundary) that separates the positive class from the negative class. In this case, the algorithm was not able to converge to a satisfactory solution, as indicated by the \"ConvergenceWarning\" message. This can be due to a number of factors, such as a poorly scaled or noisy dataset, or a less appropriate model for the data.\n",
        "\n",
        "The other models, such as Random Forest, appear to have been able to find a better solution as indicated by the best score values. This could be because Random Forest is a more robust algorithm and can handle a wider range of data distributions.\n",
        "\n",
        "It's important to note that the best score values are still relatively low, meaning that none of the models are performing exceptionally well."
      ],
      "metadata": {
        "id": "RYAgARAFMKJu"
      }
    },
    {
      "cell_type": "markdown",
      "source": [
        "## Explanation for Hyper-Parameter/ Settings\n",
        "This code employs four machine learning models - Decision Tree (DT), Adaboost (ADA), Random Forest with Randomized Search, and Random Forest with Grid Search - to train a given dataset. The objective of hyperparameter tuning is to find the optimal set of hyperparameters that result in the best performance of the machine learning model.\n",
        "\n",
        "The Decision Tree model is implemented using the DecisionTreeClassifier from scikit-learn, trained on the X_train and y_train data. The model uses the default hyperparameters and does not undergo any specific tuning.\n",
        "\n",
        "The Adaboost model is implemented using the AdaBoostClassifier from scikit-learn, trained on the X_train and y_train data. Like the Decision Tree model, the Adaboost model also uses default hyperparameters without any specific tuning.\n",
        "\n",
        "The Random Forest model with Randomized Search uses the RandomForestClassifier and RandomizedSearchCV functions from scikit-learn. It is trained on the X_train and y_train data and undergoes hyperparameter tuning for n_estimators, max_depth, and min_samples_split. The RandomizedSearchCV object performs a random search on the specified range of values for each hyperparameter to find the optimal combination that results in the best performance. The best hyperparameters, along with the best score achieved during the search, are printed. The final Random Forest model is then trained using these hyperparameters.\n",
        "\n",
        "The Random Forest model with Grid Search uses the RandomForestClassifier and GridSearchCV functions from scikit-learn. The GridSearchCV object performs a grid search on the specified range of values for each hyperparameter to find the optimal combination that results in the best performance. The best hyperparameters, along with the best score achieved during the search, are printed. The final Random Forest model is then trained using these hyperparameters."
      ],
      "metadata": {
        "id": "qDPz6jwA7Opm"
      }
    },
    {
      "cell_type": "code",
      "execution_count": 68,
      "metadata": {
        "id": "yn2M8HOIhPGi",
        "colab": {
          "base_uri": "https://localhost:8080/"
        },
        "outputId": "94d3248e-0819-4f9d-ca83-8c8e35a2a3c4"
      },
      "outputs": [
        {
          "output_type": "stream",
          "name": "stdout",
          "text": [
            "              precision    recall  f1-score   support\n",
            "\n",
            "         0.0       0.52      0.56      0.54       169\n",
            "         1.0       0.54      0.52      0.53       288\n",
            "         2.0       0.47      0.46      0.46       169\n",
            "\n",
            "    accuracy                           0.52       626\n",
            "   macro avg       0.51      0.51      0.51       626\n",
            "weighted avg       0.52      0.52      0.52       626\n",
            "\n",
            "\n",
            "Confusion Matrix: \n",
            " [[ 95  63  11]\n",
            " [ 62 151  75]\n",
            " [ 27  65  77]]\n",
            "\n",
            "Accuracy:  0.5159744408945687\n",
            "              precision    recall  f1-score   support\n",
            "\n",
            "         0.0       0.66      0.51      0.57       169\n",
            "         1.0       0.53      0.79      0.64       288\n",
            "         2.0       0.49      0.20      0.28       169\n",
            "\n",
            "    accuracy                           0.55       626\n",
            "   macro avg       0.56      0.50      0.50       626\n",
            "weighted avg       0.55      0.55      0.52       626\n",
            "\n",
            "\n",
            "Confusion Matrix: \n",
            " [[ 86  76   7]\n",
            " [ 32 227  29]\n",
            " [ 13 122  34]]\n",
            "\n",
            "Accuracy:  0.5543130990415336\n",
            "              precision    recall  f1-score   support\n",
            "\n",
            "         0.0       0.67      0.63      0.65       169\n",
            "         1.0       0.56      0.68      0.61       288\n",
            "         2.0       0.49      0.35      0.41       169\n",
            "\n",
            "    accuracy                           0.58       626\n",
            "   macro avg       0.57      0.55      0.56       626\n",
            "weighted avg       0.57      0.58      0.57       626\n",
            "\n",
            "\n",
            "Confusion Matrix: \n",
            " [[106  52  11]\n",
            " [ 43 195  50]\n",
            " [ 10 100  59]]\n",
            "\n",
            "Accuracy:  0.5750798722044729\n",
            "              precision    recall  f1-score   support\n",
            "\n",
            "         0.0       0.67      0.59      0.63       169\n",
            "         1.0       0.55      0.73      0.63       288\n",
            "         2.0       0.50      0.29      0.37       169\n",
            "\n",
            "    accuracy                           0.57       626\n",
            "   macro avg       0.57      0.54      0.54       626\n",
            "weighted avg       0.57      0.57      0.56       626\n",
            "\n",
            "\n",
            "Confusion Matrix: \n",
            " [[100  60   9]\n",
            " [ 39 209  40]\n",
            " [ 11 109  49]]\n",
            "\n",
            "Accuracy:  0.5718849840255591\n"
          ]
        }
      ],
      "source": [
        "# Create function which calculates F1score, precision, recall and accuracy score for true and predicted labels.\n",
        "import numpy as np\n",
        "from sklearn.metrics import precision_recall_fscore_support, accuracy_score\n",
        "\n",
        "def metrics(y_test, y_pred):\n",
        "  print(classification_report(y_test, y_pred))\n",
        "  print()\n",
        "  print('Confusion Matrix: \\n', confusion_matrix(y_test, y_pred))\n",
        "  print()\n",
        "  print('Accuracy: ', accuracy_score(y_test, y_pred))\n",
        "\n",
        "# Logistic Regression Model\n",
        "'''\n",
        "y1_pred = model1.predict(X_test)\n",
        "metrics(y_test, y1_pred)\n",
        "'''\n",
        "\n",
        "# Decision Tree Model\n",
        "y2_pred = model2.predict(X_test)\n",
        "metrics(y_test, y2_pred)\n",
        "\n",
        "# AdaBoost Model\n",
        "y3_pred = model3.predict(X_test)\n",
        "metrics(y_test, y3_pred)\n",
        "\n",
        "# RandomForest Model using Randomized Search\n",
        "y4_pred = model_rf1.predict(X_test)\n",
        "metrics(y_test, y4_pred)\n",
        "\n",
        "# RandomForest Model using Grid Search\n",
        "y5_pred = model_rf2.predict(X_test)\n",
        "metrics(y_test, y5_pred)\n",
        "\n",
        "  # Takes input the predicted and true labels.\n",
        "  # Your code here for precision, recall, F1score, accuracy\n",
        "  # You can call this code to compute metrics for your models\n"
      ]
    },
    {
      "cell_type": "markdown",
      "metadata": {
        "id": "c1JgEU62iARH"
      },
      "source": [
        "# Part 3 - Interpretability"
      ]
    },
    {
      "cell_type": "code",
      "execution_count": 69,
      "metadata": {
        "id": "Kdgdtw6liC0V",
        "colab": {
          "base_uri": "https://localhost:8080/"
        },
        "outputId": "98b4f8f7-305e-4dd0-8739-df80d782aa51"
      },
      "outputs": [
        {
          "output_type": "stream",
          "name": "stdout",
          "text": [
            "Selected features:         feature_names      score\n",
            "0                 HR  86.312593\n",
            "1   interval_seconds  68.153176\n",
            "3               AVNN  66.554105\n",
            "2               NNRR  45.844918\n",
            "11                HF   9.157255\n",
            "10                LF   6.961838\n",
            "4               SDNN   3.288657\n",
            "6              pNN50   1.719553\n",
            "9                VLF   1.546887\n",
            "8                ULF   1.335961\n",
            "5              RMSSD   1.174268\n",
            "7                 TP   0.944929\n",
            "12             LF_HF   0.304280\n"
          ]
        }
      ],
      "source": [
        "# Look into using suitable functions from sklearn. Explain your code and findings clearly in the report document.\n",
        "# 3.1\n",
        "from sklearn.feature_selection import SelectKBest, f_classif\n",
        "\n",
        "def feature_importance(X, y, k):\n",
        "  selector = SelectKBest(score_func=f_classif, k=k)\n",
        "  fit = selector.fit(X, y)\n",
        "  feature_scores = fit.scores_\n",
        "  feature_names = X.columns\n",
        "  \n",
        "  features = pd.DataFrame({'feature_names':feature_names,'score':feature_scores})\n",
        "  features = features.sort_values(by='score',ascending=False)\n",
        "  \n",
        "  return features\n",
        "\n",
        "k = 6 # number of features to pick\n",
        "\n",
        "selected_features = feature_importance(X_train, y_train, k)\n",
        "print(\"Selected features: \", selected_features)\n",
        "\n",
        "  # Your code can based on measures of information gain or other feature selection methods\n",
        "  # Input: k - Number of features to pick\n",
        "  # Output should be a ranked list of features\n",
        "  # YOUR CODE HERE\n"
      ]
    },
    {
      "cell_type": "code",
      "execution_count": 72,
      "metadata": {
        "id": "kDYIvo2bk7UR",
        "colab": {
          "base_uri": "https://localhost:8080/"
        },
        "outputId": "26ec3336-b77b-4c40-8f7b-13ac44639847"
      },
      "outputs": [
        {
          "output_type": "stream",
          "name": "stdout",
          "text": [
            "Selected feature pairs:  [(('NNRR', 'RMSSD'), 0.5625213572854292), (('AVNN', 'SDNN'), 0.5601269461077845), (('interval_seconds', 'VLF'), 0.5593317365269461), (('AVNN', 'VLF'), 0.5593245508982037), (('interval_seconds', 'RMSSD'), 0.558519760479042)]\n"
          ]
        }
      ],
      "source": [
        "from itertools import combinations\n",
        "from sklearn.model_selection import cross_val_score\n",
        "\n",
        "def FeatureImportanceForPairs(X, y, k):\n",
        "    # Generate all possible pairs of features\n",
        "    feature_pairs = list(combinations(X.columns, 2))\n",
        "    \n",
        "    scores = []\n",
        "    for pair in feature_pairs:\n",
        "        X_pair = X[list(pair)]\n",
        "        score = np.mean(cross_val_score(model2, X_pair, y, cv=5))\n",
        "        scores.append((pair, score))\n",
        "        \n",
        "    scores = sorted(scores, key=lambda x: x[1], reverse=True)\n",
        "    top_k_pairs = scores[:k]\n",
        "    \n",
        "    return top_k_pairs\n",
        "\n",
        "k = 5\n",
        "\n",
        "selected_feature_pairs = FeatureImportanceForPairs(X_train, y_train, k)\n",
        "print(\"Selected feature pairs: \", selected_feature_pairs)\n",
        "\n",
        "\n",
        "  # Find the best pairs of features which are useful for making the prediction.\n",
        "  # HINT: Can be done in a model agnostic way through pair generation and ranking.\n",
        "  # YOUR CODE HERE"
      ]
    },
    {
      "cell_type": "code",
      "execution_count": 73,
      "metadata": {
        "colab": {
          "base_uri": "https://localhost:8080/"
        },
        "id": "JiFai258uyeJ",
        "outputId": "65307064-4f4a-4adc-a135-3952bc06edf1"
      },
      "outputs": [
        {
          "output_type": "execute_result",
          "data": {
            "text/plain": [
              "True"
            ]
          },
          "metadata": {},
          "execution_count": 73
        }
      ],
      "source": [
        "from sklearn.tree import export_graphviz\n",
        "import graphviz\n",
        "\n",
        "def dt_top_feat(model, feature_names, num_feat=5):\n",
        "    dot_data = export_graphviz(model, out_file=None, feature_names=feature_names)\n",
        "    graph = graphviz.Source(dot_data)\n",
        "    graph.render()\n",
        "    return model.tree_.max_depth >= num_feat\n",
        "\n",
        "\n",
        "\n",
        "dt_top_feat(model2, X_train.columns)\n",
        "#def dt_top_feat():\n",
        "    # Find the top 5 decision branches for the decision tree.\n",
        "    # YOUR CODE HERE"
      ]
    },
    {
      "cell_type": "code",
      "source": [
        "def top_branches(model, feature_names, num_branches=5):\n",
        "    dot_data = export_graphviz(model, out_file=None, feature_names=feature_names)\n",
        "    graph = graphviz.Source(dot_data)\n",
        "    return [(model.tree_.children_left[node_id], model.tree_.children_right[node_id], model.tree_.feature[node_id], model.tree_.threshold[node_id], model.tree_.impurity[node_id])\n",
        "            for node_id in np.argsort(model.tree_.impurity)[-num_branches:]]\n"
      ],
      "metadata": {
        "id": "JY82eIHeBR5v"
      },
      "execution_count": 74,
      "outputs": []
    },
    {
      "cell_type": "code",
      "source": [
        "branches = top_branches(model2, X_train.columns)\n",
        "print(branches)\n"
      ],
      "metadata": {
        "colab": {
          "base_uri": "https://localhost:8080/"
        },
        "id": "QZl1bDqlBVO6",
        "outputId": "71a693ef-82ab-4404-825f-c192536a9211"
      },
      "execution_count": 75,
      "outputs": [
        {
          "output_type": "stream",
          "name": "stdout",
          "text": [
            "[(220, 223, 7, 0.000744957011193037, 0.6599999999999999), (1640, 1641, 7, 0.15952499955892563, 0.6611570247933884), (600, 607, 7, 0.006634820019826293, 0.6666666666666667), (1360, 1361, 0, 89.87199783325195, 0.6666666666666667), (1644, 1645, 8, 0.16617099940776825, 0.6666666666666667)]\n"
          ]
        }
      ]
    },
    {
      "cell_type": "markdown",
      "source": [
        "## Extra\n"
      ],
      "metadata": {
        "id": "b-dzibtFDLRA"
      }
    },
    {
      "cell_type": "code",
      "source": [
        "from sklearn.tree import DecisionTreeClassifier\n",
        "dt = DecisionTreeClassifier(random_state=0)\n",
        "\n",
        "ada = AdaBoostClassifier(base_estimator=dt,random_state=0)\n",
        "model2.fit(X_train, y_train)"
      ],
      "metadata": {
        "colab": {
          "base_uri": "https://localhost:8080/"
        },
        "id": "2apnvShsDK-_",
        "outputId": "5fb41555-e440-4c12-8a45-3663280a20b2"
      },
      "execution_count": 76,
      "outputs": [
        {
          "output_type": "execute_result",
          "data": {
            "text/plain": [
              "DecisionTreeClassifier()"
            ]
          },
          "metadata": {},
          "execution_count": 76
        }
      ]
    },
    {
      "cell_type": "code",
      "source": [
        "imp = model2.feature_importances_\n",
        "imp = pd.DataFrame(imp)"
      ],
      "metadata": {
        "id": "zyqZNnz-DRr3"
      },
      "execution_count": 77,
      "outputs": []
    },
    {
      "cell_type": "code",
      "source": [
        "feature = X_train.columns\n",
        "feature = pd.DataFrame(feature)"
      ],
      "metadata": {
        "id": "PbwIUgleDXle"
      },
      "execution_count": 78,
      "outputs": []
    },
    {
      "cell_type": "code",
      "source": [
        "importfeature = pd.concat([imp, feature], axis =1)\n",
        "importfeature.columns=['importance', 'feature']"
      ],
      "metadata": {
        "id": "J8fo6OYuDatn"
      },
      "execution_count": 79,
      "outputs": []
    },
    {
      "cell_type": "code",
      "source": [
        "importfeature"
      ],
      "metadata": {
        "colab": {
          "base_uri": "https://localhost:8080/",
          "height": 457
        },
        "id": "ZaP0-u-SDdNU",
        "outputId": "7749b2b1-6da8-43b2-fe13-baddf27c47c4"
      },
      "execution_count": 80,
      "outputs": [
        {
          "output_type": "execute_result",
          "data": {
            "text/plain": [
              "    importance           feature\n",
              "0     0.328360                HR\n",
              "1     0.111265  interval_seconds\n",
              "2     0.018850              NNRR\n",
              "3     0.074885              AVNN\n",
              "4     0.053958              SDNN\n",
              "5     0.032370             RMSSD\n",
              "6     0.032247             pNN50\n",
              "7     0.173077                TP\n",
              "8     0.155370               ULF\n",
              "9     0.016911               VLF\n",
              "10    0.001549                LF\n",
              "11    0.000000                HF\n",
              "12    0.001161             LF_HF"
            ],
            "text/html": [
              "\n",
              "  <div id=\"df-ea4d2bf8-3820-4c86-91c7-b6306d1ca120\">\n",
              "    <div class=\"colab-df-container\">\n",
              "      <div>\n",
              "<style scoped>\n",
              "    .dataframe tbody tr th:only-of-type {\n",
              "        vertical-align: middle;\n",
              "    }\n",
              "\n",
              "    .dataframe tbody tr th {\n",
              "        vertical-align: top;\n",
              "    }\n",
              "\n",
              "    .dataframe thead th {\n",
              "        text-align: right;\n",
              "    }\n",
              "</style>\n",
              "<table border=\"1\" class=\"dataframe\">\n",
              "  <thead>\n",
              "    <tr style=\"text-align: right;\">\n",
              "      <th></th>\n",
              "      <th>importance</th>\n",
              "      <th>feature</th>\n",
              "    </tr>\n",
              "  </thead>\n",
              "  <tbody>\n",
              "    <tr>\n",
              "      <th>0</th>\n",
              "      <td>0.328360</td>\n",
              "      <td>HR</td>\n",
              "    </tr>\n",
              "    <tr>\n",
              "      <th>1</th>\n",
              "      <td>0.111265</td>\n",
              "      <td>interval_seconds</td>\n",
              "    </tr>\n",
              "    <tr>\n",
              "      <th>2</th>\n",
              "      <td>0.018850</td>\n",
              "      <td>NNRR</td>\n",
              "    </tr>\n",
              "    <tr>\n",
              "      <th>3</th>\n",
              "      <td>0.074885</td>\n",
              "      <td>AVNN</td>\n",
              "    </tr>\n",
              "    <tr>\n",
              "      <th>4</th>\n",
              "      <td>0.053958</td>\n",
              "      <td>SDNN</td>\n",
              "    </tr>\n",
              "    <tr>\n",
              "      <th>5</th>\n",
              "      <td>0.032370</td>\n",
              "      <td>RMSSD</td>\n",
              "    </tr>\n",
              "    <tr>\n",
              "      <th>6</th>\n",
              "      <td>0.032247</td>\n",
              "      <td>pNN50</td>\n",
              "    </tr>\n",
              "    <tr>\n",
              "      <th>7</th>\n",
              "      <td>0.173077</td>\n",
              "      <td>TP</td>\n",
              "    </tr>\n",
              "    <tr>\n",
              "      <th>8</th>\n",
              "      <td>0.155370</td>\n",
              "      <td>ULF</td>\n",
              "    </tr>\n",
              "    <tr>\n",
              "      <th>9</th>\n",
              "      <td>0.016911</td>\n",
              "      <td>VLF</td>\n",
              "    </tr>\n",
              "    <tr>\n",
              "      <th>10</th>\n",
              "      <td>0.001549</td>\n",
              "      <td>LF</td>\n",
              "    </tr>\n",
              "    <tr>\n",
              "      <th>11</th>\n",
              "      <td>0.000000</td>\n",
              "      <td>HF</td>\n",
              "    </tr>\n",
              "    <tr>\n",
              "      <th>12</th>\n",
              "      <td>0.001161</td>\n",
              "      <td>LF_HF</td>\n",
              "    </tr>\n",
              "  </tbody>\n",
              "</table>\n",
              "</div>\n",
              "      <button class=\"colab-df-convert\" onclick=\"convertToInteractive('df-ea4d2bf8-3820-4c86-91c7-b6306d1ca120')\"\n",
              "              title=\"Convert this dataframe to an interactive table.\"\n",
              "              style=\"display:none;\">\n",
              "        \n",
              "  <svg xmlns=\"http://www.w3.org/2000/svg\" height=\"24px\"viewBox=\"0 0 24 24\"\n",
              "       width=\"24px\">\n",
              "    <path d=\"M0 0h24v24H0V0z\" fill=\"none\"/>\n",
              "    <path d=\"M18.56 5.44l.94 2.06.94-2.06 2.06-.94-2.06-.94-.94-2.06-.94 2.06-2.06.94zm-11 1L8.5 8.5l.94-2.06 2.06-.94-2.06-.94L8.5 2.5l-.94 2.06-2.06.94zm10 10l.94 2.06.94-2.06 2.06-.94-2.06-.94-.94-2.06-.94 2.06-2.06.94z\"/><path d=\"M17.41 7.96l-1.37-1.37c-.4-.4-.92-.59-1.43-.59-.52 0-1.04.2-1.43.59L10.3 9.45l-7.72 7.72c-.78.78-.78 2.05 0 2.83L4 21.41c.39.39.9.59 1.41.59.51 0 1.02-.2 1.41-.59l7.78-7.78 2.81-2.81c.8-.78.8-2.07 0-2.86zM5.41 20L4 18.59l7.72-7.72 1.47 1.35L5.41 20z\"/>\n",
              "  </svg>\n",
              "      </button>\n",
              "      \n",
              "  <style>\n",
              "    .colab-df-container {\n",
              "      display:flex;\n",
              "      flex-wrap:wrap;\n",
              "      gap: 12px;\n",
              "    }\n",
              "\n",
              "    .colab-df-convert {\n",
              "      background-color: #E8F0FE;\n",
              "      border: none;\n",
              "      border-radius: 50%;\n",
              "      cursor: pointer;\n",
              "      display: none;\n",
              "      fill: #1967D2;\n",
              "      height: 32px;\n",
              "      padding: 0 0 0 0;\n",
              "      width: 32px;\n",
              "    }\n",
              "\n",
              "    .colab-df-convert:hover {\n",
              "      background-color: #E2EBFA;\n",
              "      box-shadow: 0px 1px 2px rgba(60, 64, 67, 0.3), 0px 1px 3px 1px rgba(60, 64, 67, 0.15);\n",
              "      fill: #174EA6;\n",
              "    }\n",
              "\n",
              "    [theme=dark] .colab-df-convert {\n",
              "      background-color: #3B4455;\n",
              "      fill: #D2E3FC;\n",
              "    }\n",
              "\n",
              "    [theme=dark] .colab-df-convert:hover {\n",
              "      background-color: #434B5C;\n",
              "      box-shadow: 0px 1px 3px 1px rgba(0, 0, 0, 0.15);\n",
              "      filter: drop-shadow(0px 1px 2px rgba(0, 0, 0, 0.3));\n",
              "      fill: #FFFFFF;\n",
              "    }\n",
              "  </style>\n",
              "\n",
              "      <script>\n",
              "        const buttonEl =\n",
              "          document.querySelector('#df-ea4d2bf8-3820-4c86-91c7-b6306d1ca120 button.colab-df-convert');\n",
              "        buttonEl.style.display =\n",
              "          google.colab.kernel.accessAllowed ? 'block' : 'none';\n",
              "\n",
              "        async function convertToInteractive(key) {\n",
              "          const element = document.querySelector('#df-ea4d2bf8-3820-4c86-91c7-b6306d1ca120');\n",
              "          const dataTable =\n",
              "            await google.colab.kernel.invokeFunction('convertToInteractive',\n",
              "                                                     [key], {});\n",
              "          if (!dataTable) return;\n",
              "\n",
              "          const docLinkHtml = 'Like what you see? Visit the ' +\n",
              "            '<a target=\"_blank\" href=https://colab.research.google.com/notebooks/data_table.ipynb>data table notebook</a>'\n",
              "            + ' to learn more about interactive tables.';\n",
              "          element.innerHTML = '';\n",
              "          dataTable['output_type'] = 'display_data';\n",
              "          await google.colab.output.renderOutput(dataTable, element);\n",
              "          const docLink = document.createElement('div');\n",
              "          docLink.innerHTML = docLinkHtml;\n",
              "          element.appendChild(docLink);\n",
              "        }\n",
              "      </script>\n",
              "    </div>\n",
              "  </div>\n",
              "  "
            ]
          },
          "metadata": {},
          "execution_count": 80
        }
      ]
    },
    {
      "cell_type": "code",
      "source": [
        "import seaborn as sns\n",
        "import matplotlib.pyplot as plt\n",
        "\n",
        "sns.barplot(x=importfeature['feature'], y = importfeature['importance'])\n",
        "plt.tick_params(rotation = 90)"
      ],
      "metadata": {
        "colab": {
          "base_uri": "https://localhost:8080/",
          "height": 353
        },
        "id": "l8fsLNm5Ddsh",
        "outputId": "59bcd67b-276a-4732-fdff-fad17f71f09c"
      },
      "execution_count": 81,
      "outputs": [
        {
          "output_type": "display_data",
          "data": {
            "text/plain": [
              "<Figure size 432x288 with 1 Axes>"
            ],
            "image/png": "[encoded data removed]"
          },
          "metadata": {
            "needs_background": "light"
          }
        }
      ]
    }
  ],
  "metadata": {
    "colab": {
      "provenance": []
    },
    "kernelspec": {
      "display_name": "Python 3",
      "name": "python3"
    },
    "language_info": {
      "name": "python"
    }
  },
  "nbformat": 4,
  "nbformat_minor": 0
}