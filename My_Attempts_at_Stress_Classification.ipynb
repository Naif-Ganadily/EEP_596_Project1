{
  "nbformat": 4,
  "nbformat_minor": 0,
  "metadata": {
    "colab": {
      "provenance": []
    },
    "kernelspec": {
      "name": "python3",
      "display_name": "Python 3"
    },
    "language_info": {
      "name": "python"
    }
  },
  "cells": [
    {
      "cell_type": "markdown",
      "source": [
        "# My Attempt without following the assignment "
      ],
      "metadata": {
        "id": "fRKEnsC25yki"
      }
    },
    {
      "cell_type": "code",
      "execution_count": null,
      "metadata": {
        "id": "LYrn48tk4oTj"
      },
      "outputs": [],
      "source": [
        "import pandas as pd \n",
        "import numpy as np"
      ]
    },
    {
      "cell_type": "code",
      "source": [
        "# Loading the Datasets\n",
        "df = pd.read_csv('local_dataset.csv')\n",
        "df2 = pd.read_csv('kaggle_dataset.csv')"
      ],
      "metadata": {
        "id": "NmTlb1P34xZ4"
      },
      "execution_count": null,
      "outputs": []
    },
    {
      "cell_type": "code",
      "source": [
        "df2_id = df2['Id']\n"
      ],
      "metadata": {
        "id": "R2IkEHqi2c_v"
      },
      "execution_count": null,
      "outputs": []
    },
    {
      "cell_type": "code",
      "source": [
        "df.head()"
      ],
      "metadata": {
        "colab": {
          "base_uri": "https://localhost:8080/",
          "height": 267
        },
        "id": "vFqvuwDa43DQ",
        "outputId": "3fd200f3-b384-4739-d47f-827bd1a3295a"
      },
      "execution_count": null,
      "outputs": [
        {
          "output_type": "execute_result",
          "data": {
            "text/plain": [
              "     Id          HR  interval in seconds      NNRR      AVNN      SDNN  \\\n",
              "0  1001  108.329447             0.668183  0.979203  0.666800  0.006600   \n",
              "1  1002   91.074128             0.666800  0.979203  0.666800  0.006600   \n",
              "2  1003   92.201787             0.666800  0.979203  0.666800  0.006600   \n",
              "3  1004   94.776255             0.666800  0.979203  0.666800  0.006600   \n",
              "4  1005         NaN             0.676691  0.978741  0.676911  0.030424   \n",
              "\n",
              "      RMSSD     pNN50        TP  ULF       VLF        LF        HF    LF_HF  \\\n",
              "0  0.003200  0.005000       NaN  0.0       NaN       NaN       NaN      NaN   \n",
              "1  0.003200  0.005000       NaN  0.0       NaN       NaN       NaN      NaN   \n",
              "2  0.003200  0.005000       NaN  0.0       NaN       NaN       NaN      NaN   \n",
              "3  0.003200  0.005000       NaN  0.0       NaN       NaN       NaN      NaN   \n",
              "4  0.012999  0.027727  0.000548  0.0  0.000863  0.000292  0.000033  8.79347   \n",
              "\n",
              "   stress  \n",
              "0     0.0  \n",
              "1     0.0  \n",
              "2     0.0  \n",
              "3     0.0  \n",
              "4     0.0  "
            ],
            "text/html": [
              "\n",
              "  <div id=\"df-60541ac6-30b9-42ff-b90b-f70c3d99dfdb\">\n",
              "    <div class=\"colab-df-container\">\n",
              "      <div>\n",
              "<style scoped>\n",
              "    .dataframe tbody tr th:only-of-type {\n",
              "        vertical-align: middle;\n",
              "    }\n",
              "\n",
              "    .dataframe tbody tr th {\n",
              "        vertical-align: top;\n",
              "    }\n",
              "\n",
              "    .dataframe thead th {\n",
              "        text-align: right;\n",
              "    }\n",
              "</style>\n",
              "<table border=\"1\" class=\"dataframe\">\n",
              "  <thead>\n",
              "    <tr style=\"text-align: right;\">\n",
              "      <th></th>\n",
              "      <th>Id</th>\n",
              "      <th>HR</th>\n",
              "      <th>interval in seconds</th>\n",
              "      <th>NNRR</th>\n",
              "      <th>AVNN</th>\n",
              "      <th>SDNN</th>\n",
              "      <th>RMSSD</th>\n",
              "      <th>pNN50</th>\n",
              "      <th>TP</th>\n",
              "      <th>ULF</th>\n",
              "      <th>VLF</th>\n",
              "      <th>LF</th>\n",
              "      <th>HF</th>\n",
              "      <th>LF_HF</th>\n",
              "      <th>stress</th>\n",
              "    </tr>\n",
              "  </thead>\n",
              "  <tbody>\n",
              "    <tr>\n",
              "      <th>0</th>\n",
              "      <td>1001</td>\n",
              "      <td>108.329447</td>\n",
              "      <td>0.668183</td>\n",
              "      <td>0.979203</td>\n",
              "      <td>0.666800</td>\n",
              "      <td>0.006600</td>\n",
              "      <td>0.003200</td>\n",
              "      <td>0.005000</td>\n",
              "      <td>NaN</td>\n",
              "      <td>0.0</td>\n",
              "      <td>NaN</td>\n",
              "      <td>NaN</td>\n",
              "      <td>NaN</td>\n",
              "      <td>NaN</td>\n",
              "      <td>0.0</td>\n",
              "    </tr>\n",
              "    <tr>\n",
              "      <th>1</th>\n",
              "      <td>1002</td>\n",
              "      <td>91.074128</td>\n",
              "      <td>0.666800</td>\n",
              "      <td>0.979203</td>\n",
              "      <td>0.666800</td>\n",
              "      <td>0.006600</td>\n",
              "      <td>0.003200</td>\n",
              "      <td>0.005000</td>\n",
              "      <td>NaN</td>\n",
              "      <td>0.0</td>\n",
              "      <td>NaN</td>\n",
              "      <td>NaN</td>\n",
              "      <td>NaN</td>\n",
              "      <td>NaN</td>\n",
              "      <td>0.0</td>\n",
              "    </tr>\n",
              "    <tr>\n",
              "      <th>2</th>\n",
              "      <td>1003</td>\n",
              "      <td>92.201787</td>\n",
              "      <td>0.666800</td>\n",
              "      <td>0.979203</td>\n",
              "      <td>0.666800</td>\n",
              "      <td>0.006600</td>\n",
              "      <td>0.003200</td>\n",
              "      <td>0.005000</td>\n",
              "      <td>NaN</td>\n",
              "      <td>0.0</td>\n",
              "      <td>NaN</td>\n",
              "      <td>NaN</td>\n",
              "      <td>NaN</td>\n",
              "      <td>NaN</td>\n",
              "      <td>0.0</td>\n",
              "    </tr>\n",
              "    <tr>\n",
              "      <th>3</th>\n",
              "      <td>1004</td>\n",
              "      <td>94.776255</td>\n",
              "      <td>0.666800</td>\n",
              "      <td>0.979203</td>\n",
              "      <td>0.666800</td>\n",
              "      <td>0.006600</td>\n",
              "      <td>0.003200</td>\n",
              "      <td>0.005000</td>\n",
              "      <td>NaN</td>\n",
              "      <td>0.0</td>\n",
              "      <td>NaN</td>\n",
              "      <td>NaN</td>\n",
              "      <td>NaN</td>\n",
              "      <td>NaN</td>\n",
              "      <td>0.0</td>\n",
              "    </tr>\n",
              "    <tr>\n",
              "      <th>4</th>\n",
              "      <td>1005</td>\n",
              "      <td>NaN</td>\n",
              "      <td>0.676691</td>\n",
              "      <td>0.978741</td>\n",
              "      <td>0.676911</td>\n",
              "      <td>0.030424</td>\n",
              "      <td>0.012999</td>\n",
              "      <td>0.027727</td>\n",
              "      <td>0.000548</td>\n",
              "      <td>0.0</td>\n",
              "      <td>0.000863</td>\n",
              "      <td>0.000292</td>\n",
              "      <td>0.000033</td>\n",
              "      <td>8.79347</td>\n",
              "      <td>0.0</td>\n",
              "    </tr>\n",
              "  </tbody>\n",
              "</table>\n",
              "</div>\n",
              "      <button class=\"colab-df-convert\" onclick=\"convertToInteractive('df-60541ac6-30b9-42ff-b90b-f70c3d99dfdb')\"\n",
              "              title=\"Convert this dataframe to an interactive table.\"\n",
              "              style=\"display:none;\">\n",
              "        \n",
              "  <svg xmlns=\"http://www.w3.org/2000/svg\" height=\"24px\"viewBox=\"0 0 24 24\"\n",
              "       width=\"24px\">\n",
              "    <path d=\"M0 0h24v24H0V0z\" fill=\"none\"/>\n",
              "    <path d=\"M18.56 5.44l.94 2.06.94-2.06 2.06-.94-2.06-.94-.94-2.06-.94 2.06-2.06.94zm-11 1L8.5 8.5l.94-2.06 2.06-.94-2.06-.94L8.5 2.5l-.94 2.06-2.06.94zm10 10l.94 2.06.94-2.06 2.06-.94-2.06-.94-.94-2.06-.94 2.06-2.06.94z\"/><path d=\"M17.41 7.96l-1.37-1.37c-.4-.4-.92-.59-1.43-.59-.52 0-1.04.2-1.43.59L10.3 9.45l-7.72 7.72c-.78.78-.78 2.05 0 2.83L4 21.41c.39.39.9.59 1.41.59.51 0 1.02-.2 1.41-.59l7.78-7.78 2.81-2.81c.8-.78.8-2.07 0-2.86zM5.41 20L4 18.59l7.72-7.72 1.47 1.35L5.41 20z\"/>\n",
              "  </svg>\n",
              "      </button>\n",
              "      \n",
              "  <style>\n",
              "    .colab-df-container {\n",
              "      display:flex;\n",
              "      flex-wrap:wrap;\n",
              "      gap: 12px;\n",
              "    }\n",
              "\n",
              "    .colab-df-convert {\n",
              "      background-color: #E8F0FE;\n",
              "      border: none;\n",
              "      border-radius: 50%;\n",
              "      cursor: pointer;\n",
              "      display: none;\n",
              "      fill: #1967D2;\n",
              "      height: 32px;\n",
              "      padding: 0 0 0 0;\n",
              "      width: 32px;\n",
              "    }\n",
              "\n",
              "    .colab-df-convert:hover {\n",
              "      background-color: #E2EBFA;\n",
              "      box-shadow: 0px 1px 2px rgba(60, 64, 67, 0.3), 0px 1px 3px 1px rgba(60, 64, 67, 0.15);\n",
              "      fill: #174EA6;\n",
              "    }\n",
              "\n",
              "    [theme=dark] .colab-df-convert {\n",
              "      background-color: #3B4455;\n",
              "      fill: #D2E3FC;\n",
              "    }\n",
              "\n",
              "    [theme=dark] .colab-df-convert:hover {\n",
              "      background-color: #434B5C;\n",
              "      box-shadow: 0px 1px 3px 1px rgba(0, 0, 0, 0.15);\n",
              "      filter: drop-shadow(0px 1px 2px rgba(0, 0, 0, 0.3));\n",
              "      fill: #FFFFFF;\n",
              "    }\n",
              "  </style>\n",
              "\n",
              "      <script>\n",
              "        const buttonEl =\n",
              "          document.querySelector('#df-60541ac6-30b9-42ff-b90b-f70c3d99dfdb button.colab-df-convert');\n",
              "        buttonEl.style.display =\n",
              "          google.colab.kernel.accessAllowed ? 'block' : 'none';\n",
              "\n",
              "        async function convertToInteractive(key) {\n",
              "          const element = document.querySelector('#df-60541ac6-30b9-42ff-b90b-f70c3d99dfdb');\n",
              "          const dataTable =\n",
              "            await google.colab.kernel.invokeFunction('convertToInteractive',\n",
              "                                                     [key], {});\n",
              "          if (!dataTable) return;\n",
              "\n",
              "          const docLinkHtml = 'Like what you see? Visit the ' +\n",
              "            '<a target=\"_blank\" href=https://colab.research.google.com/notebooks/data_table.ipynb>data table notebook</a>'\n",
              "            + ' to learn more about interactive tables.';\n",
              "          element.innerHTML = '';\n",
              "          dataTable['output_type'] = 'display_data';\n",
              "          await google.colab.output.renderOutput(dataTable, element);\n",
              "          const docLink = document.createElement('div');\n",
              "          docLink.innerHTML = docLinkHtml;\n",
              "          element.appendChild(docLink);\n",
              "        }\n",
              "      </script>\n",
              "    </div>\n",
              "  </div>\n",
              "  "
            ]
          },
          "metadata": {},
          "execution_count": 4
        }
      ]
    },
    {
      "cell_type": "code",
      "source": [
        "# Renaming the Column for ease of use \n",
        "df.rename(columns={\"interval in seconds\": \"interval_seconds\"}, inplace=True)\n",
        "df2.rename(columns={\"interval in seconds\": \"interval_seconds\"}, inplace=True)\n",
        "\n",
        "# Dropping useless Columns\n",
        "#df = df.drop('LF_HF',  axis=1)\n",
        "df = df.drop('Id',  axis=1)\n",
        "#df2 = df2.drop('LF_HF', axis=1)\n",
        "df2 = df2.drop('Id', axis=1)\n",
        "\n",
        "# Replacing the inf values to Null Values\n",
        "df.replace([np.inf, -np.inf], np.nan, inplace=True)\n",
        "df2.replace([np.inf, -np.inf], np.nan, inplace=True)\n",
        "'''\n",
        " Printing the Column names, size of Columns and checking if there are any\n",
        " remaining Null values\n",
        "'''\n",
        "\n",
        "print(df.columns)\n",
        "print()\n",
        "print(df2.columns)\n",
        "print()\n",
        "print('df: ', df.shape)\n",
        "print()\n",
        "print('df2: ',df2.shape)\n",
        "print()\n",
        "print(df.isnull().sum())\n",
        "print()\n",
        "print(df2.isnull().sum())"
      ],
      "metadata": {
        "colab": {
          "base_uri": "https://localhost:8080/"
        },
        "id": "PXx8KV_76kjS",
        "outputId": "f870afee-3f03-435a-a889-2800703b5175"
      },
      "execution_count": null,
      "outputs": [
        {
          "output_type": "stream",
          "name": "stdout",
          "text": [
            "Index(['HR', 'interval_seconds', 'NNRR', 'AVNN', 'SDNN', 'RMSSD', 'pNN50',\n",
            "       'TP', 'ULF', 'VLF', 'LF', 'HF', 'LF_HF', 'stress'],\n",
            "      dtype='object')\n",
            "\n",
            "Index(['HR', 'interval_seconds', 'NNRR', 'AVNN', 'SDNN', 'RMSSD', 'pNN50',\n",
            "       'TP', 'ULF', 'VLF', 'LF', 'HF', 'LF_HF'],\n",
            "      dtype='object')\n",
            "\n",
            "df:  (3129, 14)\n",
            "\n",
            "df2:  (1000, 13)\n",
            "\n",
            "HR                   109\n",
            "interval_seconds       0\n",
            "NNRR                  58\n",
            "AVNN                  74\n",
            "SDNN                  90\n",
            "RMSSD                  0\n",
            "pNN50                  0\n",
            "TP                   236\n",
            "ULF                  140\n",
            "VLF                   96\n",
            "LF                    96\n",
            "HF                    96\n",
            "LF_HF               3081\n",
            "stress                 0\n",
            "dtype: int64\n",
            "\n",
            "HR                    0\n",
            "interval_seconds      0\n",
            "NNRR                  0\n",
            "AVNN                  0\n",
            "SDNN                 32\n",
            "RMSSD                 0\n",
            "pNN50                 0\n",
            "TP                   87\n",
            "ULF                  56\n",
            "VLF                  31\n",
            "LF                   31\n",
            "HF                   31\n",
            "LF_HF               990\n",
            "dtype: int64\n"
          ]
        }
      ]
    },
    {
      "cell_type": "code",
      "source": [
        "# Using For loop to replace all Null values with the median of the column\n",
        "# while also replacing the test dataset with the median of the train dataset\n",
        "columns = ['HR', 'NNRR', 'AVNN','SDNN', 'TP', 'ULF', 'VLF', 'LF', 'HF', 'LF_HF']\n",
        "for col in columns:\n",
        "    median = df[col].median()\n",
        "    df[col].fillna(median, inplace=True)\n",
        "    df2[col].fillna(median, inplace=True)\n",
        "\n",
        "print('df: ', df.shape)\n",
        "print()\n",
        "print('df2: ',df2.shape)\n",
        "print()\n",
        "print(df.isnull().sum())\n",
        "print()\n",
        "print(df2.isnull().sum())"
      ],
      "metadata": {
        "colab": {
          "base_uri": "https://localhost:8080/"
        },
        "id": "2B_f8Xxn7YRl",
        "outputId": "c918d82a-8002-43fa-ef0f-7b129cebd8d0"
      },
      "execution_count": null,
      "outputs": [
        {
          "output_type": "stream",
          "name": "stdout",
          "text": [
            "df:  (3129, 14)\n",
            "\n",
            "df2:  (1000, 13)\n",
            "\n",
            "HR                  0\n",
            "interval_seconds    0\n",
            "NNRR                0\n",
            "AVNN                0\n",
            "SDNN                0\n",
            "RMSSD               0\n",
            "pNN50               0\n",
            "TP                  0\n",
            "ULF                 0\n",
            "VLF                 0\n",
            "LF                  0\n",
            "HF                  0\n",
            "LF_HF               0\n",
            "stress              0\n",
            "dtype: int64\n",
            "\n",
            "HR                  0\n",
            "interval_seconds    0\n",
            "NNRR                0\n",
            "AVNN                0\n",
            "SDNN                0\n",
            "RMSSD               0\n",
            "pNN50               0\n",
            "TP                  0\n",
            "ULF                 0\n",
            "VLF                 0\n",
            "LF                  0\n",
            "HF                  0\n",
            "LF_HF               0\n",
            "dtype: int64\n"
          ]
        }
      ]
    },
    {
      "cell_type": "code",
      "source": [
        "df2.head()"
      ],
      "metadata": {
        "colab": {
          "base_uri": "https://localhost:8080/",
          "height": 206
        },
        "id": "wGpR0Z0o03sI",
        "outputId": "562bd80b-e4bc-4aa1-fed5-7dcbb0dfc8b0"
      },
      "execution_count": null,
      "outputs": [
        {
          "output_type": "execute_result",
          "data": {
            "text/plain": [
              "          HR  interval_seconds      NNRR      AVNN      SDNN     RMSSD  \\\n",
              "0  95.135158          0.890853  0.974164  0.889935  0.096018  0.046200   \n",
              "1  82.564200          0.628600  0.980480  0.629127  0.085506  0.040439   \n",
              "2  90.010889          0.944939  0.972702  0.943657  0.121277  0.058594   \n",
              "3  81.102854          0.811532  0.976090  0.811925  0.049806  0.023856   \n",
              "4  89.572000          0.844262  0.974839  0.843826  0.050792  0.024407   \n",
              "\n",
              "      pNN50        TP       ULF      VLF   LF   HF     LF_HF  \n",
              "0  0.032778  0.105342  0.105342  0.00064  0.0  0.0  3.272245  \n",
              "1  0.025833  0.104875  0.104875  0.00064  0.0  0.0  3.272245  \n",
              "2  0.034412  0.166643  0.166643  0.00064  0.0  0.0  3.272245  \n",
              "3  0.030641  0.026524  0.026524  0.00064  0.0  0.0  3.272245  \n",
              "4  0.032027  0.025992  0.025992  0.00064  0.0  0.0  3.272245  "
            ],
            "text/html": [
              "\n",
              "  <div id=\"df-571e0112-4288-4a02-abb8-b83ba6c0093f\">\n",
              "    <div class=\"colab-df-container\">\n",
              "      <div>\n",
              "<style scoped>\n",
              "    .dataframe tbody tr th:only-of-type {\n",
              "        vertical-align: middle;\n",
              "    }\n",
              "\n",
              "    .dataframe tbody tr th {\n",
              "        vertical-align: top;\n",
              "    }\n",
              "\n",
              "    .dataframe thead th {\n",
              "        text-align: right;\n",
              "    }\n",
              "</style>\n",
              "<table border=\"1\" class=\"dataframe\">\n",
              "  <thead>\n",
              "    <tr style=\"text-align: right;\">\n",
              "      <th></th>\n",
              "      <th>HR</th>\n",
              "      <th>interval_seconds</th>\n",
              "      <th>NNRR</th>\n",
              "      <th>AVNN</th>\n",
              "      <th>SDNN</th>\n",
              "      <th>RMSSD</th>\n",
              "      <th>pNN50</th>\n",
              "      <th>TP</th>\n",
              "      <th>ULF</th>\n",
              "      <th>VLF</th>\n",
              "      <th>LF</th>\n",
              "      <th>HF</th>\n",
              "      <th>LF_HF</th>\n",
              "    </tr>\n",
              "  </thead>\n",
              "  <tbody>\n",
              "    <tr>\n",
              "      <th>0</th>\n",
              "      <td>95.135158</td>\n",
              "      <td>0.890853</td>\n",
              "      <td>0.974164</td>\n",
              "      <td>0.889935</td>\n",
              "      <td>0.096018</td>\n",
              "      <td>0.046200</td>\n",
              "      <td>0.032778</td>\n",
              "      <td>0.105342</td>\n",
              "      <td>0.105342</td>\n",
              "      <td>0.00064</td>\n",
              "      <td>0.0</td>\n",
              "      <td>0.0</td>\n",
              "      <td>3.272245</td>\n",
              "    </tr>\n",
              "    <tr>\n",
              "      <th>1</th>\n",
              "      <td>82.564200</td>\n",
              "      <td>0.628600</td>\n",
              "      <td>0.980480</td>\n",
              "      <td>0.629127</td>\n",
              "      <td>0.085506</td>\n",
              "      <td>0.040439</td>\n",
              "      <td>0.025833</td>\n",
              "      <td>0.104875</td>\n",
              "      <td>0.104875</td>\n",
              "      <td>0.00064</td>\n",
              "      <td>0.0</td>\n",
              "      <td>0.0</td>\n",
              "      <td>3.272245</td>\n",
              "    </tr>\n",
              "    <tr>\n",
              "      <th>2</th>\n",
              "      <td>90.010889</td>\n",
              "      <td>0.944939</td>\n",
              "      <td>0.972702</td>\n",
              "      <td>0.943657</td>\n",
              "      <td>0.121277</td>\n",
              "      <td>0.058594</td>\n",
              "      <td>0.034412</td>\n",
              "      <td>0.166643</td>\n",
              "      <td>0.166643</td>\n",
              "      <td>0.00064</td>\n",
              "      <td>0.0</td>\n",
              "      <td>0.0</td>\n",
              "      <td>3.272245</td>\n",
              "    </tr>\n",
              "    <tr>\n",
              "      <th>3</th>\n",
              "      <td>81.102854</td>\n",
              "      <td>0.811532</td>\n",
              "      <td>0.976090</td>\n",
              "      <td>0.811925</td>\n",
              "      <td>0.049806</td>\n",
              "      <td>0.023856</td>\n",
              "      <td>0.030641</td>\n",
              "      <td>0.026524</td>\n",
              "      <td>0.026524</td>\n",
              "      <td>0.00064</td>\n",
              "      <td>0.0</td>\n",
              "      <td>0.0</td>\n",
              "      <td>3.272245</td>\n",
              "    </tr>\n",
              "    <tr>\n",
              "      <th>4</th>\n",
              "      <td>89.572000</td>\n",
              "      <td>0.844262</td>\n",
              "      <td>0.974839</td>\n",
              "      <td>0.843826</td>\n",
              "      <td>0.050792</td>\n",
              "      <td>0.024407</td>\n",
              "      <td>0.032027</td>\n",
              "      <td>0.025992</td>\n",
              "      <td>0.025992</td>\n",
              "      <td>0.00064</td>\n",
              "      <td>0.0</td>\n",
              "      <td>0.0</td>\n",
              "      <td>3.272245</td>\n",
              "    </tr>\n",
              "  </tbody>\n",
              "</table>\n",
              "</div>\n",
              "      <button class=\"colab-df-convert\" onclick=\"convertToInteractive('df-571e0112-4288-4a02-abb8-b83ba6c0093f')\"\n",
              "              title=\"Convert this dataframe to an interactive table.\"\n",
              "              style=\"display:none;\">\n",
              "        \n",
              "  <svg xmlns=\"http://www.w3.org/2000/svg\" height=\"24px\"viewBox=\"0 0 24 24\"\n",
              "       width=\"24px\">\n",
              "    <path d=\"M0 0h24v24H0V0z\" fill=\"none\"/>\n",
              "    <path d=\"M18.56 5.44l.94 2.06.94-2.06 2.06-.94-2.06-.94-.94-2.06-.94 2.06-2.06.94zm-11 1L8.5 8.5l.94-2.06 2.06-.94-2.06-.94L8.5 2.5l-.94 2.06-2.06.94zm10 10l.94 2.06.94-2.06 2.06-.94-2.06-.94-.94-2.06-.94 2.06-2.06.94z\"/><path d=\"M17.41 7.96l-1.37-1.37c-.4-.4-.92-.59-1.43-.59-.52 0-1.04.2-1.43.59L10.3 9.45l-7.72 7.72c-.78.78-.78 2.05 0 2.83L4 21.41c.39.39.9.59 1.41.59.51 0 1.02-.2 1.41-.59l7.78-7.78 2.81-2.81c.8-.78.8-2.07 0-2.86zM5.41 20L4 18.59l7.72-7.72 1.47 1.35L5.41 20z\"/>\n",
              "  </svg>\n",
              "      </button>\n",
              "      \n",
              "  <style>\n",
              "    .colab-df-container {\n",
              "      display:flex;\n",
              "      flex-wrap:wrap;\n",
              "      gap: 12px;\n",
              "    }\n",
              "\n",
              "    .colab-df-convert {\n",
              "      background-color: #E8F0FE;\n",
              "      border: none;\n",
              "      border-radius: 50%;\n",
              "      cursor: pointer;\n",
              "      display: none;\n",
              "      fill: #1967D2;\n",
              "      height: 32px;\n",
              "      padding: 0 0 0 0;\n",
              "      width: 32px;\n",
              "    }\n",
              "\n",
              "    .colab-df-convert:hover {\n",
              "      background-color: #E2EBFA;\n",
              "      box-shadow: 0px 1px 2px rgba(60, 64, 67, 0.3), 0px 1px 3px 1px rgba(60, 64, 67, 0.15);\n",
              "      fill: #174EA6;\n",
              "    }\n",
              "\n",
              "    [theme=dark] .colab-df-convert {\n",
              "      background-color: #3B4455;\n",
              "      fill: #D2E3FC;\n",
              "    }\n",
              "\n",
              "    [theme=dark] .colab-df-convert:hover {\n",
              "      background-color: #434B5C;\n",
              "      box-shadow: 0px 1px 3px 1px rgba(0, 0, 0, 0.15);\n",
              "      filter: drop-shadow(0px 1px 2px rgba(0, 0, 0, 0.3));\n",
              "      fill: #FFFFFF;\n",
              "    }\n",
              "  </style>\n",
              "\n",
              "      <script>\n",
              "        const buttonEl =\n",
              "          document.querySelector('#df-571e0112-4288-4a02-abb8-b83ba6c0093f button.colab-df-convert');\n",
              "        buttonEl.style.display =\n",
              "          google.colab.kernel.accessAllowed ? 'block' : 'none';\n",
              "\n",
              "        async function convertToInteractive(key) {\n",
              "          const element = document.querySelector('#df-571e0112-4288-4a02-abb8-b83ba6c0093f');\n",
              "          const dataTable =\n",
              "            await google.colab.kernel.invokeFunction('convertToInteractive',\n",
              "                                                     [key], {});\n",
              "          if (!dataTable) return;\n",
              "\n",
              "          const docLinkHtml = 'Like what you see? Visit the ' +\n",
              "            '<a target=\"_blank\" href=https://colab.research.google.com/notebooks/data_table.ipynb>data table notebook</a>'\n",
              "            + ' to learn more about interactive tables.';\n",
              "          element.innerHTML = '';\n",
              "          dataTable['output_type'] = 'display_data';\n",
              "          await google.colab.output.renderOutput(dataTable, element);\n",
              "          const docLink = document.createElement('div');\n",
              "          docLink.innerHTML = docLinkHtml;\n",
              "          element.appendChild(docLink);\n",
              "        }\n",
              "      </script>\n",
              "    </div>\n",
              "  </div>\n",
              "  "
            ]
          },
          "metadata": {},
          "execution_count": 7
        }
      ]
    },
    {
      "cell_type": "markdown",
      "source": [
        "## Normalization"
      ],
      "metadata": {
        "id": "pwtVh4ImJkyT"
      }
    },
    {
      "cell_type": "code",
      "source": [
        "df.head()"
      ],
      "metadata": {
        "colab": {
          "base_uri": "https://localhost:8080/",
          "height": 250
        },
        "id": "XqTe-66CLQ1D",
        "outputId": "def9a68a-5ade-4db5-9c40-6db4466d46bf"
      },
      "execution_count": null,
      "outputs": [
        {
          "output_type": "execute_result",
          "data": {
            "text/plain": [
              "           HR  interval_seconds      NNRR      AVNN      SDNN     RMSSD  \\\n",
              "0  108.329447          0.668183  0.979203  0.666800  0.006600  0.003200   \n",
              "1   91.074128          0.666800  0.979203  0.666800  0.006600  0.003200   \n",
              "2   92.201787          0.666800  0.979203  0.666800  0.006600  0.003200   \n",
              "3   94.776255          0.666800  0.979203  0.666800  0.006600  0.003200   \n",
              "4   83.305717          0.676691  0.978741  0.676911  0.030424  0.012999   \n",
              "\n",
              "      pNN50        TP  ULF       VLF        LF        HF     LF_HF  stress  \n",
              "0  0.005000  0.030690  0.0  0.000640  0.000000  0.000000  3.272245     0.0  \n",
              "1  0.005000  0.030690  0.0  0.000640  0.000000  0.000000  3.272245     0.0  \n",
              "2  0.005000  0.030690  0.0  0.000640  0.000000  0.000000  3.272245     0.0  \n",
              "3  0.005000  0.030690  0.0  0.000640  0.000000  0.000000  3.272245     0.0  \n",
              "4  0.027727  0.000548  0.0  0.000863  0.000292  0.000033  8.793470     0.0  "
            ],
            "text/html": [
              "\n",
              "  <div id=\"df-5860369e-d582-4210-9dfb-1f75805da3e6\">\n",
              "    <div class=\"colab-df-container\">\n",
              "      <div>\n",
              "<style scoped>\n",
              "    .dataframe tbody tr th:only-of-type {\n",
              "        vertical-align: middle;\n",
              "    }\n",
              "\n",
              "    .dataframe tbody tr th {\n",
              "        vertical-align: top;\n",
              "    }\n",
              "\n",
              "    .dataframe thead th {\n",
              "        text-align: right;\n",
              "    }\n",
              "</style>\n",
              "<table border=\"1\" class=\"dataframe\">\n",
              "  <thead>\n",
              "    <tr style=\"text-align: right;\">\n",
              "      <th></th>\n",
              "      <th>HR</th>\n",
              "      <th>interval_seconds</th>\n",
              "      <th>NNRR</th>\n",
              "      <th>AVNN</th>\n",
              "      <th>SDNN</th>\n",
              "      <th>RMSSD</th>\n",
              "      <th>pNN50</th>\n",
              "      <th>TP</th>\n",
              "      <th>ULF</th>\n",
              "      <th>VLF</th>\n",
              "      <th>LF</th>\n",
              "      <th>HF</th>\n",
              "      <th>LF_HF</th>\n",
              "      <th>stress</th>\n",
              "    </tr>\n",
              "  </thead>\n",
              "  <tbody>\n",
              "    <tr>\n",
              "      <th>0</th>\n",
              "      <td>108.329447</td>\n",
              "      <td>0.668183</td>\n",
              "      <td>0.979203</td>\n",
              "      <td>0.666800</td>\n",
              "      <td>0.006600</td>\n",
              "      <td>0.003200</td>\n",
              "      <td>0.005000</td>\n",
              "      <td>0.030690</td>\n",
              "      <td>0.0</td>\n",
              "      <td>0.000640</td>\n",
              "      <td>0.000000</td>\n",
              "      <td>0.000000</td>\n",
              "      <td>3.272245</td>\n",
              "      <td>0.0</td>\n",
              "    </tr>\n",
              "    <tr>\n",
              "      <th>1</th>\n",
              "      <td>91.074128</td>\n",
              "      <td>0.666800</td>\n",
              "      <td>0.979203</td>\n",
              "      <td>0.666800</td>\n",
              "      <td>0.006600</td>\n",
              "      <td>0.003200</td>\n",
              "      <td>0.005000</td>\n",
              "      <td>0.030690</td>\n",
              "      <td>0.0</td>\n",
              "      <td>0.000640</td>\n",
              "      <td>0.000000</td>\n",
              "      <td>0.000000</td>\n",
              "      <td>3.272245</td>\n",
              "      <td>0.0</td>\n",
              "    </tr>\n",
              "    <tr>\n",
              "      <th>2</th>\n",
              "      <td>92.201787</td>\n",
              "      <td>0.666800</td>\n",
              "      <td>0.979203</td>\n",
              "      <td>0.666800</td>\n",
              "      <td>0.006600</td>\n",
              "      <td>0.003200</td>\n",
              "      <td>0.005000</td>\n",
              "      <td>0.030690</td>\n",
              "      <td>0.0</td>\n",
              "      <td>0.000640</td>\n",
              "      <td>0.000000</td>\n",
              "      <td>0.000000</td>\n",
              "      <td>3.272245</td>\n",
              "      <td>0.0</td>\n",
              "    </tr>\n",
              "    <tr>\n",
              "      <th>3</th>\n",
              "      <td>94.776255</td>\n",
              "      <td>0.666800</td>\n",
              "      <td>0.979203</td>\n",
              "      <td>0.666800</td>\n",
              "      <td>0.006600</td>\n",
              "      <td>0.003200</td>\n",
              "      <td>0.005000</td>\n",
              "      <td>0.030690</td>\n",
              "      <td>0.0</td>\n",
              "      <td>0.000640</td>\n",
              "      <td>0.000000</td>\n",
              "      <td>0.000000</td>\n",
              "      <td>3.272245</td>\n",
              "      <td>0.0</td>\n",
              "    </tr>\n",
              "    <tr>\n",
              "      <th>4</th>\n",
              "      <td>83.305717</td>\n",
              "      <td>0.676691</td>\n",
              "      <td>0.978741</td>\n",
              "      <td>0.676911</td>\n",
              "      <td>0.030424</td>\n",
              "      <td>0.012999</td>\n",
              "      <td>0.027727</td>\n",
              "      <td>0.000548</td>\n",
              "      <td>0.0</td>\n",
              "      <td>0.000863</td>\n",
              "      <td>0.000292</td>\n",
              "      <td>0.000033</td>\n",
              "      <td>8.793470</td>\n",
              "      <td>0.0</td>\n",
              "    </tr>\n",
              "  </tbody>\n",
              "</table>\n",
              "</div>\n",
              "      <button class=\"colab-df-convert\" onclick=\"convertToInteractive('df-5860369e-d582-4210-9dfb-1f75805da3e6')\"\n",
              "              title=\"Convert this dataframe to an interactive table.\"\n",
              "              style=\"display:none;\">\n",
              "        \n",
              "  <svg xmlns=\"http://www.w3.org/2000/svg\" height=\"24px\"viewBox=\"0 0 24 24\"\n",
              "       width=\"24px\">\n",
              "    <path d=\"M0 0h24v24H0V0z\" fill=\"none\"/>\n",
              "    <path d=\"M18.56 5.44l.94 2.06.94-2.06 2.06-.94-2.06-.94-.94-2.06-.94 2.06-2.06.94zm-11 1L8.5 8.5l.94-2.06 2.06-.94-2.06-.94L8.5 2.5l-.94 2.06-2.06.94zm10 10l.94 2.06.94-2.06 2.06-.94-2.06-.94-.94-2.06-.94 2.06-2.06.94z\"/><path d=\"M17.41 7.96l-1.37-1.37c-.4-.4-.92-.59-1.43-.59-.52 0-1.04.2-1.43.59L10.3 9.45l-7.72 7.72c-.78.78-.78 2.05 0 2.83L4 21.41c.39.39.9.59 1.41.59.51 0 1.02-.2 1.41-.59l7.78-7.78 2.81-2.81c.8-.78.8-2.07 0-2.86zM5.41 20L4 18.59l7.72-7.72 1.47 1.35L5.41 20z\"/>\n",
              "  </svg>\n",
              "      </button>\n",
              "      \n",
              "  <style>\n",
              "    .colab-df-container {\n",
              "      display:flex;\n",
              "      flex-wrap:wrap;\n",
              "      gap: 12px;\n",
              "    }\n",
              "\n",
              "    .colab-df-convert {\n",
              "      background-color: #E8F0FE;\n",
              "      border: none;\n",
              "      border-radius: 50%;\n",
              "      cursor: pointer;\n",
              "      display: none;\n",
              "      fill: #1967D2;\n",
              "      height: 32px;\n",
              "      padding: 0 0 0 0;\n",
              "      width: 32px;\n",
              "    }\n",
              "\n",
              "    .colab-df-convert:hover {\n",
              "      background-color: #E2EBFA;\n",
              "      box-shadow: 0px 1px 2px rgba(60, 64, 67, 0.3), 0px 1px 3px 1px rgba(60, 64, 67, 0.15);\n",
              "      fill: #174EA6;\n",
              "    }\n",
              "\n",
              "    [theme=dark] .colab-df-convert {\n",
              "      background-color: #3B4455;\n",
              "      fill: #D2E3FC;\n",
              "    }\n",
              "\n",
              "    [theme=dark] .colab-df-convert:hover {\n",
              "      background-color: #434B5C;\n",
              "      box-shadow: 0px 1px 3px 1px rgba(0, 0, 0, 0.15);\n",
              "      filter: drop-shadow(0px 1px 2px rgba(0, 0, 0, 0.3));\n",
              "      fill: #FFFFFF;\n",
              "    }\n",
              "  </style>\n",
              "\n",
              "      <script>\n",
              "        const buttonEl =\n",
              "          document.querySelector('#df-5860369e-d582-4210-9dfb-1f75805da3e6 button.colab-df-convert');\n",
              "        buttonEl.style.display =\n",
              "          google.colab.kernel.accessAllowed ? 'block' : 'none';\n",
              "\n",
              "        async function convertToInteractive(key) {\n",
              "          const element = document.querySelector('#df-5860369e-d582-4210-9dfb-1f75805da3e6');\n",
              "          const dataTable =\n",
              "            await google.colab.kernel.invokeFunction('convertToInteractive',\n",
              "                                                     [key], {});\n",
              "          if (!dataTable) return;\n",
              "\n",
              "          const docLinkHtml = 'Like what you see? Visit the ' +\n",
              "            '<a target=\"_blank\" href=https://colab.research.google.com/notebooks/data_table.ipynb>data table notebook</a>'\n",
              "            + ' to learn more about interactive tables.';\n",
              "          element.innerHTML = '';\n",
              "          dataTable['output_type'] = 'display_data';\n",
              "          await google.colab.output.renderOutput(dataTable, element);\n",
              "          const docLink = document.createElement('div');\n",
              "          docLink.innerHTML = docLinkHtml;\n",
              "          element.appendChild(docLink);\n",
              "        }\n",
              "      </script>\n",
              "    </div>\n",
              "  </div>\n",
              "  "
            ]
          },
          "metadata": {},
          "execution_count": 8
        }
      ]
    },
    {
      "cell_type": "code",
      "source": [
        "corr = df.corr()"
      ],
      "metadata": {
        "id": "jwkxcmEB44iB"
      },
      "execution_count": null,
      "outputs": []
    },
    {
      "cell_type": "code",
      "source": [
        "corr['stress']"
      ],
      "metadata": {
        "colab": {
          "base_uri": "https://localhost:8080/"
        },
        "id": "AAUmlQQB5AXs",
        "outputId": "7c416c84-fbe2-414a-f2e0-215c47abce03"
      },
      "execution_count": null,
      "outputs": [
        {
          "output_type": "execute_result",
          "data": {
            "text/plain": [
              "HR                  0.246806\n",
              "interval_seconds   -0.208182\n",
              "NNRR                0.171590\n",
              "AVNN               -0.204842\n",
              "SDNN               -0.037625\n",
              "RMSSD              -0.007179\n",
              "pNN50              -0.019107\n",
              "TP                 -0.017558\n",
              "ULF                -0.017962\n",
              "VLF                 0.016449\n",
              "LF                  0.035222\n",
              "HF                  0.041909\n",
              "LF_HF              -0.017645\n",
              "stress              1.000000\n",
              "Name: stress, dtype: float64"
            ]
          },
          "metadata": {},
          "execution_count": 10
        }
      ]
    },
    {
      "cell_type": "code",
      "source": [
        "from sklearn.model_selection import train_test_split"
      ],
      "metadata": {
        "id": "AyVLILON53ip"
      },
      "execution_count": null,
      "outputs": []
    },
    {
      "cell_type": "code",
      "source": [
        "target_column = 'stress'\n",
        "\n",
        "# drop the target column\n",
        "X = df.drop(target_column, axis=1)\n",
        "X2 = df2\n",
        "\n",
        "# normalize the dataset\n",
        "X = X.apply(lambda x: (x - x.min()) / (x.max() - x.min()))\n",
        "X2 = X2.apply(lambda x: (x - x.min()) / (x.max() - x.min()))\n"
      ],
      "metadata": {
        "id": "bxdYVy2TNlME"
      },
      "execution_count": null,
      "outputs": []
    },
    {
      "cell_type": "markdown",
      "source": [
        "## Train Test Split. 80/20"
      ],
      "metadata": {
        "id": "Gpmv9TRjGXDy"
      }
    },
    {
      "cell_type": "code",
      "source": [
        "# [:] All rows included [,:-1] All columns included except for the last one\n",
        "X = df.iloc[:,:-1]"
      ],
      "metadata": {
        "id": "Zlu9S7MV59gH"
      },
      "execution_count": null,
      "outputs": []
    },
    {
      "cell_type": "code",
      "source": [
        "X.shape"
      ],
      "metadata": {
        "colab": {
          "base_uri": "https://localhost:8080/"
        },
        "id": "BUWWCxxH9MDC",
        "outputId": "db5bf686-7748-4117-d2bd-bfbe60ec116b"
      },
      "execution_count": null,
      "outputs": [
        {
          "output_type": "execute_result",
          "data": {
            "text/plain": [
              "(3129, 13)"
            ]
          },
          "metadata": {},
          "execution_count": 16
        }
      ]
    },
    {
      "cell_type": "code",
      "source": [
        "X.head()"
      ],
      "metadata": {
        "colab": {
          "base_uri": "https://localhost:8080/",
          "height": 206
        },
        "id": "bhOuisAc9dhG",
        "outputId": "b9ed9601-047b-428a-dc2d-54d7ff9dd6d5"
      },
      "execution_count": null,
      "outputs": [
        {
          "output_type": "execute_result",
          "data": {
            "text/plain": [
              "         HR  interval_seconds      NNRR      AVNN          SDNN     RMSSD  \\\n",
              "0  0.272231          0.231260  0.746810  0.228993  8.846869e-08  0.000000   \n",
              "1  0.221806          0.228560  0.746810  0.228993  8.846869e-08  0.000000   \n",
              "2  0.225102          0.228560  0.746810  0.228993  8.846869e-08  0.000000   \n",
              "3  0.232625          0.228560  0.746810  0.228993  8.846869e-08  0.000000   \n",
              "4  0.199105          0.247873  0.704397  0.248811  1.447605e-01  0.121006   \n",
              "\n",
              "      pNN50        TP  ULF       VLF       LF        HF     LF_HF  \n",
              "0  0.000000  0.092931  0.0  0.000000  0.00000  0.000000  0.340745  \n",
              "1  0.000000  0.092931  0.0  0.000000  0.00000  0.000000  0.340745  \n",
              "2  0.000000  0.092931  0.0  0.000000  0.00000  0.000000  0.340745  \n",
              "3  0.000000  0.092931  0.0  0.000000  0.00000  0.000000  0.340745  \n",
              "4  0.088384  0.001551  0.0  0.006257  0.47433  0.127099  1.000000  "
            ],
            "text/html": [
              "\n",
              "  <div id=\"df-41eeda1b-a126-4fe3-9709-6f958942b511\">\n",
              "    <div class=\"colab-df-container\">\n",
              "      <div>\n",
              "<style scoped>\n",
              "    .dataframe tbody tr th:only-of-type {\n",
              "        vertical-align: middle;\n",
              "    }\n",
              "\n",
              "    .dataframe tbody tr th {\n",
              "        vertical-align: top;\n",
              "    }\n",
              "\n",
              "    .dataframe thead th {\n",
              "        text-align: right;\n",
              "    }\n",
              "</style>\n",
              "<table border=\"1\" class=\"dataframe\">\n",
              "  <thead>\n",
              "    <tr style=\"text-align: right;\">\n",
              "      <th></th>\n",
              "      <th>HR</th>\n",
              "      <th>interval_seconds</th>\n",
              "      <th>NNRR</th>\n",
              "      <th>AVNN</th>\n",
              "      <th>SDNN</th>\n",
              "      <th>RMSSD</th>\n",
              "      <th>pNN50</th>\n",
              "      <th>TP</th>\n",
              "      <th>ULF</th>\n",
              "      <th>VLF</th>\n",
              "      <th>LF</th>\n",
              "      <th>HF</th>\n",
              "      <th>LF_HF</th>\n",
              "    </tr>\n",
              "  </thead>\n",
              "  <tbody>\n",
              "    <tr>\n",
              "      <th>0</th>\n",
              "      <td>0.272231</td>\n",
              "      <td>0.231260</td>\n",
              "      <td>0.746810</td>\n",
              "      <td>0.228993</td>\n",
              "      <td>8.846869e-08</td>\n",
              "      <td>0.000000</td>\n",
              "      <td>0.000000</td>\n",
              "      <td>0.092931</td>\n",
              "      <td>0.0</td>\n",
              "      <td>0.000000</td>\n",
              "      <td>0.00000</td>\n",
              "      <td>0.000000</td>\n",
              "      <td>0.340745</td>\n",
              "    </tr>\n",
              "    <tr>\n",
              "      <th>1</th>\n",
              "      <td>0.221806</td>\n",
              "      <td>0.228560</td>\n",
              "      <td>0.746810</td>\n",
              "      <td>0.228993</td>\n",
              "      <td>8.846869e-08</td>\n",
              "      <td>0.000000</td>\n",
              "      <td>0.000000</td>\n",
              "      <td>0.092931</td>\n",
              "      <td>0.0</td>\n",
              "      <td>0.000000</td>\n",
              "      <td>0.00000</td>\n",
              "      <td>0.000000</td>\n",
              "      <td>0.340745</td>\n",
              "    </tr>\n",
              "    <tr>\n",
              "      <th>2</th>\n",
              "      <td>0.225102</td>\n",
              "      <td>0.228560</td>\n",
              "      <td>0.746810</td>\n",
              "      <td>0.228993</td>\n",
              "      <td>8.846869e-08</td>\n",
              "      <td>0.000000</td>\n",
              "      <td>0.000000</td>\n",
              "      <td>0.092931</td>\n",
              "      <td>0.0</td>\n",
              "      <td>0.000000</td>\n",
              "      <td>0.00000</td>\n",
              "      <td>0.000000</td>\n",
              "      <td>0.340745</td>\n",
              "    </tr>\n",
              "    <tr>\n",
              "      <th>3</th>\n",
              "      <td>0.232625</td>\n",
              "      <td>0.228560</td>\n",
              "      <td>0.746810</td>\n",
              "      <td>0.228993</td>\n",
              "      <td>8.846869e-08</td>\n",
              "      <td>0.000000</td>\n",
              "      <td>0.000000</td>\n",
              "      <td>0.092931</td>\n",
              "      <td>0.0</td>\n",
              "      <td>0.000000</td>\n",
              "      <td>0.00000</td>\n",
              "      <td>0.000000</td>\n",
              "      <td>0.340745</td>\n",
              "    </tr>\n",
              "    <tr>\n",
              "      <th>4</th>\n",
              "      <td>0.199105</td>\n",
              "      <td>0.247873</td>\n",
              "      <td>0.704397</td>\n",
              "      <td>0.248811</td>\n",
              "      <td>1.447605e-01</td>\n",
              "      <td>0.121006</td>\n",
              "      <td>0.088384</td>\n",
              "      <td>0.001551</td>\n",
              "      <td>0.0</td>\n",
              "      <td>0.006257</td>\n",
              "      <td>0.47433</td>\n",
              "      <td>0.127099</td>\n",
              "      <td>1.000000</td>\n",
              "    </tr>\n",
              "  </tbody>\n",
              "</table>\n",
              "</div>\n",
              "      <button class=\"colab-df-convert\" onclick=\"convertToInteractive('df-41eeda1b-a126-4fe3-9709-6f958942b511')\"\n",
              "              title=\"Convert this dataframe to an interactive table.\"\n",
              "              style=\"display:none;\">\n",
              "        \n",
              "  <svg xmlns=\"http://www.w3.org/2000/svg\" height=\"24px\"viewBox=\"0 0 24 24\"\n",
              "       width=\"24px\">\n",
              "    <path d=\"M0 0h24v24H0V0z\" fill=\"none\"/>\n",
              "    <path d=\"M18.56 5.44l.94 2.06.94-2.06 2.06-.94-2.06-.94-.94-2.06-.94 2.06-2.06.94zm-11 1L8.5 8.5l.94-2.06 2.06-.94-2.06-.94L8.5 2.5l-.94 2.06-2.06.94zm10 10l.94 2.06.94-2.06 2.06-.94-2.06-.94-.94-2.06-.94 2.06-2.06.94z\"/><path d=\"M17.41 7.96l-1.37-1.37c-.4-.4-.92-.59-1.43-.59-.52 0-1.04.2-1.43.59L10.3 9.45l-7.72 7.72c-.78.78-.78 2.05 0 2.83L4 21.41c.39.39.9.59 1.41.59.51 0 1.02-.2 1.41-.59l7.78-7.78 2.81-2.81c.8-.78.8-2.07 0-2.86zM5.41 20L4 18.59l7.72-7.72 1.47 1.35L5.41 20z\"/>\n",
              "  </svg>\n",
              "      </button>\n",
              "      \n",
              "  <style>\n",
              "    .colab-df-container {\n",
              "      display:flex;\n",
              "      flex-wrap:wrap;\n",
              "      gap: 12px;\n",
              "    }\n",
              "\n",
              "    .colab-df-convert {\n",
              "      background-color: #E8F0FE;\n",
              "      border: none;\n",
              "      border-radius: 50%;\n",
              "      cursor: pointer;\n",
              "      display: none;\n",
              "      fill: #1967D2;\n",
              "      height: 32px;\n",
              "      padding: 0 0 0 0;\n",
              "      width: 32px;\n",
              "    }\n",
              "\n",
              "    .colab-df-convert:hover {\n",
              "      background-color: #E2EBFA;\n",
              "      box-shadow: 0px 1px 2px rgba(60, 64, 67, 0.3), 0px 1px 3px 1px rgba(60, 64, 67, 0.15);\n",
              "      fill: #174EA6;\n",
              "    }\n",
              "\n",
              "    [theme=dark] .colab-df-convert {\n",
              "      background-color: #3B4455;\n",
              "      fill: #D2E3FC;\n",
              "    }\n",
              "\n",
              "    [theme=dark] .colab-df-convert:hover {\n",
              "      background-color: #434B5C;\n",
              "      box-shadow: 0px 1px 3px 1px rgba(0, 0, 0, 0.15);\n",
              "      filter: drop-shadow(0px 1px 2px rgba(0, 0, 0, 0.3));\n",
              "      fill: #FFFFFF;\n",
              "    }\n",
              "  </style>\n",
              "\n",
              "      <script>\n",
              "        const buttonEl =\n",
              "          document.querySelector('#df-41eeda1b-a126-4fe3-9709-6f958942b511 button.colab-df-convert');\n",
              "        buttonEl.style.display =\n",
              "          google.colab.kernel.accessAllowed ? 'block' : 'none';\n",
              "\n",
              "        async function convertToInteractive(key) {\n",
              "          const element = document.querySelector('#df-41eeda1b-a126-4fe3-9709-6f958942b511');\n",
              "          const dataTable =\n",
              "            await google.colab.kernel.invokeFunction('convertToInteractive',\n",
              "                                                     [key], {});\n",
              "          if (!dataTable) return;\n",
              "\n",
              "          const docLinkHtml = 'Like what you see? Visit the ' +\n",
              "            '<a target=\"_blank\" href=https://colab.research.google.com/notebooks/data_table.ipynb>data table notebook</a>'\n",
              "            + ' to learn more about interactive tables.';\n",
              "          element.innerHTML = '';\n",
              "          dataTable['output_type'] = 'display_data';\n",
              "          await google.colab.output.renderOutput(dataTable, element);\n",
              "          const docLink = document.createElement('div');\n",
              "          docLink.innerHTML = docLinkHtml;\n",
              "          element.appendChild(docLink);\n",
              "        }\n",
              "      </script>\n",
              "    </div>\n",
              "  </div>\n",
              "  "
            ]
          },
          "metadata": {},
          "execution_count": 21
        }
      ]
    },
    {
      "cell_type": "code",
      "source": [
        "y = df['stress']"
      ],
      "metadata": {
        "id": "EOGaxgxM6EoP"
      },
      "execution_count": null,
      "outputs": []
    },
    {
      "cell_type": "code",
      "source": [
        "y.head()"
      ],
      "metadata": {
        "colab": {
          "base_uri": "https://localhost:8080/"
        },
        "id": "urhDQUgf9RD1",
        "outputId": "099756ab-ad5a-4e8c-da21-4e462d3deac1"
      },
      "execution_count": null,
      "outputs": [
        {
          "output_type": "execute_result",
          "data": {
            "text/plain": [
              "0    0.0\n",
              "1    0.0\n",
              "2    0.0\n",
              "3    0.0\n",
              "4    0.0\n",
              "Name: stress, dtype: float64"
            ]
          },
          "metadata": {},
          "execution_count": 27
        }
      ]
    },
    {
      "cell_type": "code",
      "source": [
        "X_train, X_test, y_train, y_test = train_test_split(X, y, test_size = 0.20)"
      ],
      "metadata": {
        "id": "adrI62dF6Jxw"
      },
      "execution_count": null,
      "outputs": []
    },
    {
      "cell_type": "code",
      "source": [
        "print(X_train.shape)\n",
        "print(y_train.shape)\n",
        "print(X_test.shape)\n",
        "print(y_test.shape)"
      ],
      "metadata": {
        "colab": {
          "base_uri": "https://localhost:8080/"
        },
        "id": "fazU-DE6E6Pr",
        "outputId": "ab838087-6d6f-4063-ccbd-48def1c4c563"
      },
      "execution_count": null,
      "outputs": [
        {
          "output_type": "stream",
          "name": "stdout",
          "text": [
            "(2503, 13)\n",
            "(2503,)\n",
            "(626, 13)\n",
            "(626,)\n"
          ]
        }
      ]
    },
    {
      "cell_type": "markdown",
      "source": [
        "## Model Adaboost Classifier "
      ],
      "metadata": {
        "id": "vTRr9oeLGRfH"
      }
    },
    {
      "cell_type": "code",
      "source": [
        "from sklearn.ensemble import AdaBoostClassifier"
      ],
      "metadata": {
        "id": "lOCqsYVg87mF"
      },
      "execution_count": null,
      "outputs": []
    },
    {
      "cell_type": "code",
      "source": [
        "model1 = AdaBoostClassifier()\n",
        "model1.fit(X_train, y_train)"
      ],
      "metadata": {
        "colab": {
          "base_uri": "https://localhost:8080/"
        },
        "id": "PQyH3u6L9HGa",
        "outputId": "4906be53-3c96-4b72-e03c-c31cdb4898dd"
      },
      "execution_count": null,
      "outputs": [
        {
          "output_type": "execute_result",
          "data": {
            "text/plain": [
              "AdaBoostClassifier()"
            ]
          },
          "metadata": {},
          "execution_count": 37
        }
      ]
    },
    {
      "cell_type": "markdown",
      "source": [
        "## Evaluation "
      ],
      "metadata": {
        "id": "wuOhraFDGL-h"
      }
    },
    {
      "cell_type": "code",
      "source": [
        "print('train score', model1.score(X_train, y_train))\n",
        "print('test score', model1.score(X_test,y_test))"
      ],
      "metadata": {
        "colab": {
          "base_uri": "https://localhost:8080/"
        },
        "id": "Yvf7aT2n9riT",
        "outputId": "5c405098-7007-4607-b7bf-59f9ddcdac7c"
      },
      "execution_count": null,
      "outputs": [
        {
          "output_type": "stream",
          "name": "stdout",
          "text": [
            "train score 0.5900918897323212\n",
            "test score 0.5559105431309904\n"
          ]
        }
      ]
    },
    {
      "cell_type": "code",
      "source": [
        "# Evaluate the model on the training data set \n",
        "from sklearn.metrics import classification_report, confusion_matrix, accuracy_score\n",
        "pred = model1.predict(X_train)\n",
        "print(classification_report(y_train, pred))\n",
        "print()\n",
        "print('Confusion Matrix: \\n', confusion_matrix(y_train, pred))\n",
        "print()\n",
        "print('Accuracy: ', accuracy_score(y_train, pred))"
      ],
      "metadata": {
        "colab": {
          "base_uri": "https://localhost:8080/"
        },
        "id": "2xodpcNHFywr",
        "outputId": "5f9a4242-667a-47ee-a92c-acb1bae87928"
      },
      "execution_count": null,
      "outputs": [
        {
          "output_type": "stream",
          "name": "stdout",
          "text": [
            "              precision    recall  f1-score   support\n",
            "\n",
            "         0.0       0.67      0.56      0.61       693\n",
            "         1.0       0.57      0.80      0.66      1198\n",
            "         2.0       0.57      0.22      0.32       612\n",
            "\n",
            "    accuracy                           0.59      2503\n",
            "   macro avg       0.60      0.53      0.53      2503\n",
            "weighted avg       0.60      0.59      0.56      2503\n",
            "\n",
            "\n",
            "Confusion Matrix: \n",
            " [[386 292  15]\n",
            " [154 955  89]\n",
            " [ 34 442 136]]\n",
            "\n",
            "Accuracy:  0.5900918897323212\n"
          ]
        }
      ]
    },
    {
      "cell_type": "code",
      "source": [
        "# Evaluate the model on the testing data set \n",
        "from sklearn.metrics import classification_report, confusion_matrix, accuracy_score\n",
        "pred = model1.predict(X_test)\n",
        "print(classification_report(y_test, pred))\n",
        "print()\n",
        "print('Confusion Matrix: \\n', confusion_matrix(y_test, pred))\n",
        "print()\n",
        "print('Accuracy: ', accuracy_score(y_test, pred))"
      ],
      "metadata": {
        "colab": {
          "base_uri": "https://localhost:8080/"
        },
        "id": "zJhv23KbGHXF",
        "outputId": "92925b7d-6510-43de-a154-fd494c0aeb63"
      },
      "execution_count": null,
      "outputs": [
        {
          "output_type": "stream",
          "name": "stdout",
          "text": [
            "              precision    recall  f1-score   support\n",
            "\n",
            "         0.0       0.63      0.57      0.60       161\n",
            "         1.0       0.56      0.76      0.64       304\n",
            "         2.0       0.38      0.15      0.21       161\n",
            "\n",
            "    accuracy                           0.56       626\n",
            "   macro avg       0.52      0.49      0.49       626\n",
            "weighted avg       0.53      0.56      0.52       626\n",
            "\n",
            "\n",
            "Confusion Matrix: \n",
            " [[ 92  62   7]\n",
            " [ 40 232  32]\n",
            " [ 13 124  24]]\n",
            "\n",
            "Accuracy:  0.5559105431309904\n"
          ]
        }
      ]
    },
    {
      "cell_type": "markdown",
      "source": [
        "# Feature Selection"
      ],
      "metadata": {
        "id": "61wu1_p55WAQ"
      }
    },
    {
      "cell_type": "code",
      "source": [
        "from sklearn.feature_selection import SelectKBest\n",
        "from sklearn.feature_selection import mutual_info_classif\n",
        "\n",
        "\n",
        "kbest = SelectKBest(mutual_info_classif, k = 5)\n",
        "selectfeature = kbest.fit(X_train, y_train)\n",
        "\n",
        "from numpy.lib.function_base import select\n",
        "X_train.columns[selectfeature.get_support()]"
      ],
      "metadata": {
        "id": "ipPL_YmS5ILe",
        "colab": {
          "base_uri": "https://localhost:8080/"
        },
        "outputId": "85eed7f6-8eca-4f93-fa2a-5f3b70de29e4"
      },
      "execution_count": null,
      "outputs": [
        {
          "output_type": "execute_result",
          "data": {
            "text/plain": [
              "Index(['interval_seconds', 'NNRR', 'AVNN', 'SDNN', 'RMSSD'], dtype='object')"
            ]
          },
          "metadata": {},
          "execution_count": 33
        }
      ]
    },
    {
      "cell_type": "code",
      "source": [
        "X_train_selected = kbest.transform(X_train)\n",
        "X_test_selected = kbest.transform(X_test)\n",
        "\n",
        "model = AdaBoostClassifier()\n",
        "model.fit(X_train_selected, y_train)\n",
        "\n",
        "accuracy = model.score(X_test_selected, y_test)\n",
        "print('Accuracy:', accuracy)"
      ],
      "metadata": {
        "colab": {
          "base_uri": "https://localhost:8080/"
        },
        "id": "-fSQ-YpuHF0-",
        "outputId": "2c271a64-fe22-4eda-9e02-a7e54048fde9"
      },
      "execution_count": null,
      "outputs": [
        {
          "output_type": "stream",
          "name": "stdout",
          "text": [
            "Accuracy: 0.560702875399361\n"
          ]
        }
      ]
    },
    {
      "cell_type": "code",
      "source": [
        "X1 = X"
      ],
      "metadata": {
        "id": "HwMQNtaR8fvt"
      },
      "execution_count": null,
      "outputs": []
    },
    {
      "cell_type": "code",
      "source": [
        "X1.head(1)"
      ],
      "metadata": {
        "colab": {
          "base_uri": "https://localhost:8080/",
          "height": 81
        },
        "id": "1bui2LcF85c-",
        "outputId": "13b9be69-7883-4617-e4dd-715aa2cf88ef"
      },
      "execution_count": null,
      "outputs": [
        {
          "output_type": "execute_result",
          "data": {
            "text/plain": [
              "         HR  interval_seconds     NNRR      AVNN          SDNN  RMSSD  pNN50  \\\n",
              "0  0.272231           0.23126  0.74681  0.228993  8.846869e-08    0.0    0.0   \n",
              "\n",
              "         TP  ULF  VLF   LF   HF     LF_HF  \n",
              "0  0.092931  0.0  0.0  0.0  0.0  0.340745  "
            ],
            "text/html": [
              "\n",
              "  <div id=\"df-ca470f11-5f2a-4be0-8a37-959ea78209e7\">\n",
              "    <div class=\"colab-df-container\">\n",
              "      <div>\n",
              "<style scoped>\n",
              "    .dataframe tbody tr th:only-of-type {\n",
              "        vertical-align: middle;\n",
              "    }\n",
              "\n",
              "    .dataframe tbody tr th {\n",
              "        vertical-align: top;\n",
              "    }\n",
              "\n",
              "    .dataframe thead th {\n",
              "        text-align: right;\n",
              "    }\n",
              "</style>\n",
              "<table border=\"1\" class=\"dataframe\">\n",
              "  <thead>\n",
              "    <tr style=\"text-align: right;\">\n",
              "      <th></th>\n",
              "      <th>HR</th>\n",
              "      <th>interval_seconds</th>\n",
              "      <th>NNRR</th>\n",
              "      <th>AVNN</th>\n",
              "      <th>SDNN</th>\n",
              "      <th>RMSSD</th>\n",
              "      <th>pNN50</th>\n",
              "      <th>TP</th>\n",
              "      <th>ULF</th>\n",
              "      <th>VLF</th>\n",
              "      <th>LF</th>\n",
              "      <th>HF</th>\n",
              "      <th>LF_HF</th>\n",
              "    </tr>\n",
              "  </thead>\n",
              "  <tbody>\n",
              "    <tr>\n",
              "      <th>0</th>\n",
              "      <td>0.272231</td>\n",
              "      <td>0.23126</td>\n",
              "      <td>0.74681</td>\n",
              "      <td>0.228993</td>\n",
              "      <td>8.846869e-08</td>\n",
              "      <td>0.0</td>\n",
              "      <td>0.0</td>\n",
              "      <td>0.092931</td>\n",
              "      <td>0.0</td>\n",
              "      <td>0.0</td>\n",
              "      <td>0.0</td>\n",
              "      <td>0.0</td>\n",
              "      <td>0.340745</td>\n",
              "    </tr>\n",
              "  </tbody>\n",
              "</table>\n",
              "</div>\n",
              "      <button class=\"colab-df-convert\" onclick=\"convertToInteractive('df-ca470f11-5f2a-4be0-8a37-959ea78209e7')\"\n",
              "              title=\"Convert this dataframe to an interactive table.\"\n",
              "              style=\"display:none;\">\n",
              "        \n",
              "  <svg xmlns=\"http://www.w3.org/2000/svg\" height=\"24px\"viewBox=\"0 0 24 24\"\n",
              "       width=\"24px\">\n",
              "    <path d=\"M0 0h24v24H0V0z\" fill=\"none\"/>\n",
              "    <path d=\"M18.56 5.44l.94 2.06.94-2.06 2.06-.94-2.06-.94-.94-2.06-.94 2.06-2.06.94zm-11 1L8.5 8.5l.94-2.06 2.06-.94-2.06-.94L8.5 2.5l-.94 2.06-2.06.94zm10 10l.94 2.06.94-2.06 2.06-.94-2.06-.94-.94-2.06-.94 2.06-2.06.94z\"/><path d=\"M17.41 7.96l-1.37-1.37c-.4-.4-.92-.59-1.43-.59-.52 0-1.04.2-1.43.59L10.3 9.45l-7.72 7.72c-.78.78-.78 2.05 0 2.83L4 21.41c.39.39.9.59 1.41.59.51 0 1.02-.2 1.41-.59l7.78-7.78 2.81-2.81c.8-.78.8-2.07 0-2.86zM5.41 20L4 18.59l7.72-7.72 1.47 1.35L5.41 20z\"/>\n",
              "  </svg>\n",
              "      </button>\n",
              "      \n",
              "  <style>\n",
              "    .colab-df-container {\n",
              "      display:flex;\n",
              "      flex-wrap:wrap;\n",
              "      gap: 12px;\n",
              "    }\n",
              "\n",
              "    .colab-df-convert {\n",
              "      background-color: #E8F0FE;\n",
              "      border: none;\n",
              "      border-radius: 50%;\n",
              "      cursor: pointer;\n",
              "      display: none;\n",
              "      fill: #1967D2;\n",
              "      height: 32px;\n",
              "      padding: 0 0 0 0;\n",
              "      width: 32px;\n",
              "    }\n",
              "\n",
              "    .colab-df-convert:hover {\n",
              "      background-color: #E2EBFA;\n",
              "      box-shadow: 0px 1px 2px rgba(60, 64, 67, 0.3), 0px 1px 3px 1px rgba(60, 64, 67, 0.15);\n",
              "      fill: #174EA6;\n",
              "    }\n",
              "\n",
              "    [theme=dark] .colab-df-convert {\n",
              "      background-color: #3B4455;\n",
              "      fill: #D2E3FC;\n",
              "    }\n",
              "\n",
              "    [theme=dark] .colab-df-convert:hover {\n",
              "      background-color: #434B5C;\n",
              "      box-shadow: 0px 1px 3px 1px rgba(0, 0, 0, 0.15);\n",
              "      filter: drop-shadow(0px 1px 2px rgba(0, 0, 0, 0.3));\n",
              "      fill: #FFFFFF;\n",
              "    }\n",
              "  </style>\n",
              "\n",
              "      <script>\n",
              "        const buttonEl =\n",
              "          document.querySelector('#df-ca470f11-5f2a-4be0-8a37-959ea78209e7 button.colab-df-convert');\n",
              "        buttonEl.style.display =\n",
              "          google.colab.kernel.accessAllowed ? 'block' : 'none';\n",
              "\n",
              "        async function convertToInteractive(key) {\n",
              "          const element = document.querySelector('#df-ca470f11-5f2a-4be0-8a37-959ea78209e7');\n",
              "          const dataTable =\n",
              "            await google.colab.kernel.invokeFunction('convertToInteractive',\n",
              "                                                     [key], {});\n",
              "          if (!dataTable) return;\n",
              "\n",
              "          const docLinkHtml = 'Like what you see? Visit the ' +\n",
              "            '<a target=\"_blank\" href=https://colab.research.google.com/notebooks/data_table.ipynb>data table notebook</a>'\n",
              "            + ' to learn more about interactive tables.';\n",
              "          element.innerHTML = '';\n",
              "          dataTable['output_type'] = 'display_data';\n",
              "          await google.colab.output.renderOutput(dataTable, element);\n",
              "          const docLink = document.createElement('div');\n",
              "          docLink.innerHTML = docLinkHtml;\n",
              "          element.appendChild(docLink);\n",
              "        }\n",
              "      </script>\n",
              "    </div>\n",
              "  </div>\n",
              "  "
            ]
          },
          "metadata": {},
          "execution_count": 42
        }
      ]
    },
    {
      "cell_type": "code",
      "source": [
        "X1_train, X1_test, y1_train, y1_test = train_test_split(X1, y, test_size = 0.20)"
      ],
      "metadata": {
        "id": "5CE9mkbg9TJF"
      },
      "execution_count": null,
      "outputs": []
    },
    {
      "cell_type": "code",
      "source": [
        "X1_train.head(1)"
      ],
      "metadata": {
        "colab": {
          "base_uri": "https://localhost:8080/",
          "height": 81
        },
        "id": "Eo-oG3tl9c15",
        "outputId": "16eb0e9c-599d-42c2-a8ab-26cf6886d61e"
      },
      "execution_count": null,
      "outputs": [
        {
          "output_type": "execute_result",
          "data": {
            "text/plain": [
              "            HR  interval_seconds      NNRR      AVNN      SDNN     RMSSD  \\\n",
              "1059  0.199105          0.265225  0.660057  0.266636  0.182278  0.173107   \n",
              "\n",
              "         pNN50        TP       ULF  VLF   LF   HF     LF_HF  \n",
              "1059  0.180878  0.014853  0.014963  0.0  0.0  0.0  0.340745  "
            ],
            "text/html": [
              "\n",
              "  <div id=\"df-9c6fe68f-9499-42d7-ba4e-0f019e94923d\">\n",
              "    <div class=\"colab-df-container\">\n",
              "      <div>\n",
              "<style scoped>\n",
              "    .dataframe tbody tr th:only-of-type {\n",
              "        vertical-align: middle;\n",
              "    }\n",
              "\n",
              "    .dataframe tbody tr th {\n",
              "        vertical-align: top;\n",
              "    }\n",
              "\n",
              "    .dataframe thead th {\n",
              "        text-align: right;\n",
              "    }\n",
              "</style>\n",
              "<table border=\"1\" class=\"dataframe\">\n",
              "  <thead>\n",
              "    <tr style=\"text-align: right;\">\n",
              "      <th></th>\n",
              "      <th>HR</th>\n",
              "      <th>interval_seconds</th>\n",
              "      <th>NNRR</th>\n",
              "      <th>AVNN</th>\n",
              "      <th>SDNN</th>\n",
              "      <th>RMSSD</th>\n",
              "      <th>pNN50</th>\n",
              "      <th>TP</th>\n",
              "      <th>ULF</th>\n",
              "      <th>VLF</th>\n",
              "      <th>LF</th>\n",
              "      <th>HF</th>\n",
              "      <th>LF_HF</th>\n",
              "    </tr>\n",
              "  </thead>\n",
              "  <tbody>\n",
              "    <tr>\n",
              "      <th>1059</th>\n",
              "      <td>0.199105</td>\n",
              "      <td>0.265225</td>\n",
              "      <td>0.660057</td>\n",
              "      <td>0.266636</td>\n",
              "      <td>0.182278</td>\n",
              "      <td>0.173107</td>\n",
              "      <td>0.180878</td>\n",
              "      <td>0.014853</td>\n",
              "      <td>0.014963</td>\n",
              "      <td>0.0</td>\n",
              "      <td>0.0</td>\n",
              "      <td>0.0</td>\n",
              "      <td>0.340745</td>\n",
              "    </tr>\n",
              "  </tbody>\n",
              "</table>\n",
              "</div>\n",
              "      <button class=\"colab-df-convert\" onclick=\"convertToInteractive('df-9c6fe68f-9499-42d7-ba4e-0f019e94923d')\"\n",
              "              title=\"Convert this dataframe to an interactive table.\"\n",
              "              style=\"display:none;\">\n",
              "        \n",
              "  <svg xmlns=\"http://www.w3.org/2000/svg\" height=\"24px\"viewBox=\"0 0 24 24\"\n",
              "       width=\"24px\">\n",
              "    <path d=\"M0 0h24v24H0V0z\" fill=\"none\"/>\n",
              "    <path d=\"M18.56 5.44l.94 2.06.94-2.06 2.06-.94-2.06-.94-.94-2.06-.94 2.06-2.06.94zm-11 1L8.5 8.5l.94-2.06 2.06-.94-2.06-.94L8.5 2.5l-.94 2.06-2.06.94zm10 10l.94 2.06.94-2.06 2.06-.94-2.06-.94-.94-2.06-.94 2.06-2.06.94z\"/><path d=\"M17.41 7.96l-1.37-1.37c-.4-.4-.92-.59-1.43-.59-.52 0-1.04.2-1.43.59L10.3 9.45l-7.72 7.72c-.78.78-.78 2.05 0 2.83L4 21.41c.39.39.9.59 1.41.59.51 0 1.02-.2 1.41-.59l7.78-7.78 2.81-2.81c.8-.78.8-2.07 0-2.86zM5.41 20L4 18.59l7.72-7.72 1.47 1.35L5.41 20z\"/>\n",
              "  </svg>\n",
              "      </button>\n",
              "      \n",
              "  <style>\n",
              "    .colab-df-container {\n",
              "      display:flex;\n",
              "      flex-wrap:wrap;\n",
              "      gap: 12px;\n",
              "    }\n",
              "\n",
              "    .colab-df-convert {\n",
              "      background-color: #E8F0FE;\n",
              "      border: none;\n",
              "      border-radius: 50%;\n",
              "      cursor: pointer;\n",
              "      display: none;\n",
              "      fill: #1967D2;\n",
              "      height: 32px;\n",
              "      padding: 0 0 0 0;\n",
              "      width: 32px;\n",
              "    }\n",
              "\n",
              "    .colab-df-convert:hover {\n",
              "      background-color: #E2EBFA;\n",
              "      box-shadow: 0px 1px 2px rgba(60, 64, 67, 0.3), 0px 1px 3px 1px rgba(60, 64, 67, 0.15);\n",
              "      fill: #174EA6;\n",
              "    }\n",
              "\n",
              "    [theme=dark] .colab-df-convert {\n",
              "      background-color: #3B4455;\n",
              "      fill: #D2E3FC;\n",
              "    }\n",
              "\n",
              "    [theme=dark] .colab-df-convert:hover {\n",
              "      background-color: #434B5C;\n",
              "      box-shadow: 0px 1px 3px 1px rgba(0, 0, 0, 0.15);\n",
              "      filter: drop-shadow(0px 1px 2px rgba(0, 0, 0, 0.3));\n",
              "      fill: #FFFFFF;\n",
              "    }\n",
              "  </style>\n",
              "\n",
              "      <script>\n",
              "        const buttonEl =\n",
              "          document.querySelector('#df-9c6fe68f-9499-42d7-ba4e-0f019e94923d button.colab-df-convert');\n",
              "        buttonEl.style.display =\n",
              "          google.colab.kernel.accessAllowed ? 'block' : 'none';\n",
              "\n",
              "        async function convertToInteractive(key) {\n",
              "          const element = document.querySelector('#df-9c6fe68f-9499-42d7-ba4e-0f019e94923d');\n",
              "          const dataTable =\n",
              "            await google.colab.kernel.invokeFunction('convertToInteractive',\n",
              "                                                     [key], {});\n",
              "          if (!dataTable) return;\n",
              "\n",
              "          const docLinkHtml = 'Like what you see? Visit the ' +\n",
              "            '<a target=\"_blank\" href=https://colab.research.google.com/notebooks/data_table.ipynb>data table notebook</a>'\n",
              "            + ' to learn more about interactive tables.';\n",
              "          element.innerHTML = '';\n",
              "          dataTable['output_type'] = 'display_data';\n",
              "          await google.colab.output.renderOutput(dataTable, element);\n",
              "          const docLink = document.createElement('div');\n",
              "          docLink.innerHTML = docLinkHtml;\n",
              "          element.appendChild(docLink);\n",
              "        }\n",
              "      </script>\n",
              "    </div>\n",
              "  </div>\n",
              "  "
            ]
          },
          "metadata": {},
          "execution_count": 44
        }
      ]
    },
    {
      "cell_type": "markdown",
      "source": [
        "## Random Forest Model"
      ],
      "metadata": {
        "id": "uWX_BhaUtmOl"
      }
    },
    {
      "cell_type": "code",
      "source": [
        "# Using the Randomized Search \n",
        "from sklearn.ensemble import RandomForestClassifier\n",
        "from sklearn.model_selection import RandomizedSearchCV\n",
        "import numpy as np\n",
        "\n",
        "def rf_model(X1_train, X1_test, y1_train, y1_test):\n",
        "    # Define the model\n",
        "    rfc = RandomForestClassifier()\n",
        "    \n",
        "    # Define the range of values for each hyperparameter\n",
        "    param_dist = {'n_estimators': np.arange(10, 401, 50),\n",
        "                  'max_depth': [None, 5, 10, 12, 14],\n",
        "                  'min_samples_split': np.arange(2, 15, 2)}\n",
        "    \n",
        "    # Create the RandomizedSearchCV object\n",
        "    random_search = RandomizedSearchCV(estimator=rfc, param_distributions=param_dist, n_iter=20, cv=5, scoring='accuracy', random_state=0)\n",
        "    \n",
        "    # Fit the RandomizedSearchCV object to the data\n",
        "    random_search.fit(X1_train, y1_train)\n",
        "    \n",
        "    # Print the best hyperparameters\n",
        "    print(\"Best parameters: \",random_search.best_params_)\n",
        "    \n",
        "    # Print the best score\n",
        "    print(\"Best score: \",random_search.best_score_)\n",
        "    \n",
        "    # Use the best hyperparameters to create the final model\n",
        "    model_rf1 = RandomForestClassifier(**random_search.best_params_)\n",
        "    model_rf1.fit(X1_train, y1_train)\n",
        "    y_pred1 = model_rf1.predict(X1_test)\n",
        "    return model_rf1, y_pred1\n",
        "\n",
        "model_rf1, y_pred1 = rf_model(X1_train, X1_test, y1_train, y1_test)\n"
      ],
      "metadata": {
        "colab": {
          "base_uri": "https://localhost:8080/"
        },
        "id": "T14r_nK5z4lM",
        "outputId": "2828a500-6e1a-485c-e63d-13099bbbf4cd"
      },
      "execution_count": null,
      "outputs": [
        {
          "output_type": "stream",
          "name": "stdout",
          "text": [
            "Best parameters:  {'n_estimators': 160, 'min_samples_split': 12, 'max_depth': 10}\n",
            "Best score:  0.602488622754491\n"
          ]
        }
      ]
    },
    {
      "cell_type": "code",
      "source": [
        "# Using Grid Seaarch\n",
        "from sklearn.ensemble import RandomForestClassifier\n",
        "from sklearn.model_selection import GridSearchCV\n",
        "\n",
        "def rf_model(X1_train, X1_test, y1_train, y1_test):\n",
        "    # Define the model\n",
        "    rfc = RandomForestClassifier()\n",
        "    \n",
        "    # Define the range of values for each hyperparameter\n",
        "    param_grid = {'n_estimators': [10, 50, 100, 200, 400],\n",
        "                  'max_depth': [None, 5, 10, 12, 14],\n",
        "                  'min_samples_split': [2, 5, 10, 12, 14]}\n",
        "    \n",
        "    # Create the GridSearchCV object\n",
        "    grid_search = GridSearchCV(estimator=rfc, param_grid=param_grid, cv=5, scoring='accuracy')\n",
        "    \n",
        "    # Fit the GridSearchCV object to the data\n",
        "    grid_search.fit(X1_train, y1_train)\n",
        "    \n",
        "    # Print the best hyperparameters\n",
        "    print(\"Best parameters: \",grid_search.best_params_)\n",
        "    \n",
        "    # Print the best score\n",
        "    print(\"Best score: \",grid_search.best_score_)\n",
        "    \n",
        "    # Use the best hyperparameters to create the final model\n",
        "    model_rf2 = RandomForestClassifier(**grid_search.best_params_)\n",
        "    model_rf2.fit(X1_train, y1_train)\n",
        "    y_pred2 = model_rf2.predict(X1_test)\n",
        "    return model_rf2, y_pred2\n",
        "\n",
        "model_rf2, y_pred2 = rf_model(X1_train, X1_test, y1_train, y1_test)"
      ],
      "metadata": {
        "colab": {
          "base_uri": "https://localhost:8080/"
        },
        "id": "jQxnxeqStu6w",
        "outputId": "08be98b4-aa75-465a-c933-85740da6962f"
      },
      "execution_count": null,
      "outputs": [
        {
          "output_type": "stream",
          "name": "stdout",
          "text": [
            "Best parameters:  {'max_depth': 10, 'min_samples_split': 5, 'n_estimators': 100}\n",
            "Best score:  0.6064774451097804\n"
          ]
        }
      ]
    },
    {
      "cell_type": "code",
      "source": [
        "from sklearn.metrics import classification_report, confusion_matrix, accuracy_score\n",
        "\n",
        "# Evaluation Metrics on Train for RandomForestClassifier using Randomized Search\n",
        "y_pred1 = model_rf1.predict(X1_train)\n",
        "def metrics(y1_train, y_pred1):\n",
        "  y_pred1 = model_rf1.predict(X1_train)\n",
        "  print(classification_report(y1_train, y_pred1))\n",
        "  print()\n",
        "  print('Confusion Matrix: \\n', confusion_matrix(y1_train, y_pred1))\n",
        "  print()\n",
        "  print('Accuracy: ', accuracy_score(y1_train, y_pred1))\n",
        "\n",
        "# Evaluation Metrics on Train for RandomForestClassifier using Grid Search\n",
        "y_pred2 = model_rf2.predict(X1_train)\n",
        "def metrics2(y1_train, y_pred2):\n",
        "  y_pred2 = model_rf2.predict(X1_train)\n",
        "  print(classification_report(y1_train, y_pred2))\n",
        "  print()\n",
        "  print('Confusion Matrix: \\n', confusion_matrix(y1_train, y_pred2))\n",
        "  print()\n",
        "  print('Accuracy: ', accuracy_score(y1_train, y_pred2))\n",
        "\n",
        "\n",
        "display(metrics(y1_train, y_pred1))\n",
        "display(metrics2(y1_train, y_pred2))"
      ],
      "metadata": {
        "colab": {
          "base_uri": "https://localhost:8080/",
          "height": 658
        },
        "id": "IYMzgVYwufAY",
        "outputId": "3b1a0366-f59a-46f7-a26b-14dcba51608c"
      },
      "execution_count": null,
      "outputs": [
        {
          "output_type": "stream",
          "name": "stdout",
          "text": [
            "              precision    recall  f1-score   support\n",
            "\n",
            "         0.0       0.87      0.62      0.72       656\n",
            "         1.0       0.63      0.94      0.76      1202\n",
            "         2.0       0.87      0.33      0.48       645\n",
            "\n",
            "    accuracy                           0.70      2503\n",
            "   macro avg       0.79      0.63      0.65      2503\n",
            "weighted avg       0.76      0.70      0.68      2503\n",
            "\n",
            "\n",
            "Confusion Matrix: \n",
            " [[ 408  239    9]\n",
            " [  49 1130   23]\n",
            " [  14  415  216]]\n",
            "\n",
            "Accuracy:  0.7007590890930883\n"
          ]
        },
        {
          "output_type": "display_data",
          "data": {
            "text/plain": [
              "None"
            ]
          },
          "metadata": {}
        },
        {
          "output_type": "stream",
          "name": "stdout",
          "text": [
            "              precision    recall  f1-score   support\n",
            "\n",
            "         0.0       0.88      0.66      0.75       656\n",
            "         1.0       0.66      0.95      0.78      1202\n",
            "         2.0       0.90      0.39      0.55       645\n",
            "\n",
            "    accuracy                           0.73      2503\n",
            "   macro avg       0.81      0.67      0.69      2503\n",
            "weighted avg       0.78      0.73      0.71      2503\n",
            "\n",
            "\n",
            "Confusion Matrix: \n",
            " [[ 430  217    9]\n",
            " [  47 1137   18]\n",
            " [  13  378  254]]\n",
            "\n",
            "Accuracy:  0.7275269676388334\n"
          ]
        },
        {
          "output_type": "display_data",
          "data": {
            "text/plain": [
              "None"
            ]
          },
          "metadata": {}
        }
      ]
    },
    {
      "cell_type": "code",
      "source": [
        "# Evaluation Metrics on Test for RandomForestClassifier using Randomized Search\n",
        "y_pred = model_rf1.predict(X1_test)\n",
        "def metrics(y1_test, y_pred1):\n",
        "  y_pred1 = model_rf1.predict(X1_test)\n",
        "  print(classification_report(y1_test, y_pred1))\n",
        "  print()\n",
        "  print('Confusion Matrix: \\n', confusion_matrix(y1_test, y_pred1))\n",
        "  print()\n",
        "  print('Accuracy: ', accuracy_score(y1_test, y_pred1))\n",
        "\n",
        "# Evaluation Metrics on Test for RandomForestClassifier using Grid Search\n",
        "y_pred2 = model_rf2.predict(X1_test)\n",
        "def metrics2(y1_test, y_pred2):\n",
        "  y_pred2 = model_rf2.predict(X1_test)\n",
        "  print(classification_report(y1_test, y_pred2))\n",
        "  print()\n",
        "  print('Confusion Matrix: \\n', confusion_matrix(y1_test, y_pred2))\n",
        "  print()\n",
        "  print('Accuracy: ', accuracy_score(y1_test, y_pred2))\n",
        "\n",
        "\n",
        "metrics(y1_test, y_pred1)\n",
        "metrics2(y1_test, y_pred2)"
      ],
      "metadata": {
        "colab": {
          "base_uri": "https://localhost:8080/"
        },
        "id": "G17BbK7VwGQ0",
        "outputId": "26a60b34-4e08-4536-8a4e-ea1f68a181ce"
      },
      "execution_count": null,
      "outputs": [
        {
          "output_type": "stream",
          "name": "stdout",
          "text": [
            "              precision    recall  f1-score   support\n",
            "\n",
            "         0.0       0.73      0.47      0.58       198\n",
            "         1.0       0.57      0.83      0.67       300\n",
            "         2.0       0.56      0.25      0.35       128\n",
            "\n",
            "    accuracy                           0.60       626\n",
            "   macro avg       0.62      0.52      0.53       626\n",
            "weighted avg       0.62      0.60      0.58       626\n",
            "\n",
            "\n",
            "Confusion Matrix: \n",
            " [[ 94  98   6]\n",
            " [ 31 250  19]\n",
            " [  3  93  32]]\n",
            "\n",
            "Accuracy:  0.6006389776357828\n",
            "              precision    recall  f1-score   support\n",
            "\n",
            "         0.0       0.72      0.49      0.58       198\n",
            "         1.0       0.57      0.81      0.67       300\n",
            "         2.0       0.54      0.28      0.37       128\n",
            "\n",
            "    accuracy                           0.60       626\n",
            "   macro avg       0.61      0.53      0.54       626\n",
            "weighted avg       0.61      0.60      0.58       626\n",
            "\n",
            "\n",
            "Confusion Matrix: \n",
            " [[ 97  93   8]\n",
            " [ 34 243  23]\n",
            " [  3  89  36]]\n",
            "\n",
            "Accuracy:  0.6006389776357828\n"
          ]
        }
      ]
    },
    {
      "cell_type": "code",
      "source": [
        "print('Model RF using Randomized Search Train Score', model_rf1.score(X1_train, y1_train))\n",
        "print('Model RF using Randomized Search Test Score', model_rf1.score(X1_test, y1_test))\n",
        "print()\n",
        "print('Model RF using Grid Search Train Score', model_rf2.score(X1_train, y1_train))\n",
        "print('Model RF using Grid Search Test Score', model_rf2.score(X1_test, y1_test))"
      ],
      "metadata": {
        "colab": {
          "base_uri": "https://localhost:8080/"
        },
        "id": "MVg3d1KmwZaY",
        "outputId": "51aef88d-5b2f-4b72-8f3d-8b36ac7af103"
      },
      "execution_count": null,
      "outputs": [
        {
          "output_type": "stream",
          "name": "stdout",
          "text": [
            "Model RF using Randomized Search Train Score 0.7007590890930883\n",
            "Model RF using Randomized Search Test Score 0.6006389776357828\n",
            "\n",
            "Model RF using Grid Search Train Score 0.7275269676388334\n",
            "Model RF using Grid Search Test Score 0.6006389776357828\n"
          ]
        }
      ]
    },
    {
      "cell_type": "code",
      "source": [
        "# X2 is df2\n",
        "kaggle_pred = model_rf1.predict(X2)\n",
        "kaggle_pred.shape"
      ],
      "metadata": {
        "colab": {
          "base_uri": "https://localhost:8080/"
        },
        "id": "Ntek1ubi5Xld",
        "outputId": "be0a7815-a7b3-4ee4-cf3b-02e1c22f1d4a"
      },
      "execution_count": null,
      "outputs": [
        {
          "output_type": "execute_result",
          "data": {
            "text/plain": [
              "(1000,)"
            ]
          },
          "metadata": {},
          "execution_count": 50
        }
      ]
    },
    {
      "cell_type": "code",
      "source": [
        "kaggle_pred2 = model_rf2.predict(X2)"
      ],
      "metadata": {
        "id": "oMUXbM267xki"
      },
      "execution_count": null,
      "outputs": []
    },
    {
      "cell_type": "markdown",
      "source": [
        "## Model 1 Gave me the best score so far 0.57"
      ],
      "metadata": {
        "id": "M0mGt-EFAu1s"
      }
    },
    {
      "cell_type": "code",
      "source": [
        "# Create a DataFrame with the ID and prediction columns\n",
        "submission = pd.DataFrame({'Id': df2.index, 'Stress': kaggle_pred})\n",
        "\n",
        "# Write the DataFrame to a CSV file\n",
        "submission.to_csv('RF_3.csv', index=False)"
      ],
      "metadata": {
        "id": "LRIFCnv3QuVg"
      },
      "execution_count": null,
      "outputs": []
    },
    {
      "cell_type": "code",
      "source": [
        "# Create a DataFrame with the ID and prediction columns\n",
        "submission = pd.DataFrame({'Id': df2.index, 'Stress': kaggle_pred2})\n",
        "\n",
        "# Write the DataFrame to a CSV file\n",
        "submission.to_csv('RF_4.csv', index=False)"
      ],
      "metadata": {
        "id": "-tJChj-q75Sh"
      },
      "execution_count": null,
      "outputs": []
    },
    {
      "cell_type": "code",
      "source": [
        "y_pred = X2[['stress']]\n",
        "df2[['Id','stress']].to_csv('submission_RF.csv', index=False)"
      ],
      "metadata": {
        "id": "jAXXWyFFFKsV"
      },
      "execution_count": null,
      "outputs": []
    },
    {
      "cell_type": "code",
      "source": [],
      "metadata": {
        "id": "ElBWh9MG9_0-"
      },
      "execution_count": null,
      "outputs": []
    },
    {
      "cell_type": "markdown",
      "source": [
        "# Feature Selection 2"
      ],
      "metadata": {
        "id": "qb5WF3dw-Gav"
      }
    },
    {
      "cell_type": "code",
      "source": [
        "from sklearn.feature_selection import SelectPercentile\n",
        "from sklearn.feature_selection import mutual_info_classif"
      ],
      "metadata": {
        "id": "fS9cEgRn-I2x"
      },
      "execution_count": null,
      "outputs": []
    },
    {
      "cell_type": "code",
      "source": [
        "sp = SelectPercentile(mutual_info_classif, percentile=5)\n",
        "selectfeature2 = sp.fit(X_train, y_train)"
      ],
      "metadata": {
        "id": "RP9wampX-V68"
      },
      "execution_count": null,
      "outputs": []
    },
    {
      "cell_type": "code",
      "source": [
        "X_train.columns[selectfeature2.get_support()]"
      ],
      "metadata": {
        "colab": {
          "base_uri": "https://localhost:8080/"
        },
        "id": "gYcJkcqR-kqA",
        "outputId": "77e4f8fc-7109-4fe7-ffda-924f9c9c2fce"
      },
      "execution_count": null,
      "outputs": [
        {
          "output_type": "execute_result",
          "data": {
            "text/plain": [
              "Index(['AVNN'], dtype='object')"
            ]
          },
          "metadata": {},
          "execution_count": 56
        }
      ]
    },
    {
      "cell_type": "code",
      "source": [],
      "metadata": {
        "id": "i9bkNHEj-rZq"
      },
      "execution_count": null,
      "outputs": []
    },
    {
      "cell_type": "markdown",
      "source": [
        "# Train model"
      ],
      "metadata": {
        "id": "MKx-tMmB-7vs"
      }
    },
    {
      "cell_type": "code",
      "source": [
        "X_train.head(2)"
      ],
      "metadata": {
        "colab": {
          "base_uri": "https://localhost:8080/",
          "height": 112
        },
        "id": "OFPgr5ad_DNi",
        "outputId": "63874963-a40d-46d5-e758-1024df04e779"
      },
      "execution_count": null,
      "outputs": [
        {
          "output_type": "execute_result",
          "data": {
            "text/plain": [
              "            HR  interval_seconds     NNRR      AVNN      SDNN     RMSSD  \\\n",
              "693   0.244915          0.465203  0.46103  0.466160  0.130246  0.126551   \n",
              "2896  0.228646          0.215266  0.74681  0.215357  0.122377  0.117813   \n",
              "\n",
              "         pNN50        TP       ULF  VLF   LF   HF     LF_HF  \n",
              "693   0.099715  0.019726  0.019835  0.0  0.0  0.0  0.340745  \n",
              "2896  0.086420  0.019551  0.019660  0.0  0.0  0.0  0.340745  "
            ],
            "text/html": [
              "\n",
              "  <div id=\"df-b942fa5e-e187-476a-9afd-3577e6a61df5\">\n",
              "    <div class=\"colab-df-container\">\n",
              "      <div>\n",
              "<style scoped>\n",
              "    .dataframe tbody tr th:only-of-type {\n",
              "        vertical-align: middle;\n",
              "    }\n",
              "\n",
              "    .dataframe tbody tr th {\n",
              "        vertical-align: top;\n",
              "    }\n",
              "\n",
              "    .dataframe thead th {\n",
              "        text-align: right;\n",
              "    }\n",
              "</style>\n",
              "<table border=\"1\" class=\"dataframe\">\n",
              "  <thead>\n",
              "    <tr style=\"text-align: right;\">\n",
              "      <th></th>\n",
              "      <th>HR</th>\n",
              "      <th>interval_seconds</th>\n",
              "      <th>NNRR</th>\n",
              "      <th>AVNN</th>\n",
              "      <th>SDNN</th>\n",
              "      <th>RMSSD</th>\n",
              "      <th>pNN50</th>\n",
              "      <th>TP</th>\n",
              "      <th>ULF</th>\n",
              "      <th>VLF</th>\n",
              "      <th>LF</th>\n",
              "      <th>HF</th>\n",
              "      <th>LF_HF</th>\n",
              "    </tr>\n",
              "  </thead>\n",
              "  <tbody>\n",
              "    <tr>\n",
              "      <th>693</th>\n",
              "      <td>0.244915</td>\n",
              "      <td>0.465203</td>\n",
              "      <td>0.46103</td>\n",
              "      <td>0.466160</td>\n",
              "      <td>0.130246</td>\n",
              "      <td>0.126551</td>\n",
              "      <td>0.099715</td>\n",
              "      <td>0.019726</td>\n",
              "      <td>0.019835</td>\n",
              "      <td>0.0</td>\n",
              "      <td>0.0</td>\n",
              "      <td>0.0</td>\n",
              "      <td>0.340745</td>\n",
              "    </tr>\n",
              "    <tr>\n",
              "      <th>2896</th>\n",
              "      <td>0.228646</td>\n",
              "      <td>0.215266</td>\n",
              "      <td>0.74681</td>\n",
              "      <td>0.215357</td>\n",
              "      <td>0.122377</td>\n",
              "      <td>0.117813</td>\n",
              "      <td>0.086420</td>\n",
              "      <td>0.019551</td>\n",
              "      <td>0.019660</td>\n",
              "      <td>0.0</td>\n",
              "      <td>0.0</td>\n",
              "      <td>0.0</td>\n",
              "      <td>0.340745</td>\n",
              "    </tr>\n",
              "  </tbody>\n",
              "</table>\n",
              "</div>\n",
              "      <button class=\"colab-df-convert\" onclick=\"convertToInteractive('df-b942fa5e-e187-476a-9afd-3577e6a61df5')\"\n",
              "              title=\"Convert this dataframe to an interactive table.\"\n",
              "              style=\"display:none;\">\n",
              "        \n",
              "  <svg xmlns=\"http://www.w3.org/2000/svg\" height=\"24px\"viewBox=\"0 0 24 24\"\n",
              "       width=\"24px\">\n",
              "    <path d=\"M0 0h24v24H0V0z\" fill=\"none\"/>\n",
              "    <path d=\"M18.56 5.44l.94 2.06.94-2.06 2.06-.94-2.06-.94-.94-2.06-.94 2.06-2.06.94zm-11 1L8.5 8.5l.94-2.06 2.06-.94-2.06-.94L8.5 2.5l-.94 2.06-2.06.94zm10 10l.94 2.06.94-2.06 2.06-.94-2.06-.94-.94-2.06-.94 2.06-2.06.94z\"/><path d=\"M17.41 7.96l-1.37-1.37c-.4-.4-.92-.59-1.43-.59-.52 0-1.04.2-1.43.59L10.3 9.45l-7.72 7.72c-.78.78-.78 2.05 0 2.83L4 21.41c.39.39.9.59 1.41.59.51 0 1.02-.2 1.41-.59l7.78-7.78 2.81-2.81c.8-.78.8-2.07 0-2.86zM5.41 20L4 18.59l7.72-7.72 1.47 1.35L5.41 20z\"/>\n",
              "  </svg>\n",
              "      </button>\n",
              "      \n",
              "  <style>\n",
              "    .colab-df-container {\n",
              "      display:flex;\n",
              "      flex-wrap:wrap;\n",
              "      gap: 12px;\n",
              "    }\n",
              "\n",
              "    .colab-df-convert {\n",
              "      background-color: #E8F0FE;\n",
              "      border: none;\n",
              "      border-radius: 50%;\n",
              "      cursor: pointer;\n",
              "      display: none;\n",
              "      fill: #1967D2;\n",
              "      height: 32px;\n",
              "      padding: 0 0 0 0;\n",
              "      width: 32px;\n",
              "    }\n",
              "\n",
              "    .colab-df-convert:hover {\n",
              "      background-color: #E2EBFA;\n",
              "      box-shadow: 0px 1px 2px rgba(60, 64, 67, 0.3), 0px 1px 3px 1px rgba(60, 64, 67, 0.15);\n",
              "      fill: #174EA6;\n",
              "    }\n",
              "\n",
              "    [theme=dark] .colab-df-convert {\n",
              "      background-color: #3B4455;\n",
              "      fill: #D2E3FC;\n",
              "    }\n",
              "\n",
              "    [theme=dark] .colab-df-convert:hover {\n",
              "      background-color: #434B5C;\n",
              "      box-shadow: 0px 1px 3px 1px rgba(0, 0, 0, 0.15);\n",
              "      filter: drop-shadow(0px 1px 2px rgba(0, 0, 0, 0.3));\n",
              "      fill: #FFFFFF;\n",
              "    }\n",
              "  </style>\n",
              "\n",
              "      <script>\n",
              "        const buttonEl =\n",
              "          document.querySelector('#df-b942fa5e-e187-476a-9afd-3577e6a61df5 button.colab-df-convert');\n",
              "        buttonEl.style.display =\n",
              "          google.colab.kernel.accessAllowed ? 'block' : 'none';\n",
              "\n",
              "        async function convertToInteractive(key) {\n",
              "          const element = document.querySelector('#df-b942fa5e-e187-476a-9afd-3577e6a61df5');\n",
              "          const dataTable =\n",
              "            await google.colab.kernel.invokeFunction('convertToInteractive',\n",
              "                                                     [key], {});\n",
              "          if (!dataTable) return;\n",
              "\n",
              "          const docLinkHtml = 'Like what you see? Visit the ' +\n",
              "            '<a target=\"_blank\" href=https://colab.research.google.com/notebooks/data_table.ipynb>data table notebook</a>'\n",
              "            + ' to learn more about interactive tables.';\n",
              "          element.innerHTML = '';\n",
              "          dataTable['output_type'] = 'display_data';\n",
              "          await google.colab.output.renderOutput(dataTable, element);\n",
              "          const docLink = document.createElement('div');\n",
              "          docLink.innerHTML = docLinkHtml;\n",
              "          element.appendChild(docLink);\n",
              "        }\n",
              "      </script>\n",
              "    </div>\n",
              "  </div>\n",
              "  "
            ]
          },
          "metadata": {},
          "execution_count": 57
        }
      ]
    },
    {
      "cell_type": "code",
      "source": [
        "model2 = AdaBoostClassifier()\n",
        "model2.fit(X_train, y_train)"
      ],
      "metadata": {
        "colab": {
          "base_uri": "https://localhost:8080/"
        },
        "id": "DF1S-zrY--mT",
        "outputId": "238c7f57-3435-454f-a05b-d5983f41cd6d"
      },
      "execution_count": null,
      "outputs": [
        {
          "output_type": "execute_result",
          "data": {
            "text/plain": [
              "AdaBoostClassifier()"
            ]
          },
          "metadata": {},
          "execution_count": 58
        }
      ]
    },
    {
      "cell_type": "code",
      "source": [
        "print('train score', model2.score(X_train, y_train))\n",
        "print('test score', model2.score(X_test, y_test))"
      ],
      "metadata": {
        "colab": {
          "base_uri": "https://localhost:8080/"
        },
        "id": "u8ANT4pn_k3Q",
        "outputId": "5177bfb5-af9a-42f8-89ff-de445d8e4d3b"
      },
      "execution_count": null,
      "outputs": [
        {
          "output_type": "stream",
          "name": "stdout",
          "text": [
            "train score 0.5900918897323212\n",
            "test score 0.5559105431309904\n"
          ]
        }
      ]
    },
    {
      "cell_type": "code",
      "source": [
        "from sklearn.tree import DecisionTreeClassifier\n",
        "dt = DecisionTreeClassifier(random_state=0)\n",
        "\n",
        "ada = AdaBoostClassifier(base_estimator=dt,random_state=0)\n",
        "model2.fit(X_train, y_train)"
      ],
      "metadata": {
        "colab": {
          "base_uri": "https://localhost:8080/"
        },
        "id": "SwqejuudAWhm",
        "outputId": "bd47f0fd-87cb-41f5-f61b-138183235e6b"
      },
      "execution_count": null,
      "outputs": [
        {
          "output_type": "execute_result",
          "data": {
            "text/plain": [
              "AdaBoostClassifier()"
            ]
          },
          "metadata": {},
          "execution_count": 60
        }
      ]
    },
    {
      "cell_type": "code",
      "source": [
        "imp = model2.feature_importances_\n",
        "imp = pd.DataFrame(imp)"
      ],
      "metadata": {
        "id": "UVs0XdbcAZxx"
      },
      "execution_count": null,
      "outputs": []
    },
    {
      "cell_type": "code",
      "source": [
        "feature = X_train.columns\n",
        "feature = pd.DataFrame(feature)"
      ],
      "metadata": {
        "id": "z4YzdihpBPqM"
      },
      "execution_count": null,
      "outputs": []
    },
    {
      "cell_type": "code",
      "source": [
        "importfeature = pd.concat([imp, feature], axis =1)\n",
        "importfeature.columns=['importance', 'feature']"
      ],
      "metadata": {
        "id": "Vyw3RqtIBYRx"
      },
      "execution_count": null,
      "outputs": []
    },
    {
      "cell_type": "code",
      "source": [
        "importfeature"
      ],
      "metadata": {
        "colab": {
          "base_uri": "https://localhost:8080/",
          "height": 457
        },
        "id": "AuEshB5bCGwn",
        "outputId": "f5e7c7b9-2959-4901-a2dc-f47f6bd142de"
      },
      "execution_count": null,
      "outputs": [
        {
          "output_type": "execute_result",
          "data": {
            "text/plain": [
              "    importance           feature\n",
              "0         0.18                HR\n",
              "1         0.14  interval_seconds\n",
              "2         0.00              NNRR\n",
              "3         0.26              AVNN\n",
              "4         0.10              SDNN\n",
              "5         0.04             RMSSD\n",
              "6         0.04             pNN50\n",
              "7         0.10                TP\n",
              "8         0.06               ULF\n",
              "9         0.06               VLF\n",
              "10        0.00                LF\n",
              "11        0.00                HF\n",
              "12        0.02             LF_HF"
            ],
            "text/html": [
              "\n",
              "  <div id=\"df-5097af1b-ee70-4ee6-b117-3ddd1b6422f7\">\n",
              "    <div class=\"colab-df-container\">\n",
              "      <div>\n",
              "<style scoped>\n",
              "    .dataframe tbody tr th:only-of-type {\n",
              "        vertical-align: middle;\n",
              "    }\n",
              "\n",
              "    .dataframe tbody tr th {\n",
              "        vertical-align: top;\n",
              "    }\n",
              "\n",
              "    .dataframe thead th {\n",
              "        text-align: right;\n",
              "    }\n",
              "</style>\n",
              "<table border=\"1\" class=\"dataframe\">\n",
              "  <thead>\n",
              "    <tr style=\"text-align: right;\">\n",
              "      <th></th>\n",
              "      <th>importance</th>\n",
              "      <th>feature</th>\n",
              "    </tr>\n",
              "  </thead>\n",
              "  <tbody>\n",
              "    <tr>\n",
              "      <th>0</th>\n",
              "      <td>0.18</td>\n",
              "      <td>HR</td>\n",
              "    </tr>\n",
              "    <tr>\n",
              "      <th>1</th>\n",
              "      <td>0.14</td>\n",
              "      <td>interval_seconds</td>\n",
              "    </tr>\n",
              "    <tr>\n",
              "      <th>2</th>\n",
              "      <td>0.00</td>\n",
              "      <td>NNRR</td>\n",
              "    </tr>\n",
              "    <tr>\n",
              "      <th>3</th>\n",
              "      <td>0.26</td>\n",
              "      <td>AVNN</td>\n",
              "    </tr>\n",
              "    <tr>\n",
              "      <th>4</th>\n",
              "      <td>0.10</td>\n",
              "      <td>SDNN</td>\n",
              "    </tr>\n",
              "    <tr>\n",
              "      <th>5</th>\n",
              "      <td>0.04</td>\n",
              "      <td>RMSSD</td>\n",
              "    </tr>\n",
              "    <tr>\n",
              "      <th>6</th>\n",
              "      <td>0.04</td>\n",
              "      <td>pNN50</td>\n",
              "    </tr>\n",
              "    <tr>\n",
              "      <th>7</th>\n",
              "      <td>0.10</td>\n",
              "      <td>TP</td>\n",
              "    </tr>\n",
              "    <tr>\n",
              "      <th>8</th>\n",
              "      <td>0.06</td>\n",
              "      <td>ULF</td>\n",
              "    </tr>\n",
              "    <tr>\n",
              "      <th>9</th>\n",
              "      <td>0.06</td>\n",
              "      <td>VLF</td>\n",
              "    </tr>\n",
              "    <tr>\n",
              "      <th>10</th>\n",
              "      <td>0.00</td>\n",
              "      <td>LF</td>\n",
              "    </tr>\n",
              "    <tr>\n",
              "      <th>11</th>\n",
              "      <td>0.00</td>\n",
              "      <td>HF</td>\n",
              "    </tr>\n",
              "    <tr>\n",
              "      <th>12</th>\n",
              "      <td>0.02</td>\n",
              "      <td>LF_HF</td>\n",
              "    </tr>\n",
              "  </tbody>\n",
              "</table>\n",
              "</div>\n",
              "      <button class=\"colab-df-convert\" onclick=\"convertToInteractive('df-5097af1b-ee70-4ee6-b117-3ddd1b6422f7')\"\n",
              "              title=\"Convert this dataframe to an interactive table.\"\n",
              "              style=\"display:none;\">\n",
              "        \n",
              "  <svg xmlns=\"http://www.w3.org/2000/svg\" height=\"24px\"viewBox=\"0 0 24 24\"\n",
              "       width=\"24px\">\n",
              "    <path d=\"M0 0h24v24H0V0z\" fill=\"none\"/>\n",
              "    <path d=\"M18.56 5.44l.94 2.06.94-2.06 2.06-.94-2.06-.94-.94-2.06-.94 2.06-2.06.94zm-11 1L8.5 8.5l.94-2.06 2.06-.94-2.06-.94L8.5 2.5l-.94 2.06-2.06.94zm10 10l.94 2.06.94-2.06 2.06-.94-2.06-.94-.94-2.06-.94 2.06-2.06.94z\"/><path d=\"M17.41 7.96l-1.37-1.37c-.4-.4-.92-.59-1.43-.59-.52 0-1.04.2-1.43.59L10.3 9.45l-7.72 7.72c-.78.78-.78 2.05 0 2.83L4 21.41c.39.39.9.59 1.41.59.51 0 1.02-.2 1.41-.59l7.78-7.78 2.81-2.81c.8-.78.8-2.07 0-2.86zM5.41 20L4 18.59l7.72-7.72 1.47 1.35L5.41 20z\"/>\n",
              "  </svg>\n",
              "      </button>\n",
              "      \n",
              "  <style>\n",
              "    .colab-df-container {\n",
              "      display:flex;\n",
              "      flex-wrap:wrap;\n",
              "      gap: 12px;\n",
              "    }\n",
              "\n",
              "    .colab-df-convert {\n",
              "      background-color: #E8F0FE;\n",
              "      border: none;\n",
              "      border-radius: 50%;\n",
              "      cursor: pointer;\n",
              "      display: none;\n",
              "      fill: #1967D2;\n",
              "      height: 32px;\n",
              "      padding: 0 0 0 0;\n",
              "      width: 32px;\n",
              "    }\n",
              "\n",
              "    .colab-df-convert:hover {\n",
              "      background-color: #E2EBFA;\n",
              "      box-shadow: 0px 1px 2px rgba(60, 64, 67, 0.3), 0px 1px 3px 1px rgba(60, 64, 67, 0.15);\n",
              "      fill: #174EA6;\n",
              "    }\n",
              "\n",
              "    [theme=dark] .colab-df-convert {\n",
              "      background-color: #3B4455;\n",
              "      fill: #D2E3FC;\n",
              "    }\n",
              "\n",
              "    [theme=dark] .colab-df-convert:hover {\n",
              "      background-color: #434B5C;\n",
              "      box-shadow: 0px 1px 3px 1px rgba(0, 0, 0, 0.15);\n",
              "      filter: drop-shadow(0px 1px 2px rgba(0, 0, 0, 0.3));\n",
              "      fill: #FFFFFF;\n",
              "    }\n",
              "  </style>\n",
              "\n",
              "      <script>\n",
              "        const buttonEl =\n",
              "          document.querySelector('#df-5097af1b-ee70-4ee6-b117-3ddd1b6422f7 button.colab-df-convert');\n",
              "        buttonEl.style.display =\n",
              "          google.colab.kernel.accessAllowed ? 'block' : 'none';\n",
              "\n",
              "        async function convertToInteractive(key) {\n",
              "          const element = document.querySelector('#df-5097af1b-ee70-4ee6-b117-3ddd1b6422f7');\n",
              "          const dataTable =\n",
              "            await google.colab.kernel.invokeFunction('convertToInteractive',\n",
              "                                                     [key], {});\n",
              "          if (!dataTable) return;\n",
              "\n",
              "          const docLinkHtml = 'Like what you see? Visit the ' +\n",
              "            '<a target=\"_blank\" href=https://colab.research.google.com/notebooks/data_table.ipynb>data table notebook</a>'\n",
              "            + ' to learn more about interactive tables.';\n",
              "          element.innerHTML = '';\n",
              "          dataTable['output_type'] = 'display_data';\n",
              "          await google.colab.output.renderOutput(dataTable, element);\n",
              "          const docLink = document.createElement('div');\n",
              "          docLink.innerHTML = docLinkHtml;\n",
              "          element.appendChild(docLink);\n",
              "        }\n",
              "      </script>\n",
              "    </div>\n",
              "  </div>\n",
              "  "
            ]
          },
          "metadata": {},
          "execution_count": 64
        }
      ]
    },
    {
      "cell_type": "code",
      "source": [
        "import seaborn as sns\n",
        "import matplotlib.pyplot as plt\n",
        "\n",
        "sns.barplot(x=importfeature['feature'], y = importfeature['importance'])\n",
        "plt.tick_params(rotation = 90)"
      ],
      "metadata": {
        "colab": {
          "base_uri": "https://localhost:8080/",
          "height": 353
        },
        "id": "7o3Gwgj5BliF",
        "outputId": "655fa816-f506-49b6-f649-8e92bb5c1a5d"
      },
      "execution_count": null,
      "outputs": [
        {
          "output_type": "display_data",
          "data": {
            "text/plain": [
              "<Figure size 432x288 with 1 Axes>"
            ],
            "image/png": "[encoded data removed]"
          },
          "metadata": {
            "needs_background": "light"
          }
        }
      ]
    },
    {
      "cell_type": "code",
      "source": [
        "from sklearn.preprocessing import StandardScaler\n",
        "scaler = StandardScaler()\n",
        "X_train_scaled = scaler.fit_transform(X_train_selected)\n",
        "X_test_scaled = scaler.transform(X_test_selected)\n",
        "\n",
        "# Train your machine learning model using X_train_scaled and y_train\n",
        "model = model1\n",
        "model.fit(X_train_scaled, y_train)\n",
        "\n",
        "# Evaluate the model using X_test_scaled and y_test\n",
        "accuracy = model.score(X_test_scaled, y_test)\n",
        "print('Accuracy:', accuracy)\n"
      ],
      "metadata": {
        "colab": {
          "base_uri": "https://localhost:8080/"
        },
        "id": "66-GnsHkIilE",
        "outputId": "3efc4375-64f3-4aa7-e9c5-a7a24a88928d"
      },
      "execution_count": null,
      "outputs": [
        {
          "output_type": "stream",
          "name": "stdout",
          "text": [
            "Accuracy: 0.5559105431309904\n"
          ]
        }
      ]
    },
    {
      "cell_type": "code",
      "source": [
        "X = df[['HR', 'interval_seconds', 'AVNN', 'SDNN', 'TP']]"
      ],
      "metadata": {
        "id": "dfVihUG8CWFv"
      },
      "execution_count": null,
      "outputs": []
    },
    {
      "cell_type": "code",
      "source": [
        "X.head()"
      ],
      "metadata": {
        "colab": {
          "base_uri": "https://localhost:8080/",
          "height": 206
        },
        "id": "IRon1gBFDVG8",
        "outputId": "92ff0a30-adfc-4fb9-ab47-001f0a77ff96"
      },
      "execution_count": null,
      "outputs": [
        {
          "output_type": "execute_result",
          "data": {
            "text/plain": [
              "           HR  interval_seconds      AVNN      SDNN        TP\n",
              "0  108.329447          0.668183  0.666800  0.006600  0.030690\n",
              "1   91.074128          0.666800  0.666800  0.006600  0.030690\n",
              "2   92.201787          0.666800  0.666800  0.006600  0.030690\n",
              "3   94.776255          0.666800  0.666800  0.006600  0.030690\n",
              "4   83.305717          0.676691  0.676911  0.030424  0.000548"
            ],
            "text/html": [
              "\n",
              "  <div id=\"df-79e8c101-920a-4aae-80fe-a8f07f19ec46\">\n",
              "    <div class=\"colab-df-container\">\n",
              "      <div>\n",
              "<style scoped>\n",
              "    .dataframe tbody tr th:only-of-type {\n",
              "        vertical-align: middle;\n",
              "    }\n",
              "\n",
              "    .dataframe tbody tr th {\n",
              "        vertical-align: top;\n",
              "    }\n",
              "\n",
              "    .dataframe thead th {\n",
              "        text-align: right;\n",
              "    }\n",
              "</style>\n",
              "<table border=\"1\" class=\"dataframe\">\n",
              "  <thead>\n",
              "    <tr style=\"text-align: right;\">\n",
              "      <th></th>\n",
              "      <th>HR</th>\n",
              "      <th>interval_seconds</th>\n",
              "      <th>AVNN</th>\n",
              "      <th>SDNN</th>\n",
              "      <th>TP</th>\n",
              "    </tr>\n",
              "  </thead>\n",
              "  <tbody>\n",
              "    <tr>\n",
              "      <th>0</th>\n",
              "      <td>108.329447</td>\n",
              "      <td>0.668183</td>\n",
              "      <td>0.666800</td>\n",
              "      <td>0.006600</td>\n",
              "      <td>0.030690</td>\n",
              "    </tr>\n",
              "    <tr>\n",
              "      <th>1</th>\n",
              "      <td>91.074128</td>\n",
              "      <td>0.666800</td>\n",
              "      <td>0.666800</td>\n",
              "      <td>0.006600</td>\n",
              "      <td>0.030690</td>\n",
              "    </tr>\n",
              "    <tr>\n",
              "      <th>2</th>\n",
              "      <td>92.201787</td>\n",
              "      <td>0.666800</td>\n",
              "      <td>0.666800</td>\n",
              "      <td>0.006600</td>\n",
              "      <td>0.030690</td>\n",
              "    </tr>\n",
              "    <tr>\n",
              "      <th>3</th>\n",
              "      <td>94.776255</td>\n",
              "      <td>0.666800</td>\n",
              "      <td>0.666800</td>\n",
              "      <td>0.006600</td>\n",
              "      <td>0.030690</td>\n",
              "    </tr>\n",
              "    <tr>\n",
              "      <th>4</th>\n",
              "      <td>83.305717</td>\n",
              "      <td>0.676691</td>\n",
              "      <td>0.676911</td>\n",
              "      <td>0.030424</td>\n",
              "      <td>0.000548</td>\n",
              "    </tr>\n",
              "  </tbody>\n",
              "</table>\n",
              "</div>\n",
              "      <button class=\"colab-df-convert\" onclick=\"convertToInteractive('df-79e8c101-920a-4aae-80fe-a8f07f19ec46')\"\n",
              "              title=\"Convert this dataframe to an interactive table.\"\n",
              "              style=\"display:none;\">\n",
              "        \n",
              "  <svg xmlns=\"http://www.w3.org/2000/svg\" height=\"24px\"viewBox=\"0 0 24 24\"\n",
              "       width=\"24px\">\n",
              "    <path d=\"M0 0h24v24H0V0z\" fill=\"none\"/>\n",
              "    <path d=\"M18.56 5.44l.94 2.06.94-2.06 2.06-.94-2.06-.94-.94-2.06-.94 2.06-2.06.94zm-11 1L8.5 8.5l.94-2.06 2.06-.94-2.06-.94L8.5 2.5l-.94 2.06-2.06.94zm10 10l.94 2.06.94-2.06 2.06-.94-2.06-.94-.94-2.06-.94 2.06-2.06.94z\"/><path d=\"M17.41 7.96l-1.37-1.37c-.4-.4-.92-.59-1.43-.59-.52 0-1.04.2-1.43.59L10.3 9.45l-7.72 7.72c-.78.78-.78 2.05 0 2.83L4 21.41c.39.39.9.59 1.41.59.51 0 1.02-.2 1.41-.59l7.78-7.78 2.81-2.81c.8-.78.8-2.07 0-2.86zM5.41 20L4 18.59l7.72-7.72 1.47 1.35L5.41 20z\"/>\n",
              "  </svg>\n",
              "      </button>\n",
              "      \n",
              "  <style>\n",
              "    .colab-df-container {\n",
              "      display:flex;\n",
              "      flex-wrap:wrap;\n",
              "      gap: 12px;\n",
              "    }\n",
              "\n",
              "    .colab-df-convert {\n",
              "      background-color: #E8F0FE;\n",
              "      border: none;\n",
              "      border-radius: 50%;\n",
              "      cursor: pointer;\n",
              "      display: none;\n",
              "      fill: #1967D2;\n",
              "      height: 32px;\n",
              "      padding: 0 0 0 0;\n",
              "      width: 32px;\n",
              "    }\n",
              "\n",
              "    .colab-df-convert:hover {\n",
              "      background-color: #E2EBFA;\n",
              "      box-shadow: 0px 1px 2px rgba(60, 64, 67, 0.3), 0px 1px 3px 1px rgba(60, 64, 67, 0.15);\n",
              "      fill: #174EA6;\n",
              "    }\n",
              "\n",
              "    [theme=dark] .colab-df-convert {\n",
              "      background-color: #3B4455;\n",
              "      fill: #D2E3FC;\n",
              "    }\n",
              "\n",
              "    [theme=dark] .colab-df-convert:hover {\n",
              "      background-color: #434B5C;\n",
              "      box-shadow: 0px 1px 3px 1px rgba(0, 0, 0, 0.15);\n",
              "      filter: drop-shadow(0px 1px 2px rgba(0, 0, 0, 0.3));\n",
              "      fill: #FFFFFF;\n",
              "    }\n",
              "  </style>\n",
              "\n",
              "      <script>\n",
              "        const buttonEl =\n",
              "          document.querySelector('#df-79e8c101-920a-4aae-80fe-a8f07f19ec46 button.colab-df-convert');\n",
              "        buttonEl.style.display =\n",
              "          google.colab.kernel.accessAllowed ? 'block' : 'none';\n",
              "\n",
              "        async function convertToInteractive(key) {\n",
              "          const element = document.querySelector('#df-79e8c101-920a-4aae-80fe-a8f07f19ec46');\n",
              "          const dataTable =\n",
              "            await google.colab.kernel.invokeFunction('convertToInteractive',\n",
              "                                                     [key], {});\n",
              "          if (!dataTable) return;\n",
              "\n",
              "          const docLinkHtml = 'Like what you see? Visit the ' +\n",
              "            '<a target=\"_blank\" href=https://colab.research.google.com/notebooks/data_table.ipynb>data table notebook</a>'\n",
              "            + ' to learn more about interactive tables.';\n",
              "          element.innerHTML = '';\n",
              "          dataTable['output_type'] = 'display_data';\n",
              "          await google.colab.output.renderOutput(dataTable, element);\n",
              "          const docLink = document.createElement('div');\n",
              "          docLink.innerHTML = docLinkHtml;\n",
              "          element.appendChild(docLink);\n",
              "        }\n",
              "      </script>\n",
              "    </div>\n",
              "  </div>\n",
              "  "
            ]
          },
          "metadata": {},
          "execution_count": 68
        }
      ]
    },
    {
      "cell_type": "code",
      "source": [
        "X_train, X_test, y_train, y_test = train_test_split(X, y, test_size = 0.20)"
      ],
      "metadata": {
        "id": "BqjiMcK2DW-Q"
      },
      "execution_count": null,
      "outputs": []
    },
    {
      "cell_type": "code",
      "source": [
        "print(X_train.shape)\n",
        "print(y_train.shape)\n",
        "print(X_test.shape)\n",
        "print(y_test.shape)"
      ],
      "metadata": {
        "colab": {
          "base_uri": "https://localhost:8080/"
        },
        "id": "UzMDQKGtLQVG",
        "outputId": "de31cb73-13b0-4d90-9caf-49d8876c58dc"
      },
      "execution_count": null,
      "outputs": [
        {
          "output_type": "stream",
          "name": "stdout",
          "text": [
            "(2503, 5)\n",
            "(2503,)\n",
            "(626, 5)\n",
            "(626,)\n"
          ]
        }
      ]
    },
    {
      "cell_type": "code",
      "source": [
        "print(df2.columns)\n",
        "print()\n",
        "print(df2.shape)"
      ],
      "metadata": {
        "colab": {
          "base_uri": "https://localhost:8080/"
        },
        "id": "r_2zrvRjLSzT",
        "outputId": "4b4901e0-5eab-4c18-d048-aeab421fb9ce"
      },
      "execution_count": null,
      "outputs": [
        {
          "output_type": "stream",
          "name": "stdout",
          "text": [
            "Index(['HR', 'interval_seconds', 'NNRR', 'AVNN', 'SDNN', 'RMSSD', 'pNN50',\n",
            "       'TP', 'ULF', 'VLF', 'LF', 'HF', 'LF_HF'],\n",
            "      dtype='object')\n",
            "\n",
            "(1000, 13)\n"
          ]
        }
      ]
    },
    {
      "cell_type": "code",
      "source": [
        "X_train.head()"
      ],
      "metadata": {
        "colab": {
          "base_uri": "https://localhost:8080/",
          "height": 206
        },
        "id": "m4oVxamcD-dR",
        "outputId": "78dcd06b-4f3e-4a7d-b465-34c260d28450"
      },
      "execution_count": null,
      "outputs": [
        {
          "output_type": "execute_result",
          "data": {
            "text/plain": [
              "             HR  interval_seconds      AVNN      SDNN        TP\n",
              "144   84.522478          0.669757  0.669822  0.080472  0.017705\n",
              "1854  85.985636          0.712436  0.713498  0.054045  0.016046\n",
              "1735  82.089949          0.844262  0.843826  0.050792  0.026305\n",
              "2888  93.478383          0.673715  0.673865  0.027055  0.006697\n",
              "2654  77.564600          0.635000  0.635657  0.105080  0.163145"
            ],
            "text/html": [
              "\n",
              "  <div id=\"df-c7abaa46-028f-43e7-96b9-ae37bd72677f\">\n",
              "    <div class=\"colab-df-container\">\n",
              "      <div>\n",
              "<style scoped>\n",
              "    .dataframe tbody tr th:only-of-type {\n",
              "        vertical-align: middle;\n",
              "    }\n",
              "\n",
              "    .dataframe tbody tr th {\n",
              "        vertical-align: top;\n",
              "    }\n",
              "\n",
              "    .dataframe thead th {\n",
              "        text-align: right;\n",
              "    }\n",
              "</style>\n",
              "<table border=\"1\" class=\"dataframe\">\n",
              "  <thead>\n",
              "    <tr style=\"text-align: right;\">\n",
              "      <th></th>\n",
              "      <th>HR</th>\n",
              "      <th>interval_seconds</th>\n",
              "      <th>AVNN</th>\n",
              "      <th>SDNN</th>\n",
              "      <th>TP</th>\n",
              "    </tr>\n",
              "  </thead>\n",
              "  <tbody>\n",
              "    <tr>\n",
              "      <th>144</th>\n",
              "      <td>84.522478</td>\n",
              "      <td>0.669757</td>\n",
              "      <td>0.669822</td>\n",
              "      <td>0.080472</td>\n",
              "      <td>0.017705</td>\n",
              "    </tr>\n",
              "    <tr>\n",
              "      <th>1854</th>\n",
              "      <td>85.985636</td>\n",
              "      <td>0.712436</td>\n",
              "      <td>0.713498</td>\n",
              "      <td>0.054045</td>\n",
              "      <td>0.016046</td>\n",
              "    </tr>\n",
              "    <tr>\n",
              "      <th>1735</th>\n",
              "      <td>82.089949</td>\n",
              "      <td>0.844262</td>\n",
              "      <td>0.843826</td>\n",
              "      <td>0.050792</td>\n",
              "      <td>0.026305</td>\n",
              "    </tr>\n",
              "    <tr>\n",
              "      <th>2888</th>\n",
              "      <td>93.478383</td>\n",
              "      <td>0.673715</td>\n",
              "      <td>0.673865</td>\n",
              "      <td>0.027055</td>\n",
              "      <td>0.006697</td>\n",
              "    </tr>\n",
              "    <tr>\n",
              "      <th>2654</th>\n",
              "      <td>77.564600</td>\n",
              "      <td>0.635000</td>\n",
              "      <td>0.635657</td>\n",
              "      <td>0.105080</td>\n",
              "      <td>0.163145</td>\n",
              "    </tr>\n",
              "  </tbody>\n",
              "</table>\n",
              "</div>\n",
              "      <button class=\"colab-df-convert\" onclick=\"convertToInteractive('df-c7abaa46-028f-43e7-96b9-ae37bd72677f')\"\n",
              "              title=\"Convert this dataframe to an interactive table.\"\n",
              "              style=\"display:none;\">\n",
              "        \n",
              "  <svg xmlns=\"http://www.w3.org/2000/svg\" height=\"24px\"viewBox=\"0 0 24 24\"\n",
              "       width=\"24px\">\n",
              "    <path d=\"M0 0h24v24H0V0z\" fill=\"none\"/>\n",
              "    <path d=\"M18.56 5.44l.94 2.06.94-2.06 2.06-.94-2.06-.94-.94-2.06-.94 2.06-2.06.94zm-11 1L8.5 8.5l.94-2.06 2.06-.94-2.06-.94L8.5 2.5l-.94 2.06-2.06.94zm10 10l.94 2.06.94-2.06 2.06-.94-2.06-.94-.94-2.06-.94 2.06-2.06.94z\"/><path d=\"M17.41 7.96l-1.37-1.37c-.4-.4-.92-.59-1.43-.59-.52 0-1.04.2-1.43.59L10.3 9.45l-7.72 7.72c-.78.78-.78 2.05 0 2.83L4 21.41c.39.39.9.59 1.41.59.51 0 1.02-.2 1.41-.59l7.78-7.78 2.81-2.81c.8-.78.8-2.07 0-2.86zM5.41 20L4 18.59l7.72-7.72 1.47 1.35L5.41 20z\"/>\n",
              "  </svg>\n",
              "      </button>\n",
              "      \n",
              "  <style>\n",
              "    .colab-df-container {\n",
              "      display:flex;\n",
              "      flex-wrap:wrap;\n",
              "      gap: 12px;\n",
              "    }\n",
              "\n",
              "    .colab-df-convert {\n",
              "      background-color: #E8F0FE;\n",
              "      border: none;\n",
              "      border-radius: 50%;\n",
              "      cursor: pointer;\n",
              "      display: none;\n",
              "      fill: #1967D2;\n",
              "      height: 32px;\n",
              "      padding: 0 0 0 0;\n",
              "      width: 32px;\n",
              "    }\n",
              "\n",
              "    .colab-df-convert:hover {\n",
              "      background-color: #E2EBFA;\n",
              "      box-shadow: 0px 1px 2px rgba(60, 64, 67, 0.3), 0px 1px 3px 1px rgba(60, 64, 67, 0.15);\n",
              "      fill: #174EA6;\n",
              "    }\n",
              "\n",
              "    [theme=dark] .colab-df-convert {\n",
              "      background-color: #3B4455;\n",
              "      fill: #D2E3FC;\n",
              "    }\n",
              "\n",
              "    [theme=dark] .colab-df-convert:hover {\n",
              "      background-color: #434B5C;\n",
              "      box-shadow: 0px 1px 3px 1px rgba(0, 0, 0, 0.15);\n",
              "      filter: drop-shadow(0px 1px 2px rgba(0, 0, 0, 0.3));\n",
              "      fill: #FFFFFF;\n",
              "    }\n",
              "  </style>\n",
              "\n",
              "      <script>\n",
              "        const buttonEl =\n",
              "          document.querySelector('#df-c7abaa46-028f-43e7-96b9-ae37bd72677f button.colab-df-convert');\n",
              "        buttonEl.style.display =\n",
              "          google.colab.kernel.accessAllowed ? 'block' : 'none';\n",
              "\n",
              "        async function convertToInteractive(key) {\n",
              "          const element = document.querySelector('#df-c7abaa46-028f-43e7-96b9-ae37bd72677f');\n",
              "          const dataTable =\n",
              "            await google.colab.kernel.invokeFunction('convertToInteractive',\n",
              "                                                     [key], {});\n",
              "          if (!dataTable) return;\n",
              "\n",
              "          const docLinkHtml = 'Like what you see? Visit the ' +\n",
              "            '<a target=\"_blank\" href=https://colab.research.google.com/notebooks/data_table.ipynb>data table notebook</a>'\n",
              "            + ' to learn more about interactive tables.';\n",
              "          element.innerHTML = '';\n",
              "          dataTable['output_type'] = 'display_data';\n",
              "          await google.colab.output.renderOutput(dataTable, element);\n",
              "          const docLink = document.createElement('div');\n",
              "          docLink.innerHTML = docLinkHtml;\n",
              "          element.appendChild(docLink);\n",
              "        }\n",
              "      </script>\n",
              "    </div>\n",
              "  </div>\n",
              "  "
            ]
          },
          "metadata": {},
          "execution_count": 72
        }
      ]
    },
    {
      "cell_type": "code",
      "source": [
        "model3 = AdaBoostClassifier()\n",
        "model3.fit(X_train, y_train)"
      ],
      "metadata": {
        "colab": {
          "base_uri": "https://localhost:8080/"
        },
        "id": "_uTNuh7PDzLK",
        "outputId": "43f4cf2e-48f1-488d-98e7-af4a8f25275b"
      },
      "execution_count": null,
      "outputs": [
        {
          "output_type": "execute_result",
          "data": {
            "text/plain": [
              "AdaBoostClassifier()"
            ]
          },
          "metadata": {},
          "execution_count": 74
        }
      ]
    },
    {
      "cell_type": "code",
      "source": [
        "print('train score', model3.score(X_train, y_train))\n",
        "print('test score', model3.score(X_test, y_test))"
      ],
      "metadata": {
        "colab": {
          "base_uri": "https://localhost:8080/"
        },
        "id": "zgSYigOWDuNE",
        "outputId": "bc007e0c-e5da-44d9-b5e6-c3289428ac6c"
      },
      "execution_count": null,
      "outputs": [
        {
          "output_type": "stream",
          "name": "stdout",
          "text": [
            "train score 0.5801038753495805\n",
            "test score 0.5543130990415336\n"
          ]
        }
      ]
    },
    {
      "cell_type": "code",
      "source": [
        "df2 = df2[['HR', 'interval_seconds', 'AVNN', 'SDNN', 'TP']]"
      ],
      "metadata": {
        "id": "Vi8tq5JRJqkA"
      },
      "execution_count": null,
      "outputs": []
    },
    {
      "cell_type": "code",
      "source": [
        "x2test = df2.values\n",
        "y_pred2 = model3.predict(x2test)\n",
        "\n",
        "print(y_pred2.shape)\n",
        "print(y_pred2)"
      ],
      "metadata": {
        "colab": {
          "base_uri": "https://localhost:8080/"
        },
        "id": "T4Qm8IchJdQ0",
        "outputId": "1d2d39a1-4e3d-4c62-e34b-0e83fab26788"
      },
      "execution_count": null,
      "outputs": [
        {
          "output_type": "stream",
          "name": "stdout",
          "text": [
            "(1000,)\n",
            "[1. 1. 1. 1. 1. 1. 1. 1. 1. 1. 1. 1. 0. 1. 0. 1. 1. 0. 2. 0. 0. 1. 1. 0.\n",
            " 0. 1. 1. 0. 1. 1. 1. 0. 1. 1. 1. 1. 1. 2. 1. 1. 1. 1. 0. 1. 1. 0. 1. 1.\n",
            " 1. 0. 1. 1. 1. 0. 1. 1. 1. 0. 1. 1. 1. 1. 1. 1. 1. 1. 1. 0. 1. 1. 1. 1.\n",
            " 1. 1. 1. 1. 0. 1. 1. 1. 0. 0. 1. 0. 2. 1. 2. 1. 1. 1. 1. 1. 0. 1. 1. 1.\n",
            " 1. 1. 0. 1. 1. 1. 1. 2. 0. 2. 1. 0. 1. 1. 0. 1. 2. 0. 1. 1. 1. 1. 1. 0.\n",
            " 0. 0. 1. 1. 1. 1. 0. 1. 1. 0. 1. 2. 1. 1. 1. 1. 1. 0. 1. 1. 2. 2. 1. 2.\n",
            " 1. 1. 1. 0. 1. 0. 0. 1. 1. 0. 1. 1. 1. 1. 1. 1. 0. 1. 0. 0. 1. 1. 1. 0.\n",
            " 1. 1. 1. 2. 1. 1. 0. 1. 1. 1. 1. 1. 1. 1. 0. 1. 1. 1. 1. 1. 0. 2. 1. 1.\n",
            " 1. 1. 2. 1. 1. 1. 0. 0. 1. 0. 1. 1. 1. 1. 1. 1. 1. 1. 1. 1. 1. 1. 1. 1.\n",
            " 0. 1. 1. 0. 1. 1. 1. 0. 1. 1. 1. 1. 1. 1. 1. 1. 1. 1. 0. 2. 1. 1. 1. 2.\n",
            " 1. 2. 1. 1. 1. 2. 1. 1. 0. 1. 1. 0. 1. 1. 1. 0. 1. 1. 0. 1. 2. 0. 1. 1.\n",
            " 1. 1. 1. 1. 1. 1. 1. 1. 1. 0. 0. 1. 1. 1. 0. 1. 1. 1. 1. 1. 1. 1. 1. 0.\n",
            " 1. 1. 1. 1. 1. 1. 0. 1. 1. 0. 1. 1. 1. 1. 1. 1. 1. 1. 1. 1. 1. 2. 1. 1.\n",
            " 1. 2. 0. 2. 1. 1. 1. 1. 1. 1. 1. 1. 0. 1. 1. 1. 1. 1. 0. 1. 0. 1. 1. 1.\n",
            " 0. 1. 0. 0. 1. 1. 1. 1. 0. 1. 0. 0. 1. 1. 1. 1. 2. 1. 1. 1. 0. 1. 1. 1.\n",
            " 1. 0. 1. 1. 1. 1. 2. 0. 0. 1. 1. 1. 0. 2. 1. 1. 1. 0. 1. 1. 1. 1. 1. 1.\n",
            " 1. 1. 1. 1. 1. 1. 1. 1. 1. 0. 2. 1. 1. 1. 1. 0. 0. 1. 1. 0. 1. 1. 1. 1.\n",
            " 1. 1. 1. 0. 2. 1. 0. 1. 1. 0. 1. 0. 2. 1. 1. 1. 1. 2. 1. 1. 1. 1. 0. 0.\n",
            " 1. 1. 1. 2. 0. 1. 1. 1. 1. 0. 1. 1. 1. 0. 1. 1. 1. 1. 1. 1. 1. 0. 1. 2.\n",
            " 0. 1. 1. 1. 1. 1. 1. 1. 1. 2. 0. 1. 1. 1. 1. 0. 1. 2. 1. 2. 1. 0. 1. 1.\n",
            " 1. 0. 1. 1. 1. 1. 1. 0. 1. 1. 2. 1. 1. 1. 2. 2. 1. 1. 1. 1. 1. 1. 1. 1.\n",
            " 1. 1. 0. 1. 1. 1. 1. 1. 1. 2. 1. 0. 2. 1. 1. 1. 1. 1. 1. 0. 0. 1. 1. 1.\n",
            " 1. 1. 0. 0. 1. 1. 1. 0. 1. 1. 1. 1. 0. 2. 1. 0. 2. 1. 1. 0. 1. 1. 1. 1.\n",
            " 1. 1. 0. 0. 0. 1. 1. 1. 0. 1. 1. 1. 2. 1. 1. 1. 1. 1. 1. 1. 1. 1. 1. 1.\n",
            " 1. 1. 0. 1. 1. 1. 1. 1. 1. 1. 1. 0. 1. 1. 1. 1. 1. 0. 2. 1. 1. 1. 0. 0.\n",
            " 1. 0. 0. 2. 1. 1. 1. 1. 1. 1. 0. 0. 1. 2. 1. 1. 1. 1. 1. 1. 2. 1. 2. 1.\n",
            " 1. 1. 1. 1. 1. 1. 1. 1. 1. 0. 1. 2. 1. 1. 1. 1. 1. 0. 0. 1. 1. 1. 0. 1.\n",
            " 0. 2. 1. 1. 0. 1. 1. 0. 1. 1. 1. 1. 1. 1. 1. 1. 1. 1. 1. 1. 2. 1. 1. 1.\n",
            " 1. 1. 1. 1. 1. 1. 1. 1. 2. 1. 0. 1. 1. 1. 1. 1. 1. 1. 1. 1. 1. 1. 1. 1.\n",
            " 0. 1. 0. 1. 1. 1. 1. 0. 1. 1. 0. 1. 1. 1. 0. 1. 2. 1. 1. 1. 0. 1. 1. 0.\n",
            " 1. 1. 1. 1. 1. 1. 1. 1. 1. 1. 0. 1. 1. 2. 0. 1. 1. 1. 1. 1. 2. 1. 1. 1.\n",
            " 1. 1. 1. 2. 1. 1. 1. 1. 1. 1. 1. 1. 1. 1. 1. 2. 1. 1. 1. 1. 0. 1. 1. 1.\n",
            " 1. 0. 0. 1. 1. 2. 1. 1. 0. 1. 1. 1. 1. 1. 1. 1. 1. 1. 1. 1. 0. 1. 1. 1.\n",
            " 0. 0. 2. 0. 1. 2. 0. 1. 1. 1. 0. 1. 1. 1. 1. 0. 0. 1. 2. 1. 1. 1. 1. 1.\n",
            " 1. 1. 1. 1. 1. 0. 1. 1. 1. 0. 0. 1. 0. 1. 0. 1. 1. 1. 1. 2. 1. 1. 1. 1.\n",
            " 1. 1. 1. 1. 1. 1. 0. 1. 1. 1. 1. 1. 1. 2. 0. 1. 1. 1. 1. 1. 1. 1. 1. 1.\n",
            " 0. 1. 1. 1. 1. 2. 1. 1. 1. 1. 1. 1. 1. 0. 1. 1. 1. 1. 1. 0. 1. 1. 0. 1.\n",
            " 1. 1. 1. 1. 1. 1. 1. 0. 1. 0. 1. 1. 1. 1. 0. 1. 0. 1. 0. 0. 1. 2. 1. 1.\n",
            " 1. 0. 1. 1. 1. 1. 0. 1. 1. 1. 1. 1. 1. 1. 0. 1. 0. 1. 1. 0. 1. 1. 1. 1.\n",
            " 0. 1. 0. 1. 1. 2. 1. 1. 0. 1. 1. 0. 0. 0. 1. 1. 1. 1. 1. 1. 1. 1. 1. 1.\n",
            " 1. 1. 1. 0. 1. 1. 1. 1. 0. 1. 0. 0. 1. 1. 1. 1. 1. 1. 0. 2. 1. 1. 1. 1.\n",
            " 1. 1. 1. 0. 0. 1. 1. 1. 1. 1. 0. 1. 0. 1. 1. 0.]\n"
          ]
        },
        {
          "output_type": "stream",
          "name": "stderr",
          "text": [
            "/usr/local/lib/python3.8/dist-packages/sklearn/base.py:450: UserWarning: X does not have valid feature names, but AdaBoostClassifier was fitted with feature names\n",
            "  warnings.warn(\n"
          ]
        }
      ]
    },
    {
      "cell_type": "code",
      "source": [
        "df2['stress'] = y_pred2\n",
        "df2[['Id','stress']].to_csv('submission_RF3.csv', index=False)"
      ],
      "metadata": {
        "id": "Vo7Oyyq3DuPp",
        "colab": {
          "base_uri": "https://localhost:8080/",
          "height": 462
        },
        "outputId": "c46bfc8a-f667-41c7-d438-9f0cd23be3e3"
      },
      "execution_count": null,
      "outputs": [
        {
          "output_type": "stream",
          "name": "stderr",
          "text": [
            "<ipython-input-83-2db99ea7f36f>:1: SettingWithCopyWarning: \n",
            "A value is trying to be set on a copy of a slice from a DataFrame.\n",
            "Try using .loc[row_indexer,col_indexer] = value instead\n",
            "\n",
            "See the caveats in the documentation: https://pandas.pydata.org/pandas-docs/stable/user_guide/indexing.html#returning-a-view-versus-a-copy\n",
            "  df2['stress'] = y_pred2\n"
          ]
        },
        {
          "output_type": "error",
          "ename": "KeyError",
          "evalue": "ignored",
          "traceback": [
            "\u001b[0;31m---------------------------------------------------------------------------\u001b[0m",
            "\u001b[0;31mKeyError\u001b[0m                                  Traceback (most recent call last)",
            "\u001b[0;32m<ipython-input-83-2db99ea7f36f>\u001b[0m in \u001b[0;36m<module>\u001b[0;34m\u001b[0m\n\u001b[1;32m      1\u001b[0m \u001b[0mdf2\u001b[0m\u001b[0;34m[\u001b[0m\u001b[0;34m'stress'\u001b[0m\u001b[0;34m]\u001b[0m \u001b[0;34m=\u001b[0m \u001b[0my_pred2\u001b[0m\u001b[0;34m\u001b[0m\u001b[0;34m\u001b[0m\u001b[0m\n\u001b[0;32m----> 2\u001b[0;31m \u001b[0mdf2\u001b[0m\u001b[0;34m[\u001b[0m\u001b[0;34m[\u001b[0m\u001b[0;34m'Id'\u001b[0m\u001b[0;34m,\u001b[0m\u001b[0;34m'stress'\u001b[0m\u001b[0;34m]\u001b[0m\u001b[0;34m]\u001b[0m\u001b[0;34m.\u001b[0m\u001b[0mto_csv\u001b[0m\u001b[0;34m(\u001b[0m\u001b[0;34m'submission_RF3.csv'\u001b[0m\u001b[0;34m,\u001b[0m \u001b[0mindex\u001b[0m\u001b[0;34m=\u001b[0m\u001b[0;32mFalse\u001b[0m\u001b[0;34m)\u001b[0m\u001b[0;34m\u001b[0m\u001b[0;34m\u001b[0m\u001b[0m\n\u001b[0m",
            "\u001b[0;32m/usr/local/lib/python3.8/dist-packages/pandas/core/frame.py\u001b[0m in \u001b[0;36m__getitem__\u001b[0;34m(self, key)\u001b[0m\n\u001b[1;32m   3462\u001b[0m             \u001b[0;32mif\u001b[0m \u001b[0mis_iterator\u001b[0m\u001b[0;34m(\u001b[0m\u001b[0mkey\u001b[0m\u001b[0;34m)\u001b[0m\u001b[0;34m:\u001b[0m\u001b[0;34m\u001b[0m\u001b[0;34m\u001b[0m\u001b[0m\n\u001b[1;32m   3463\u001b[0m                 \u001b[0mkey\u001b[0m \u001b[0;34m=\u001b[0m \u001b[0mlist\u001b[0m\u001b[0;34m(\u001b[0m\u001b[0mkey\u001b[0m\u001b[0;34m)\u001b[0m\u001b[0;34m\u001b[0m\u001b[0;34m\u001b[0m\u001b[0m\n\u001b[0;32m-> 3464\u001b[0;31m             \u001b[0mindexer\u001b[0m \u001b[0;34m=\u001b[0m \u001b[0mself\u001b[0m\u001b[0;34m.\u001b[0m\u001b[0mloc\u001b[0m\u001b[0;34m.\u001b[0m\u001b[0m_get_listlike_indexer\u001b[0m\u001b[0;34m(\u001b[0m\u001b[0mkey\u001b[0m\u001b[0;34m,\u001b[0m \u001b[0maxis\u001b[0m\u001b[0;34m=\u001b[0m\u001b[0;36m1\u001b[0m\u001b[0;34m)\u001b[0m\u001b[0;34m[\u001b[0m\u001b[0;36m1\u001b[0m\u001b[0;34m]\u001b[0m\u001b[0;34m\u001b[0m\u001b[0;34m\u001b[0m\u001b[0m\n\u001b[0m\u001b[1;32m   3465\u001b[0m \u001b[0;34m\u001b[0m\u001b[0m\n\u001b[1;32m   3466\u001b[0m         \u001b[0;31m# take() does not accept boolean indexers\u001b[0m\u001b[0;34m\u001b[0m\u001b[0;34m\u001b[0m\u001b[0;34m\u001b[0m\u001b[0m\n",
            "\u001b[0;32m/usr/local/lib/python3.8/dist-packages/pandas/core/indexing.py\u001b[0m in \u001b[0;36m_get_listlike_indexer\u001b[0;34m(self, key, axis)\u001b[0m\n\u001b[1;32m   1312\u001b[0m             \u001b[0mkeyarr\u001b[0m\u001b[0;34m,\u001b[0m \u001b[0mindexer\u001b[0m\u001b[0;34m,\u001b[0m \u001b[0mnew_indexer\u001b[0m \u001b[0;34m=\u001b[0m \u001b[0max\u001b[0m\u001b[0;34m.\u001b[0m\u001b[0m_reindex_non_unique\u001b[0m\u001b[0;34m(\u001b[0m\u001b[0mkeyarr\u001b[0m\u001b[0;34m)\u001b[0m\u001b[0;34m\u001b[0m\u001b[0;34m\u001b[0m\u001b[0m\n\u001b[1;32m   1313\u001b[0m \u001b[0;34m\u001b[0m\u001b[0m\n\u001b[0;32m-> 1314\u001b[0;31m         \u001b[0mself\u001b[0m\u001b[0;34m.\u001b[0m\u001b[0m_validate_read_indexer\u001b[0m\u001b[0;34m(\u001b[0m\u001b[0mkeyarr\u001b[0m\u001b[0;34m,\u001b[0m \u001b[0mindexer\u001b[0m\u001b[0;34m,\u001b[0m \u001b[0maxis\u001b[0m\u001b[0;34m)\u001b[0m\u001b[0;34m\u001b[0m\u001b[0;34m\u001b[0m\u001b[0m\n\u001b[0m\u001b[1;32m   1315\u001b[0m \u001b[0;34m\u001b[0m\u001b[0m\n\u001b[1;32m   1316\u001b[0m         if needs_i8_conversion(ax.dtype) or isinstance(\n",
            "\u001b[0;32m/usr/local/lib/python3.8/dist-packages/pandas/core/indexing.py\u001b[0m in \u001b[0;36m_validate_read_indexer\u001b[0;34m(self, key, indexer, axis)\u001b[0m\n\u001b[1;32m   1375\u001b[0m \u001b[0;34m\u001b[0m\u001b[0m\n\u001b[1;32m   1376\u001b[0m             \u001b[0mnot_found\u001b[0m \u001b[0;34m=\u001b[0m \u001b[0mlist\u001b[0m\u001b[0;34m(\u001b[0m\u001b[0mensure_index\u001b[0m\u001b[0;34m(\u001b[0m\u001b[0mkey\u001b[0m\u001b[0;34m)\u001b[0m\u001b[0;34m[\u001b[0m\u001b[0mmissing_mask\u001b[0m\u001b[0;34m.\u001b[0m\u001b[0mnonzero\u001b[0m\u001b[0;34m(\u001b[0m\u001b[0;34m)\u001b[0m\u001b[0;34m[\u001b[0m\u001b[0;36m0\u001b[0m\u001b[0;34m]\u001b[0m\u001b[0;34m]\u001b[0m\u001b[0;34m.\u001b[0m\u001b[0munique\u001b[0m\u001b[0;34m(\u001b[0m\u001b[0;34m)\u001b[0m\u001b[0;34m)\u001b[0m\u001b[0;34m\u001b[0m\u001b[0;34m\u001b[0m\u001b[0m\n\u001b[0;32m-> 1377\u001b[0;31m             \u001b[0;32mraise\u001b[0m \u001b[0mKeyError\u001b[0m\u001b[0;34m(\u001b[0m\u001b[0;34mf\"{not_found} not in index\"\u001b[0m\u001b[0;34m)\u001b[0m\u001b[0;34m\u001b[0m\u001b[0;34m\u001b[0m\u001b[0m\n\u001b[0m\u001b[1;32m   1378\u001b[0m \u001b[0;34m\u001b[0m\u001b[0m\n\u001b[1;32m   1379\u001b[0m \u001b[0;34m\u001b[0m\u001b[0m\n",
            "\u001b[0;31mKeyError\u001b[0m: \"['Id'] not in index\""
          ]
        }
      ]
    },
    {
      "cell_type": "code",
      "source": [],
      "metadata": {
        "id": "ve9nkakmDuRv"
      },
      "execution_count": null,
      "outputs": []
    },
    {
      "cell_type": "markdown",
      "source": [
        "# The Assignment "
      ],
      "metadata": {
        "id": "7t01O2Y25FF6"
      }
    },
    {
      "cell_type": "code",
      "source": [
        "# Load the csv files over here into pandas data frame\n",
        "# YOUR CODE HERE\n",
        "# 0.1\n",
        "def load_csv(file_name):\n",
        "  # Input: csv_file_name\n",
        "  # Output: pandas data frame"
      ],
      "metadata": {
        "id": "gCq-IU9L5IdU"
      },
      "execution_count": null,
      "outputs": []
    },
    {
      "cell_type": "markdown",
      "source": [
        "## Part 1 - Data cleaning, normalization and missing value fillup"
      ],
      "metadata": {
        "id": "ZlfHQD5E5ObZ"
      }
    },
    {
      "cell_type": "code",
      "source": [
        "def missing_filler1():\n",
        "  # Take input the raw data and fillup the missing values using first algorithm.\n",
        "  # YOUR CODE HERE"
      ],
      "metadata": {
        "id": "mlzTCQGM5LQN"
      },
      "execution_count": null,
      "outputs": []
    },
    {
      "cell_type": "code",
      "source": [
        "def missing_filler2():\n",
        "  # Take input the raw data and fillup the missing values using second algorithm.\n",
        "  # YOUR CODE HERE"
      ],
      "metadata": {
        "id": "J_fgOGVX5LSy"
      },
      "execution_count": null,
      "outputs": []
    },
    {
      "cell_type": "code",
      "source": [
        "def cleaning():\n",
        "  # Take all the features as input, and do any data cleaning necessary.\n",
        "  # YOUR CODE HERE"
      ],
      "metadata": {
        "id": "YAOnNWd-5LVe"
      },
      "execution_count": null,
      "outputs": []
    },
    {
      "cell_type": "code",
      "source": [
        "def normalizer():\n",
        "  # Taken input the output of cleaning function, and perform data normalization independently for all the features.\n",
        "  # YOUR CODE HERE"
      ],
      "metadata": {
        "id": "FfXmQWNa5LYF"
      },
      "execution_count": null,
      "outputs": []
    },
    {
      "cell_type": "markdown",
      "source": [
        "## Part 2 - Model training and testing"
      ],
      "metadata": {
        "id": "ZJ2FlU9a5cN7"
      }
    },
    {
      "cell_type": "code",
      "source": [
        "# Splitting the dataset into train, val and test sets.\n",
        "# 2.0\n",
        "X_train, X_test, y_train, y_test = train_test_split(X, y, test_size = 0.2)"
      ],
      "metadata": {
        "id": "_ytEPmHw5Lan"
      },
      "execution_count": null,
      "outputs": []
    },
    {
      "cell_type": "code",
      "source": [
        "# Code for different models used.\n",
        "\n",
        "def Model1():\n",
        "  # You can use the sci-kit learn solver but capture any other hyper-parameter settings\n",
        "  # or model settings in this method\n",
        "  # YOUR CODE HERE\n",
        "\n",
        "def Model2():\n",
        "  # You can use the sci-kit learn solver but capture any other hyper-parameter settings\n",
        "  # or model settings in this method\n",
        "  # YOUR CODE HERE\n",
        "\n",
        "def Model3():\n",
        "  # You can use the sci-kit learn solver but capture any other hyper-parameter settings\n",
        "  # or model settings in this method\n",
        "  # YOUR CODE HERE\n",
        "\n",
        "# Please also rename the model functions to reflect what it represents.\n",
        "# Discuss about the hyper-parameter/model settings in the report."
      ],
      "metadata": {
        "id": "_PY4_k1b5LdC"
      },
      "execution_count": null,
      "outputs": []
    },
    {
      "cell_type": "code",
      "source": [
        "# Create function which calculates F1score, precision, recall and accuracy score for true and predicted labels.\n",
        "def metrics(y_pred, y_true):\n",
        "  pass\n",
        "  # Takes input the predicted and true labels.\n",
        "  # Your code here for precision, recall, F1score, accuracy\n",
        "  # You can call this code to compute metrics for your models"
      ],
      "metadata": {
        "id": "NCUP53JW5Lfc"
      },
      "execution_count": null,
      "outputs": []
    },
    {
      "cell_type": "markdown",
      "source": [
        "## Part 3 - Interpretability"
      ],
      "metadata": {
        "id": "ZYH4BSDc5m6P"
      }
    },
    {
      "cell_type": "code",
      "source": [
        "# Look into using suitable functions from sklearn. Explain your code and findings clearly in the report document.\n",
        "# 3.1\n",
        "def FeatureImportance():\n",
        "  # Your code can based on measures of information gain or other feature selection methods\n",
        "  # Input: k - Number of features to pick\n",
        "  # Output should be a ranked list of features\n",
        "  # YOUR CODE HERE"
      ],
      "metadata": {
        "id": "KoauecGJ5Lhv"
      },
      "execution_count": null,
      "outputs": []
    },
    {
      "cell_type": "code",
      "source": [
        "def FeatureImportanceForPairs():\n",
        "  # Find the best pairs of features which are useful for making the prediction.\n",
        "  # HINT: Can be done in a model agnostic way through pair generation and ranking.\n",
        "  # YOUR CODE HERE"
      ],
      "metadata": {
        "id": "D9raTLJr5Lj1"
      },
      "execution_count": null,
      "outputs": []
    },
    {
      "cell_type": "code",
      "source": [
        "def dt_top_feat():\n",
        "    # Find the top 5 decision branches for the decision tree.\n",
        "    # YOUR CODE HERE"
      ],
      "metadata": {
        "id": "Saxan-Q05LmV"
      },
      "execution_count": null,
      "outputs": []
    }
  ]
}